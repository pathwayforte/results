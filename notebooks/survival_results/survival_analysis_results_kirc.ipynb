{
 "cells": [
  {
   "cell_type": "markdown",
   "metadata": {},
   "source": [
    "# Survival analysis on TCGA gene expression data "
   ]
  },
  {
   "cell_type": "code",
   "execution_count": 48,
   "metadata": {},
   "outputs": [],
   "source": [
    "import matplotlib.pyplot as plt \n",
    "import numpy as np\n",
    "import pandas as pd\n",
    "import seaborn as sns"
   ]
  },
  {
   "cell_type": "code",
   "execution_count": 2,
   "metadata": {},
   "outputs": [],
   "source": [
    "%matplotlib inline"
   ]
  },
  {
   "cell_type": "markdown",
   "metadata": {},
   "source": [
    "## Survival analysis PRAD"
   ]
  },
  {
   "cell_type": "code",
   "execution_count": 18,
   "metadata": {},
   "outputs": [],
   "source": [
    "def d_2_l(lista):\n",
    "    msig_k_prad = []\n",
    "    for elem in lista:\n",
    "        c_ind = elem.get('c-index')\n",
    "        msig_k_prad.append(c_ind)\n",
    "    return msig_k_prad"
   ]
  },
  {
   "cell_type": "code",
   "execution_count": 44,
   "metadata": {},
   "outputs": [],
   "source": [
    "def to_df(cindex, resource):\n",
    "    df = pd.DataFrame()\n",
    "    df['C-index'] = cindex\n",
    "    df['Resource'] = resource\n",
    "    return df"
   ]
  },
  {
   "cell_type": "code",
   "execution_count": 30,
   "metadata": {},
   "outputs": [
    {
     "data": {
      "text/plain": [
       "[0.6258169934640523,\n",
       " 0.6111111111111112,\n",
       " 0.5441302485004285,\n",
       " 0.5163398692810458,\n",
       " 0.5604575163398693,\n",
       " 0.5915032679738562,\n",
       " 0.6578723404255319,\n",
       " 0.7065767284991569,\n",
       " 0.5076530612244898,\n",
       " 0.639751552795031]"
      ]
     },
     "execution_count": 30,
     "metadata": {},
     "output_type": "execute_result"
    }
   ],
   "source": [
    "kegg_prad"
   ]
  },
  {
   "cell_type": "code",
   "execution_count": 33,
   "metadata": {},
   "outputs": [
    {
     "data": {
      "text/plain": [
       "[0.5924713584288053,\n",
       " 0.5860621326616289,\n",
       " 0.5269097222222222,\n",
       " 0.553469387755102,\n",
       " 0.502542372881356,\n",
       " 0.451209341117598,\n",
       " 0.5126530612244898,\n",
       " 0.562551103843009,\n",
       " 0.48595744680851066,\n",
       " 0.5948497854077254]"
      ]
     },
     "execution_count": 33,
     "metadata": {},
     "output_type": "execute_result"
    }
   ],
   "source": [
    "reactome_prad"
   ]
  },
  {
   "cell_type": "code",
   "execution_count": 26,
   "metadata": {},
   "outputs": [
    {
     "data": {
      "text/plain": [
       "[0.5326768128916741,\n",
       " 0.530327868852459,\n",
       " 0.5763265306122449,\n",
       " 0.5379591836734694,\n",
       " 0.4599673202614379,\n",
       " 0.6024489795918367,\n",
       " 0.5852649006622517,\n",
       " 0.4918300653594771,\n",
       " 0.578719723183391,\n",
       " 0.551056338028169]"
      ]
     },
     "execution_count": 26,
     "metadata": {},
     "output_type": "execute_result"
    }
   ],
   "source": [
    "wp_prad"
   ]
  },
  {
   "cell_type": "code",
   "execution_count": 36,
   "metadata": {},
   "outputs": [
    {
     "data": {
      "text/plain": [
       "[0.6675084175084175,\n",
       " 0.5510204081632653,\n",
       " 0.5839536807278742,\n",
       " 0.5331098072087175,\n",
       " 0.5183973834832379,\n",
       " 0.49706129303106633,\n",
       " 0.5675,\n",
       " 0.5779967159277504,\n",
       " 0.5790816326530612,\n",
       " 0.6277436347673397]"
      ]
     },
     "execution_count": 36,
     "metadata": {},
     "output_type": "execute_result"
    }
   ],
   "source": [
    "merge_prad"
   ]
  },
  {
   "cell_type": "code",
   "execution_count": 12,
   "metadata": {},
   "outputs": [
    {
     "data": {
      "text/plain": [
       "[0.6181520850367948,\n",
       " 0.5931208053691275,\n",
       " 0.5131578947368421,\n",
       " 0.5271186440677966,\n",
       " 0.5747826086956521,\n",
       " 0.5412919051512673,\n",
       " 0.5322976287816844,\n",
       " 0.5776293823038398,\n",
       " 0.5374149659863946,\n",
       " 0.49829642248722317]"
      ]
     },
     "execution_count": 12,
     "metadata": {},
     "output_type": "execute_result"
    }
   ],
   "source": [
    "msig_kegg_prad"
   ]
  },
  {
   "cell_type": "code",
   "execution_count": 21,
   "metadata": {},
   "outputs": [
    {
     "data": {
      "text/plain": [
       "[0.5061224489795918,\n",
       " 0.5746938775510204,\n",
       " 0.44933554817275745,\n",
       " 0.514554794520548,\n",
       " 0.5122549019607843,\n",
       " 0.6137521222410866,\n",
       " 0.5751633986928104,\n",
       " 0.5232653061224489,\n",
       " 0.46453287197231835,\n",
       " 0.5804749340369393]"
      ]
     },
     "execution_count": 21,
     "metadata": {},
     "output_type": "execute_result"
    }
   ],
   "source": [
    "msig_reactome_prad"
   ]
  },
  {
   "cell_type": "code",
   "execution_count": 50,
   "metadata": {},
   "outputs": [],
   "source": [
    "kegg = to_df(kegg_prad,'KEGG')\n",
    "reactome = to_df(reactome_prad,'Reactome')\n",
    "wp = to_df(wp_prad,'WikiPathways')\n",
    "merge = to_df(merge_prad,'Merged')\n",
    "msig_kegg = to_df(msig_kegg_prad,'MSigDB-KEGG')\n",
    "msig_reactome = to_df(msig_reactome_prad,'MSigDB-Reactome')"
   ]
  },
  {
   "cell_type": "code",
   "execution_count": 51,
   "metadata": {},
   "outputs": [],
   "source": [
    "surv_resources_df = pd.concat([kegg, reactome, wp, merge, msig_kegg, msig_reactome])"
   ]
  },
  {
   "cell_type": "code",
   "execution_count": 67,
   "metadata": {},
   "outputs": [
    {
     "data": {
      "image/png": "[encoded data removed]",
      "text/plain": [
       "<Figure size 720x432 with 1 Axes>"
      ]
     },
     "metadata": {},
     "output_type": "display_data"
    }
   ],
   "source": [
    "ax = sns.boxplot(x=\"Resource\", y=\"C-index\", \n",
    "                 data=surv_resources_df, showfliers=True,\n",
    "                 palette=\"Set2\").set_title('Distribution of C-indices from survival analysis in PRAD dataset', fontsize=16)\n",
    "\n",
    "plt.rcParams[\"axes.labelsize\"] = 14\n",
    "\n",
    "fig = plt.gcf()\n",
    "fig.set_size_inches(10, 6)\n",
    "plt.savefig('surv_boxplot_PRAD.png', dpi=500)"
   ]
  },
  {
   "cell_type": "markdown",
   "metadata": {},
   "source": [
    "### BRCA survival analysis"
   ]
  },
  {
   "cell_type": "code",
   "execution_count": 53,
   "metadata": {},
   "outputs": [],
   "source": [
    "kegg_brca_d = [{'c-index': 0.5368115942028986, 'l1-ratio': 0.19}, {'c-index': 0.5319575235423762, 'l1-ratio': 0.19}, {'c-index': 0.6060498850168052, 'l1-ratio': 0.29}, {'c-index': 0.6181206866041409, 'l1-ratio': 0.23}, {'c-index': 0.552300469483568, 'l1-ratio': 0.17}, {'c-index': 0.5823439295289161, 'l1-ratio': 0.19}, {'c-index': 0.6104862119013063, 'l1-ratio': 0.29}, {'c-index': 0.5225657768388707, 'l1-ratio': 0.29}, {'c-index': 0.6168428727670434, 'l1-ratio': 0.17}, {'c-index': 0.5347263681592039, 'l1-ratio': 0.17}]\n",
    "reactome_brca_d = [{'c-index': 0.5384761542846286, 'l1-ratio': 0.49}, {'c-index': 0.42410969339173493, 'l1-ratio': 0.74}, {'c-index': 0.452851711026616, 'l1-ratio': 0.07}, {'c-index': 0.5364633442370599, 'l1-ratio': 0.53}, {'c-index': 0.5894835680751174, 'l1-ratio': 0.17}, {'c-index': 0.5285341290563222, 'l1-ratio': 0.11}, {'c-index': 0.49372384937238495, 'l1-ratio': 0.23}, {'c-index': 0.5546875, 'l1-ratio': 0.76}, {'c-index': 0.48730189039526445, 'l1-ratio': 0.31}, {'c-index': 0.5560296846011131, 'l1-ratio': 0.31}]\n",
    "wp_brca_d = [{'c-index': 0.5111657834973505, 'l1-ratio': 0.01}, {'c-index': 0.5663734115347019, 'l1-ratio': 0.01}, {'c-index': 0.6149845916795069, 'l1-ratio': 0.01}, {'c-index': 0.5709836966477376, 'l1-ratio': 0.07}, {'c-index': 0.5530091298677101, 'l1-ratio': 0.01}, {'c-index': 0.594702743902439, 'l1-ratio': 0.11}, {'c-index': 0.5696867379478522, 'l1-ratio': 0.07}, {'c-index': 0.5380776340110905, 'l1-ratio': 0.11}, {'c-index': 0.5197835013064577, 'l1-ratio': 0.19}, {'c-index': 0.541313949208686, 'l1-ratio': 0.01}]\n",
    "merge_brca_d = [{'c-index': 0.5729267818993979, 'l1-ratio': 0.17}, {'c-index': 0.5457131247460382, 'l1-ratio': 0.79}, {'c-index': 0.608331711115437, 'l1-ratio': 0.07}, {'c-index': 0.5333922261484099, 'l1-ratio': 0.86}, {'c-index': 0.5429645542427497, 'l1-ratio': 0.01}, {'c-index': 0.4987611968744044, 'l1-ratio': 0.17}, {'c-index': 0.570771001150748, 'l1-ratio': 0.17}, {'c-index': 0.531452959732789, 'l1-ratio': 0.17}, {'c-index': 0.5029295029295029, 'l1-ratio': 0.83}, {'c-index': 0.5298013245033113, 'l1-ratio': 0.83}]\n",
    "msg_k_d = [{'c-index': 0.5263056835637481, 'l1-ratio': 0.41}, {'c-index': 0.5373107097245028, 'l1-ratio': 0.31}, {'c-index': 0.6018059490084986, 'l1-ratio': 0.17}, {'c-index': 0.6234910902471738, 'l1-ratio': 0.23}, {'c-index': 0.5805756804386136, 'l1-ratio': 0.49}, {'c-index': 0.5743216673220606, 'l1-ratio': 0.19}, {'c-index': 0.5787408596397361, 'l1-ratio': 0.31}, {'c-index': 0.5132456641890604, 'l1-ratio': 0.29}, {'c-index': 0.6017860397302716, 'l1-ratio': 0.19}, {'c-index': 0.527632344386271, 'l1-ratio': 0.23}]\n",
    "msg_r_d = [{'c-index': 0.5397192109472188, 'l1-ratio': 0.17}, {'c-index': 0.5840413742149981, 'l1-ratio': 0.07}, {'c-index': 0.49776742380120365, 'l1-ratio': 0.98}, {'c-index': 0.5177843645794739, 'l1-ratio': 0.76}, {'c-index': 0.5537558210164001, 'l1-ratio': 0.23}, {'c-index': 0.5557006904273185, 'l1-ratio': 0.19}, {'c-index': 0.5307735742518351, 'l1-ratio': 0.17}, {'c-index': 0.5656967287185976, 'l1-ratio': 0.23}, {'c-index': 0.529009009009009, 'l1-ratio': 0.13}, {'c-index': 0.5572363041700736, 'l1-ratio': 0.94}]"
   ]
  },
  {
   "cell_type": "code",
   "execution_count": 60,
   "metadata": {},
   "outputs": [],
   "source": [
    "kegg_brca = d_2_l(kegg_brca_d)\n",
    "r_brca = d_2_l(reactome_brca_d)\n",
    "wp_brca = d_2_l(wp_brca_d)\n",
    "m_brca = d_2_l(merge_brca_d)\n",
    "msk_brca = d_2_l(msg_k_d)\n",
    "msr_brca = d_2_l(msg_r_d)"
   ]
  },
  {
   "cell_type": "code",
   "execution_count": 63,
   "metadata": {},
   "outputs": [],
   "source": [
    "kegg_brca_df = to_df(kegg_brca,'KEGG')\n",
    "reactome_brca_df = to_df(r_brca,'Reactome')\n",
    "wp_brca_df = to_df(wp_brca,'WikiPathways')\n",
    "merge_brca_df = to_df(m_brca,'Merged')\n",
    "msig_kegg_brca_df = to_df(msk_brca,'MSigDB-KEGG')\n",
    "msig_reactome_brca_df = to_df(msr_brca,'MSigDB-Reactome')"
   ]
  },
  {
   "cell_type": "code",
   "execution_count": 65,
   "metadata": {},
   "outputs": [],
   "source": [
    "brca_df = pd.concat([kegg_brca_df, reactome_brca_df, wp_brca_df, merge_brca_df, msig_kegg_brca_df, msig_reactome_brca_df])"
   ]
  },
  {
   "cell_type": "code",
   "execution_count": 68,
   "metadata": {},
   "outputs": [
    {
     "data": {
      "image/png": "[encoded data removed]",
      "text/plain": [
       "<Figure size 720x432 with 1 Axes>"
      ]
     },
     "metadata": {},
     "output_type": "display_data"
    }
   ],
   "source": [
    "ax = sns.boxplot(x=\"Resource\", y=\"C-index\", \n",
    "                 data=brca_df, showfliers=True,\n",
    "                 palette=\"Set2\").set_title('Distribution of C-indices from survival analysis in PRAD dataset', fontsize=16)\n",
    "\n",
    "plt.rcParams[\"axes.labelsize\"] = 14\n",
    "\n",
    "fig = plt.gcf()\n",
    "fig.set_size_inches(10, 6)\n",
    "plt.savefig('surv_boxplot_BRCA.png', dpi=500)"
   ]
  },
  {
   "cell_type": "code",
   "execution_count": 69,
   "metadata": {},
   "outputs": [],
   "source": [
    "kegg_lihc_d = [{'c-index': 0.7410256410256411, 'l1-ratio': 0.07}, {'c-index': 0.46475195822454307, 'l1-ratio': 0.13}, {'c-index': 0.6206030150753769, 'l1-ratio': 0.13}, {'c-index': 0.6231884057971014, 'l1-ratio': 0.31}, {'c-index': 0.4948453608247423, 'l1-ratio': 0.23}, {'c-index': 0.4516971279373368, 'l1-ratio': 0.94}, {'c-index': 0.4662576687116564, 'l1-ratio': 0.11}, {'c-index': 0.5886699507389163, 'l1-ratio': 0.94}, {'c-index': 0.5648148148148148, 'l1-ratio': 0.07}, {'c-index': 0.583756345177665, 'l1-ratio': 0.01}]\n",
    "reactome_lihc_d = [{'c-index': 0.5443298969072164, 'l1-ratio': 0.01}, {'c-index': 0.5040214477211796, 'l1-ratio': 0.01}, {'c-index': 0.5102974828375286, 'l1-ratio': 0.07}, {'c-index': 0.5807860262008734, 'l1-ratio': 0.01}, {'c-index': 0.5046296296296297, 'l1-ratio': 0.11}, {'c-index': 0.6262886597938144, 'l1-ratio': 0.01}, {'c-index': 0.506993006993007, 'l1-ratio': 0.07}, {'c-index': 0.49448123620309054, 'l1-ratio': 0.01}, {'c-index': 0.4155124653739612, 'l1-ratio': 0.01}, {'c-index': 0.5859872611464968, 'l1-ratio': 0.01}]\n",
    "wp_lihc_d = [{'c-index': 0.5033407572383074, 'l1-ratio': 0.94}, {'c-index': 0.5313351498637602, 'l1-ratio': 0.07}, {'c-index': 0.47835497835497837, 'l1-ratio': 0.59}, {'c-index': 0.5026455026455027, 'l1-ratio': 0.07}, {'c-index': 0.4943181818181818, 'l1-ratio': 0.98}, {'c-index': 0.38421052631578945, 'l1-ratio': 0.01}, {'c-index': 0.5463182897862233, 'l1-ratio': 0.07}, {'c-index': 0.46218487394957986, 'l1-ratio': 0.92}, {'c-index': 0.5236486486486487, 'l1-ratio': 0.94}, {'c-index': 0.458252427184466, 'l1-ratio': 0.11}]\n",
    "merge_lihc_d = [{'c-index': 0.5130641330166271, 'l1-ratio': 0.47}, {'c-index': 0.4626865671641791, 'l1-ratio': 0.98}, {'c-index': 0.5611285266457681, 'l1-ratio': 0.61}, {'c-index': 0.6605922551252847, 'l1-ratio': 0.11}, {'c-index': 0.4780600461893764, 'l1-ratio': 0.98}, {'c-index': 0.6008676789587852, 'l1-ratio': 0.13}, {'c-index': 0.5994236311239193, 'l1-ratio': 0.17}, {'c-index': 0.5406032482598608, 'l1-ratio': 0.94}, {'c-index': 0.5628571428571428, 'l1-ratio': 0.17}, {'c-index': 0.6464379947229552, 'l1-ratio': 0.07}]\n",
    "msg_k_lihc_d = [{'c-index': 0.553623188405797, 'l1-ratio': 0.07}, {'c-index': 0.6542443064182195, 'l1-ratio': 0.11}, {'c-index': 0.4607329842931937, 'l1-ratio': 0.01}, {'c-index': 0.5303867403314917, 'l1-ratio': 0.01}, {'c-index': 0.50853889943074, 'l1-ratio': 0.07}, {'c-index': 0.5621890547263682, 'l1-ratio': 0.07}, {'c-index': 0.5597269624573379, 'l1-ratio': 0.11}, {'c-index': 0.5699481865284974, 'l1-ratio': 0.01}, {'c-index': 0.5896805896805897, 'l1-ratio': 0.07}, {'c-index': 0.4090909090909091, 'l1-ratio': 0.29}]\n",
    "msg_r_lihc_d = [{'c-index': 0.48324022346368717, 'l1-ratio': 0.01}, {'c-index': 0.5146666666666667, 'l1-ratio': 0.01}, {'c-index': 0.5538057742782152, 'l1-ratio': 0.07}, {'c-index': 0.5186104218362283, 'l1-ratio': 0.01}, {'c-index': 0.413265306122449, 'l1-ratio': 0.97}, {'c-index': 0.5668789808917197, 'l1-ratio': 0.07}, {'c-index': 0.5644329896907216, 'l1-ratio': 0.01}, {'c-index': 0.5114678899082569, 'l1-ratio': 0.01}, {'c-index': 0.6053639846743295, 'l1-ratio': 0.07}, {'c-index': 0.4472934472934473, 'l1-ratio': 0.01}]"
   ]
  },
  {
   "cell_type": "code",
   "execution_count": null,
   "metadata": {},
   "outputs": [],
   "source": []
  }
 ],
 "metadata": {
  "kernelspec": {
   "display_name": "Python 3",
   "language": "python",
   "name": "python3"
  },
  "language_info": {
   "codemirror_mode": {
    "name": "ipython",
    "version": 3
   },
   "file_extension": ".py",
   "mimetype": "text/x-python",
   "name": "python",
   "nbconvert_exporter": "python",
   "pygments_lexer": "ipython3",
   "version": "3.6.5"
  }
 },
 "nbformat": 4,
 "nbformat_minor": 2
}
