{
 "cells": [
  {
   "cell_type": "markdown",
   "metadata": {},
   "source": [
    "# Survival analysis on TCGA-PRAD gene expression data "
   ]
  },
  {
   "cell_type": "code",
   "execution_count": 48,
   "metadata": {},
   "outputs": [],
   "source": [
    "import matplotlib.pyplot as plt \n",
    "import numpy as np\n",
    "import pandas as pd\n",
    "import seaborn as sns"
   ]
  },
  {
   "cell_type": "code",
   "execution_count": 2,
   "metadata": {},
   "outputs": [],
   "source": [
    "%matplotlib inline"
   ]
  },
  {
   "cell_type": "markdown",
   "metadata": {},
   "source": [
    "## Survival analysis PRAD"
   ]
  },
  {
   "cell_type": "code",
   "execution_count": 18,
   "metadata": {},
   "outputs": [],
   "source": [
    "def d_2_l(lista):\n",
    "    msig_k_prad = []\n",
    "    for elem in lista:\n",
    "        c_ind = elem.get('c-index')\n",
    "        msig_k_prad.append(c_ind)\n",
    "    return msig_k_prad"
   ]
  },
  {
   "cell_type": "code",
   "execution_count": 44,
   "metadata": {},
   "outputs": [],
   "source": [
    "def to_df(cindex, resource):\n",
    "    df = pd.DataFrame()\n",
    "    df['C-index'] = cindex\n",
    "    df['Resource'] = resource\n",
    "    return df"
   ]
  },
  {
   "cell_type": "code",
   "execution_count": 30,
   "metadata": {},
   "outputs": [
    {
     "data": {
      "text/plain": [
       "[0.6258169934640523,\n",
       " 0.6111111111111112,\n",
       " 0.5441302485004285,\n",
       " 0.5163398692810458,\n",
       " 0.5604575163398693,\n",
       " 0.5915032679738562,\n",
       " 0.6578723404255319,\n",
       " 0.7065767284991569,\n",
       " 0.5076530612244898,\n",
       " 0.639751552795031]"
      ]
     },
     "execution_count": 30,
     "metadata": {},
     "output_type": "execute_result"
    }
   ],
   "source": [
    "kegg_prad"
   ]
  },
  {
   "cell_type": "code",
   "execution_count": 33,
   "metadata": {},
   "outputs": [
    {
     "data": {
      "text/plain": [
       "[0.5924713584288053,\n",
       " 0.5860621326616289,\n",
       " 0.5269097222222222,\n",
       " 0.553469387755102,\n",
       " 0.502542372881356,\n",
       " 0.451209341117598,\n",
       " 0.5126530612244898,\n",
       " 0.562551103843009,\n",
       " 0.48595744680851066,\n",
       " 0.5948497854077254]"
      ]
     },
     "execution_count": 33,
     "metadata": {},
     "output_type": "execute_result"
    }
   ],
   "source": [
    "reactome_prad"
   ]
  },
  {
   "cell_type": "code",
   "execution_count": 26,
   "metadata": {},
   "outputs": [
    {
     "data": {
      "text/plain": [
       "[0.5326768128916741,\n",
       " 0.530327868852459,\n",
       " 0.5763265306122449,\n",
       " 0.5379591836734694,\n",
       " 0.4599673202614379,\n",
       " 0.6024489795918367,\n",
       " 0.5852649006622517,\n",
       " 0.4918300653594771,\n",
       " 0.578719723183391,\n",
       " 0.551056338028169]"
      ]
     },
     "execution_count": 26,
     "metadata": {},
     "output_type": "execute_result"
    }
   ],
   "source": [
    "wp_prad"
   ]
  },
  {
   "cell_type": "code",
   "execution_count": 36,
   "metadata": {},
   "outputs": [
    {
     "data": {
      "text/plain": [
       "[0.6675084175084175,\n",
       " 0.5510204081632653,\n",
       " 0.5839536807278742,\n",
       " 0.5331098072087175,\n",
       " 0.5183973834832379,\n",
       " 0.49706129303106633,\n",
       " 0.5675,\n",
       " 0.5779967159277504,\n",
       " 0.5790816326530612,\n",
       " 0.6277436347673397]"
      ]
     },
     "execution_count": 36,
     "metadata": {},
     "output_type": "execute_result"
    }
   ],
   "source": [
    "merge_prad"
   ]
  },
  {
   "cell_type": "code",
   "execution_count": 12,
   "metadata": {},
   "outputs": [
    {
     "data": {
      "text/plain": [
       "[0.6181520850367948,\n",
       " 0.5931208053691275,\n",
       " 0.5131578947368421,\n",
       " 0.5271186440677966,\n",
       " 0.5747826086956521,\n",
       " 0.5412919051512673,\n",
       " 0.5322976287816844,\n",
       " 0.5776293823038398,\n",
       " 0.5374149659863946,\n",
       " 0.49829642248722317]"
      ]
     },
     "execution_count": 12,
     "metadata": {},
     "output_type": "execute_result"
    }
   ],
   "source": [
    "msig_kegg_prad"
   ]
  },
  {
   "cell_type": "code",
   "execution_count": 21,
   "metadata": {},
   "outputs": [
    {
     "data": {
      "text/plain": [
       "[0.5061224489795918,\n",
       " 0.5746938775510204,\n",
       " 0.44933554817275745,\n",
       " 0.514554794520548,\n",
       " 0.5122549019607843,\n",
       " 0.6137521222410866,\n",
       " 0.5751633986928104,\n",
       " 0.5232653061224489,\n",
       " 0.46453287197231835,\n",
       " 0.5804749340369393]"
      ]
     },
     "execution_count": 21,
     "metadata": {},
     "output_type": "execute_result"
    }
   ],
   "source": [
    "msig_reactome_prad"
   ]
  },
  {
   "cell_type": "code",
   "execution_count": 50,
   "metadata": {},
   "outputs": [],
   "source": [
    "kegg = to_df(kegg_prad,'KEGG')\n",
    "reactome = to_df(reactome_prad,'Reactome')\n",
    "wp = to_df(wp_prad,'WikiPathways')\n",
    "merge = to_df(merge_prad,'Merged')\n",
    "msig_kegg = to_df(msig_kegg_prad,'MSigDB-KEGG')\n",
    "msig_reactome = to_df(msig_reactome_prad,'MSigDB-Reactome')"
   ]
  },
  {
   "cell_type": "code",
   "execution_count": 51,
   "metadata": {},
   "outputs": [],
   "source": [
    "surv_resources_df = pd.concat([kegg, reactome, wp, merge, msig_kegg, msig_reactome])"
   ]
  },
  {
   "cell_type": "code",
   "execution_count": 67,
   "metadata": {},
   "outputs": [
    {
     "data": {
      "image/png": "[encoded data removed]",
      "text/plain": [
       "<Figure size 720x432 with 1 Axes>"
      ]
     },
     "metadata": {},
     "output_type": "display_data"
    }
   ],
   "source": [
    "ax = sns.boxplot(x=\"Resource\", y=\"C-index\", \n",
    "                 data=surv_resources_df, showfliers=True,\n",
    "                 palette=\"Set2\").set_title('Distribution of C-indices from survival analysis in PRAD dataset', fontsize=16)\n",
    "\n",
    "plt.rcParams[\"axes.labelsize\"] = 14\n",
    "\n",
    "fig = plt.gcf()\n",
    "fig.set_size_inches(10, 6)\n",
    "plt.savefig('surv_boxplot_PRAD.png', dpi=500)"
   ]
  }
 ],
 "metadata": {
  "kernelspec": {
   "display_name": "Python 3",
   "language": "python",
   "name": "python3"
  },
  "language_info": {
   "codemirror_mode": {
    "name": "ipython",
    "version": 3
   },
   "file_extension": ".py",
   "mimetype": "text/x-python",
   "name": "python",
   "nbconvert_exporter": "python",
   "pygments_lexer": "ipython3",
   "version": "3.6.5"
  }
 },
 "nbformat": 4,
 "nbformat_minor": 2
}
