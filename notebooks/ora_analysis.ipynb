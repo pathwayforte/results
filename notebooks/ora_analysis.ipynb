{
 "cells": [
  {
   "cell_type": "markdown",
   "metadata": {},
   "source": [
    "# Benchmarking of pathway databases using Over Representation Analysis (ORA)\n",
    "\n"
   ]
  },
  {
   "cell_type": "markdown",
   "metadata": {},
   "source": [
    "Import required modules"
   ]
  },
  {
   "cell_type": "code",
   "execution_count": 1,
   "metadata": {},
   "outputs": [],
   "source": [
    "import urllib.request\n",
    "\n",
    "from pathway_forte.pathway_enrichment.over_representation import perform_hypergeometric_test"
   ]
  },
  {
   "cell_type": "markdown",
   "metadata": {},
   "source": [
    "# TODO: Apply filtering on Fold change to identify the significant gene set"
   ]
  },
  {
   "cell_type": "code",
   "execution_count": null,
   "metadata": {},
   "outputs": [],
   "source": []
  },
  {
   "cell_type": "markdown",
   "metadata": {},
   "source": [
    "Load GMT files "
   ]
  },
  {
   "cell_type": "code",
   "execution_count": 2,
   "metadata": {},
   "outputs": [],
   "source": [
    "KEGG_GMT_FILE = 'https://raw.githubusercontent.com/pathwayforte/pathway-forte/master/data/gmt_files/kegg_geneset_final.gmt'\n",
    "REACTOME_GMT_FILE = 'https://raw.githubusercontent.com/pathwayforte/pathway-forte/master/data/gmt_files/reactome_geneset_final.gmt'\n",
    "WIKIPATHWAYS_GMT_FILE = 'https://raw.githubusercontent.com/pathwayforte/pathway-forte/master/data/gmt_files/wikipathways_geneset_final.gmt'\n",
    "MERGE_GMT_FILE = 'https://raw.githubusercontent.com/pathwayforte/pathway-forte/master/data/gmt_files/concatenated_merge.gmt'"
   ]
  },
  {
   "cell_type": "code",
   "execution_count": 3,
   "metadata": {},
   "outputs": [],
   "source": [
    "def gmt_to_dict(url):\n",
    "    \n",
    "    with urllib.request.urlopen(url) as response:\n",
    "        \n",
    "        lines = response.readlines()\n",
    "                                        \n",
    "        pathway_tuples = [\n",
    "            tuple(line.decode().split('\\t')[0:2])\n",
    "            for line in lines\n",
    "        ]\n",
    "        \n",
    "        pathway_to_geneset = {}\n",
    "        \n",
    "        # Build gene sets while cleaning up format\n",
    "        gene_sets = []\n",
    "        for number, line in enumerate(lines):\n",
    "             pathway_to_geneset[pathway_tuples[number]] = {\n",
    "                gene.strip()\n",
    "                for gene in line.decode().split('\\t')[2:]\n",
    "            }\n",
    "        \n",
    "    return pathway_to_geneset"
   ]
  },
  {
   "cell_type": "code",
   "execution_count": 4,
   "metadata": {},
   "outputs": [],
   "source": [
    "kegg_gene_sets = gmt_to_dict(KEGG_GMT_FILE)\n",
    "reactome_gene_sets = gmt_to_dict(REACTOME_GMT_FILE)\n",
    "wp_gene_sets = gmt_to_dict(WIKIPATHWAYS_GMT_FILE)\n",
    "merge_gene_sets = gmt_to_dict(MERGE_GMT_FILE)"
   ]
  },
  {
   "cell_type": "markdown",
   "metadata": {},
   "source": [
    "Apply hypergeometric test to genes found significant"
   ]
  },
  {
   "cell_type": "code",
   "execution_count": 13,
   "metadata": {},
   "outputs": [],
   "source": [
    "results = perform_hypergeometric_test(\n",
    "    {'AKT1', 'APP', 'MAPT', 'CDK1', 'TP53'},\n",
    "    kegg_gene_sets,\n",
    "    apply_threshold=True\n",
    ")"
   ]
  },
  {
   "cell_type": "code",
   "execution_count": 14,
   "metadata": {},
   "outputs": [
    {
     "data": {
      "text/plain": [
       "{('hsa01522', 'kegg'): 0.001,\n",
       " ('hsa01524', 'kegg'): 0.0009,\n",
       " ('hsa04010', 'kegg'): 0.0005,\n",
       " ('hsa04071', 'kegg'): 0.0013,\n",
       " ('hsa04110', 'kegg'): 0.0013,\n",
       " ('hsa04115', 'kegg'): 0.0009,\n",
       " ('hsa04151', 'kegg'): 0.0056,\n",
       " ('hsa04210', 'kegg'): 0.0014,\n",
       " ('hsa04211', 'kegg'): 0.001,\n",
       " ('hsa04218', 'kegg'): 0.0002,\n",
       " ('hsa04722', 'kegg'): 0.0013,\n",
       " ('hsa04914', 'kegg'): 0.001,\n",
       " ('hsa04919', 'kegg'): 0.0013,\n",
       " ('hsa05010', 'kegg'): 0.0017,\n",
       " ('hsa05160', 'kegg'): 0.0016,\n",
       " ('hsa05161', 'kegg'): 0.0017,\n",
       " ('hsa05162', 'kegg'): 0.0014,\n",
       " ('hsa05163', 'kegg'): 0.0024,\n",
       " ('hsa05165', 'kegg'): 0.005,\n",
       " ('hsa05166', 'kegg'): 0.0023,\n",
       " ('hsa05167', 'kegg'): 0.0019,\n",
       " ('hsa05168', 'kegg'): 0.0019,\n",
       " ('hsa05169', 'kegg'): 0.0021,\n",
       " ('hsa05170', 'kegg'): 0.0022,\n",
       " ('hsa05203', 'kegg'): 0.0021,\n",
       " ('hsa05205', 'kegg'): 0.0021,\n",
       " ('hsa05210', 'kegg'): 0.001,\n",
       " ('hsa05212', 'kegg'): 0.0009,\n",
       " ('hsa05213', 'kegg'): 0.0009,\n",
       " ('hsa05214', 'kegg'): 0.0009,\n",
       " ('hsa05215', 'kegg'): 0.001,\n",
       " ('hsa05218', 'kegg'): 0.0009,\n",
       " ('hsa05220', 'kegg'): 0.0009,\n",
       " ('hsa05222', 'kegg'): 0.001,\n",
       " ('hsa05223', 'kegg'): 0.0009,\n",
       " ('hsa05224', 'kegg'): 0.0015,\n",
       " ('hsa05225', 'kegg'): 0.0017,\n",
       " ('hsa05226', 'kegg'): 0.0015,\n",
       " ('hsa05230', 'kegg'): 0.0009,\n",
       " ('hsa05418', 'kegg'): 0.0014}"
      ]
     },
     "execution_count": 14,
     "metadata": {},
     "output_type": "execute_result"
    }
   ],
   "source": [
    "results"
   ]
  },
  {
   "cell_type": "code",
   "execution_count": null,
   "metadata": {},
   "outputs": [],
   "source": []
  },
  {
   "cell_type": "code",
   "execution_count": null,
   "metadata": {},
   "outputs": [],
   "source": []
  },
  {
   "cell_type": "code",
   "execution_count": null,
   "metadata": {},
   "outputs": [],
   "source": []
  }
 ],
 "metadata": {
  "kernelspec": {
   "display_name": "Python 3",
   "language": "python",
   "name": "python3"
  },
  "language_info": {
   "codemirror_mode": {
    "name": "ipython",
    "version": 3
   },
   "file_extension": ".py",
   "mimetype": "text/x-python",
   "name": "python",
   "nbconvert_exporter": "python",
   "pygments_lexer": "ipython3",
   "version": "3.6.5"
  }
 },
 "nbformat": 4,
 "nbformat_minor": 2
}
