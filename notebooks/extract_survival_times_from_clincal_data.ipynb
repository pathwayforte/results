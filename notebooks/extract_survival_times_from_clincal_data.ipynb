{
 "cells": [
  {
   "cell_type": "markdown",
   "metadata": {},
   "source": [
    "# Get survival information from clincal data"
   ]
  },
  {
   "cell_type": "code",
   "execution_count": 1,
   "metadata": {
    "collapsed": true
   },
   "outputs": [],
   "source": [
    "import numpy as np\n",
    "import pandas as pd\n",
    "\n",
    "from pathme_forte.constants import *"
   ]
  },
  {
   "cell_type": "code",
   "execution_count": 2,
   "metadata": {
    "collapsed": true
   },
   "outputs": [],
   "source": [
    "BRCA_CLINICAL_DATA = os.path.join(DATA,'tcga_datasets','brca','brca_tcga_clinical_data.tsv')\n",
    "LIHC_CLINICAL_DATA = os.path.join(DATA,'tcga_datasets','lihc','lihc_tcga_clinical_data.tsv')\n",
    "PRAD_CLINICAL_DATA = os.path.join(DATA,'tcga_datasets','prad','prad_tcga_clinical_data.tsv')\n",
    "KIRC_CLINICAL_DATA = os.path.join(DATA,'tcga_datasets','kirc','kirc_tcga_clinical_data.tsv')\n",
    "OV_CLINICAL_DATA = os.path.join(DATA,'tcga_datasets','ov','ov_tcga_clinical_data.tsv')"
   ]
  },
  {
   "cell_type": "code",
   "execution_count": 3,
   "metadata": {
    "collapsed": true
   },
   "outputs": [],
   "source": [
    "def survival_data_to_csv(clinical_data, dataset):\n",
    "    \n",
    "    # Read clinical meta data file\n",
    "    clinical_data_df = pd.read_csv(clinical_data, sep='\\t')\n",
    "    \n",
    "    # Get relevant columns for survival information\n",
    "    clinical_data_df = clinical_data_df[['Days to Last Followup','Overall Survival (Months)','Overall Survival Status']]\n",
    "    \n",
    "    # Convert survival months to days\n",
    "    clinical_data_df['Survival (Days)'] = round(clinical_data_df['Overall Survival (Months)']*30.42,2)\n",
    "    \n",
    "    # If patient is living, replace their overall survival time in months to NaN\n",
    "    clinical_data_df.loc[clinical_data_df['Overall Survival Status'] == 'LIVING', 'Overall Survival (Months)'] = np.NaN\n",
    "\n",
    "    # Rearrange columns\n",
    "    cols = clinical_data_df.columns.tolist()\n",
    "    cols =['Days to Last Followup','Overall Survival (Months)','Survival (Days)','Overall Survival Status']\n",
    "    \n",
    "    clinical_data_df = clinical_data_df[cols]\n",
    "    \n",
    "    clinical_data_df.to_csv('{}_survival_data.tsv'.format(dataset), sep='\\t')"
   ]
  },
  {
   "cell_type": "code",
   "execution_count": 4,
   "metadata": {
    "collapsed": true
   },
   "outputs": [],
   "source": [
    "survival_data_to_csv(BRCA_CLINICAL_DATA,'brca')\n",
    "survival_data_to_csv(KIRC_CLINICAL_DATA,'kirc')\n",
    "survival_data_to_csv(LIHC_CLINICAL_DATA,'lihc')\n",
    "survival_data_to_csv(PRAD_CLINICAL_DATA,'prad')\n",
    "survival_data_to_csv(OV_CLINICAL_DATA,'ov')"
   ]
  }
 ],
 "metadata": {
  "kernelspec": {
   "display_name": "Python 3",
   "language": "python",
   "name": "python3"
  },
  "language_info": {
   "codemirror_mode": {
    "name": "ipython",
    "version": 3
   },
   "file_extension": ".py",
   "mimetype": "text/x-python",
   "name": "python",
   "nbconvert_exporter": "python",
   "pygments_lexer": "ipython3",
   "version": "3.6.2"
  }
 },
 "nbformat": 4,
 "nbformat_minor": 2
}
