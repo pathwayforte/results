{
 "cells": [
  {
   "cell_type": "markdown",
   "metadata": {},
   "source": [
    "# Survival analysis on BRCA TCGA data \n",
    "\n",
    "## TODO: notebook for each cohort"
   ]
  },
  {
   "cell_type": "code",
   "execution_count": 1,
   "metadata": {
    "collapsed": true
   },
   "outputs": [],
   "source": [
    "import matplotlib.pyplot as plt \n",
    "import numpy as np\n",
    "import pandas as pd\n",
    "from sklearn.model_selection import KFold, GridSearchCV, cross_val_score\n",
    "\n",
    "from sksurv.linear_model import CoxnetSurvivalAnalysis\n",
    "from sksurv.metrics import concordance_index_censored\n",
    "from sksurv.nonparametric import kaplan_meier_estimator\n",
    "\n",
    "from tqdm import tqdm\n",
    "\n",
    "from pathway_forte.constants import *\n",
    "from pathway_forte.gsea import *\n",
    "from pathway_forte.regression import *\n",
    "from pathway_forte.survival_analysis import *"
   ]
  },
  {
   "cell_type": "code",
   "execution_count": 2,
   "metadata": {
    "collapsed": true
   },
   "outputs": [],
   "source": [
    "%matplotlib inline"
   ]
  },
  {
   "cell_type": "code",
   "execution_count": 29,
   "metadata": {
    "collapsed": true
   },
   "outputs": [],
   "source": [
    "EVENT_TIME_PATH = os.path.join(DATA, 'tcga_datasets', 'brca', 'event_time_matrix.txt')\n",
    "SSGSEA_NES = os.path.join(REACTOME_SSGSEA,'reactome_brca.tsv')\n",
    "normal_samples = NORMAL_EXPRESSION_SAMPLES.format('brca')"
   ]
  },
  {
   "cell_type": "code",
   "execution_count": 30,
   "metadata": {
    "collapsed": true
   },
   "outputs": [],
   "source": [
    "# Get number of healthy samples in dataset\n",
    "normal_sample_size = get_num_samples(normal_samples)"
   ]
  },
  {
   "cell_type": "code",
   "execution_count": 31,
   "metadata": {
    "collapsed": true,
    "scrolled": true
   },
   "outputs": [],
   "source": [
    "filtered_ssgsea_df, event_time_array = ssgsea_survival_analysis(EVENT_TIME_PATH, SSGSEA_NES, normal_sample_size)"
   ]
  },
  {
   "cell_type": "code",
   "execution_count": 32,
   "metadata": {},
   "outputs": [
    {
     "data": {
      "text/html": [
       "<div>\n",
       "<style scoped>\n",
       "    .dataframe tbody tr th:only-of-type {\n",
       "        vertical-align: middle;\n",
       "    }\n",
       "\n",
       "    .dataframe tbody tr th {\n",
       "        vertical-align: top;\n",
       "    }\n",
       "\n",
       "    .dataframe thead th {\n",
       "        text-align: right;\n",
       "    }\n",
       "</style>\n",
       "<table border=\"1\" class=\"dataframe\">\n",
       "  <thead>\n",
       "    <tr style=\"text-align: right;\">\n",
       "      <th>Term|NES</th>\n",
       "      <th>R-HSA-109581</th>\n",
       "      <th>R-HSA-109582</th>\n",
       "      <th>R-HSA-109606</th>\n",
       "      <th>R-HSA-109688</th>\n",
       "      <th>R-HSA-109704</th>\n",
       "      <th>R-HSA-110312</th>\n",
       "      <th>R-HSA-110313</th>\n",
       "      <th>R-HSA-110314</th>\n",
       "      <th>R-HSA-110320</th>\n",
       "      <th>R-HSA-110373</th>\n",
       "      <th>...</th>\n",
       "      <th>R-HSA-983168</th>\n",
       "      <th>R-HSA-983169</th>\n",
       "      <th>R-HSA-983170</th>\n",
       "      <th>R-HSA-983189</th>\n",
       "      <th>R-HSA-983231</th>\n",
       "      <th>R-HSA-983695</th>\n",
       "      <th>R-HSA-983705</th>\n",
       "      <th>R-HSA-983712</th>\n",
       "      <th>R-HSA-991365</th>\n",
       "      <th>R-HSA-997272</th>\n",
       "    </tr>\n",
       "  </thead>\n",
       "  <tbody>\n",
       "    <tr>\n",
       "      <th>0</th>\n",
       "      <td>0.269665</td>\n",
       "      <td>0.107719</td>\n",
       "      <td>0.244021</td>\n",
       "      <td>0.323225</td>\n",
       "      <td>-0.0392768</td>\n",
       "      <td>0.404168</td>\n",
       "      <td>0.280483</td>\n",
       "      <td>0.353306</td>\n",
       "      <td>0.39156</td>\n",
       "      <td>0.315356</td>\n",
       "      <td>...</td>\n",
       "      <td>0.201961</td>\n",
       "      <td>0.21235</td>\n",
       "      <td>0.336833</td>\n",
       "      <td>0.107377</td>\n",
       "      <td>0.0974685</td>\n",
       "      <td>0.244859</td>\n",
       "      <td>0.28199</td>\n",
       "      <td>0.00714312</td>\n",
       "      <td>-0.059633</td>\n",
       "      <td>-0.0548265</td>\n",
       "    </tr>\n",
       "    <tr>\n",
       "      <th>1</th>\n",
       "      <td>0.26747</td>\n",
       "      <td>0.12842</td>\n",
       "      <td>0.249358</td>\n",
       "      <td>0.290609</td>\n",
       "      <td>-0.0612771</td>\n",
       "      <td>0.293983</td>\n",
       "      <td>0.223109</td>\n",
       "      <td>0.2389</td>\n",
       "      <td>0.284587</td>\n",
       "      <td>0.222888</td>\n",
       "      <td>...</td>\n",
       "      <td>0.169195</td>\n",
       "      <td>0.188313</td>\n",
       "      <td>0.36041</td>\n",
       "      <td>0.00313062</td>\n",
       "      <td>0.0624618</td>\n",
       "      <td>0.193805</td>\n",
       "      <td>0.25133</td>\n",
       "      <td>0.0180777</td>\n",
       "      <td>-0.0312022</td>\n",
       "      <td>-0.047457</td>\n",
       "    </tr>\n",
       "    <tr>\n",
       "      <th>2</th>\n",
       "      <td>0.270779</td>\n",
       "      <td>0.0614002</td>\n",
       "      <td>0.24868</td>\n",
       "      <td>0.292485</td>\n",
       "      <td>-0.0662815</td>\n",
       "      <td>0.327123</td>\n",
       "      <td>0.266218</td>\n",
       "      <td>0.275562</td>\n",
       "      <td>0.320995</td>\n",
       "      <td>0.274318</td>\n",
       "      <td>...</td>\n",
       "      <td>0.180928</td>\n",
       "      <td>0.195489</td>\n",
       "      <td>0.338007</td>\n",
       "      <td>0.0253469</td>\n",
       "      <td>0.0534023</td>\n",
       "      <td>-0.147427</td>\n",
       "      <td>0.107001</td>\n",
       "      <td>-0.00379126</td>\n",
       "      <td>-0.0576295</td>\n",
       "      <td>-0.0591741</td>\n",
       "    </tr>\n",
       "    <tr>\n",
       "      <th>3</th>\n",
       "      <td>0.278643</td>\n",
       "      <td>0.0832561</td>\n",
       "      <td>0.259806</td>\n",
       "      <td>0.302232</td>\n",
       "      <td>-0.0410069</td>\n",
       "      <td>0.334807</td>\n",
       "      <td>0.272547</td>\n",
       "      <td>0.309583</td>\n",
       "      <td>0.338581</td>\n",
       "      <td>0.292086</td>\n",
       "      <td>...</td>\n",
       "      <td>0.205934</td>\n",
       "      <td>0.21518</td>\n",
       "      <td>0.403742</td>\n",
       "      <td>0.0726762</td>\n",
       "      <td>0.0807131</td>\n",
       "      <td>0.0737691</td>\n",
       "      <td>0.196866</td>\n",
       "      <td>0.0480242</td>\n",
       "      <td>-0.0338411</td>\n",
       "      <td>-0.0670078</td>\n",
       "    </tr>\n",
       "    <tr>\n",
       "      <th>4</th>\n",
       "      <td>0.263509</td>\n",
       "      <td>0.0964957</td>\n",
       "      <td>0.249497</td>\n",
       "      <td>0.296182</td>\n",
       "      <td>-0.0163263</td>\n",
       "      <td>0.32772</td>\n",
       "      <td>0.258938</td>\n",
       "      <td>0.286895</td>\n",
       "      <td>0.317689</td>\n",
       "      <td>0.272353</td>\n",
       "      <td>...</td>\n",
       "      <td>0.184822</td>\n",
       "      <td>0.198191</td>\n",
       "      <td>0.370071</td>\n",
       "      <td>0.0459337</td>\n",
       "      <td>0.0755294</td>\n",
       "      <td>0.0824052</td>\n",
       "      <td>0.197072</td>\n",
       "      <td>0.0195609</td>\n",
       "      <td>-0.0546321</td>\n",
       "      <td>-0.0741971</td>\n",
       "    </tr>\n",
       "  </tbody>\n",
       "</table>\n",
       "<p>5 rows × 1170 columns</p>\n",
       "</div>"
      ],
      "text/plain": [
       "Term|NES R-HSA-109581 R-HSA-109582 R-HSA-109606 R-HSA-109688 R-HSA-109704  \\\n",
       "0            0.269665     0.107719     0.244021     0.323225   -0.0392768   \n",
       "1             0.26747      0.12842     0.249358     0.290609   -0.0612771   \n",
       "2            0.270779    0.0614002      0.24868     0.292485   -0.0662815   \n",
       "3            0.278643    0.0832561     0.259806     0.302232   -0.0410069   \n",
       "4            0.263509    0.0964957     0.249497     0.296182   -0.0163263   \n",
       "\n",
       "Term|NES R-HSA-110312 R-HSA-110313 R-HSA-110314 R-HSA-110320 R-HSA-110373  \\\n",
       "0            0.404168     0.280483     0.353306      0.39156     0.315356   \n",
       "1            0.293983     0.223109       0.2389     0.284587     0.222888   \n",
       "2            0.327123     0.266218     0.275562     0.320995     0.274318   \n",
       "3            0.334807     0.272547     0.309583     0.338581     0.292086   \n",
       "4             0.32772     0.258938     0.286895     0.317689     0.272353   \n",
       "\n",
       "Term|NES     ...      R-HSA-983168 R-HSA-983169 R-HSA-983170 R-HSA-983189  \\\n",
       "0            ...          0.201961      0.21235     0.336833     0.107377   \n",
       "1            ...          0.169195     0.188313      0.36041   0.00313062   \n",
       "2            ...          0.180928     0.195489     0.338007    0.0253469   \n",
       "3            ...          0.205934      0.21518     0.403742    0.0726762   \n",
       "4            ...          0.184822     0.198191     0.370071    0.0459337   \n",
       "\n",
       "Term|NES R-HSA-983231 R-HSA-983695 R-HSA-983705 R-HSA-983712 R-HSA-991365  \\\n",
       "0           0.0974685     0.244859      0.28199   0.00714312    -0.059633   \n",
       "1           0.0624618     0.193805      0.25133    0.0180777   -0.0312022   \n",
       "2           0.0534023    -0.147427     0.107001  -0.00379126   -0.0576295   \n",
       "3           0.0807131    0.0737691     0.196866    0.0480242   -0.0338411   \n",
       "4           0.0755294    0.0824052     0.197072    0.0195609   -0.0546321   \n",
       "\n",
       "Term|NES R-HSA-997272  \n",
       "0          -0.0548265  \n",
       "1           -0.047457  \n",
       "2          -0.0591741  \n",
       "3          -0.0670078  \n",
       "4          -0.0741971  \n",
       "\n",
       "[5 rows x 1170 columns]"
      ]
     },
     "execution_count": 32,
     "metadata": {},
     "output_type": "execute_result"
    }
   ],
   "source": [
    "filtered_ssgsea_df.head()"
   ]
  },
  {
   "cell_type": "code",
   "execution_count": 33,
   "metadata": {},
   "outputs": [
    {
     "data": {
      "text/plain": [
       "array([( True,   0.), ( True,   0.), ( True,   0.), ..., ( True,   0.),\n",
       "       ( True,   0.), (False, 158.)],\n",
       "      dtype=[('status', '?'), ('days_death', '<f8')])"
      ]
     },
     "execution_count": 33,
     "metadata": {},
     "output_type": "execute_result"
    }
   ],
   "source": [
    "event_time_array"
   ]
  },
  {
   "cell_type": "code",
   "execution_count": 34,
   "metadata": {},
   "outputs": [
    {
     "data": {
      "text/plain": [
       "Text(0.5, 0, 'time $t$')"
      ]
     },
     "execution_count": 34,
     "metadata": {},
     "output_type": "execute_result"
    },
    {
     "data": {
      "image/png": "[encoded data removed]",
      "text/plain": [
       "<Figure size 432x288 with 1 Axes>"
      ]
     },
     "metadata": {},
     "output_type": "display_data"
    }
   ],
   "source": [
    "# Plot probability that patient survives beyond a given time point\n",
    "time, survival_prob = kaplan_meier_estimator(event_time_array[\"status\"], event_time_array[\"days_death\"])\n",
    "plt.step(time, survival_prob, where=\"post\")\n",
    "plt.ylabel(\"est. probability of survival $\\hat{S}(t)$\")\n",
    "plt.xlabel(\"time $t$\")"
   ]
  },
  {
   "cell_type": "code",
   "execution_count": 35,
   "metadata": {},
   "outputs": [
    {
     "name": "stdout",
     "output_type": "stream",
     "text": [
      "14.0% of records are censored\n"
     ]
    }
   ],
   "source": [
    "n_censored = event_time_array.shape[0] - event_time_array[\"status\"].sum()\n",
    "print(\"%.1f%% of records are censored\" % (n_censored / event_time_array.shape[0] * 100))"
   ]
  },
  {
   "cell_type": "code",
   "execution_count": 36,
   "metadata": {},
   "outputs": [
    {
     "data": {
      "text/plain": [
       "<matplotlib.legend.Legend at 0x7f8e6791f278>"
      ]
     },
     "execution_count": 36,
     "metadata": {},
     "output_type": "execute_result"
    },
    {
     "data": {
      "image/png": "[encoded data removed]",
      "text/plain": [
       "<Figure size 648x432 with 1 Axes>"
      ]
     },
     "metadata": {},
     "output_type": "display_data"
    }
   ],
   "source": [
    "plt.figure(figsize=(9, 6))\n",
    "val, bins, patches = plt.hist((event_time_array[\"days_death\"][event_time_array[\"status\"]],\n",
    "                               event_time_array[\"days_death\"][~event_time_array[\"status\"]]),\n",
    "                              bins=30, stacked=True)\n",
    "plt.legend(patches, [\"Time of Death\", \"Time of Censoring\"])"
   ]
  },
  {
   "cell_type": "markdown",
   "metadata": {},
   "source": [
    "#### Survival analysis"
   ]
  },
  {
   "cell_type": "code",
   "execution_count": 37,
   "metadata": {
    "collapsed": true
   },
   "outputs": [],
   "source": [
    "def score_survival_model(model, X, y):\n",
    "    prediction = model.predict(X)\n",
    "    result = concordance_index_censored(y['status'], y['days_death'], prediction)\n",
    "    return result[0]"
   ]
  },
  {
   "cell_type": "code",
   "execution_count": 38,
   "metadata": {
    "collapsed": true
   },
   "outputs": [],
   "source": [
    "params = get_parameter_values_for_elastic_net()\n",
    "\n",
    "parameters_dict = {\n",
    "    \"l1_ratio\": np.arange(0.01, 1.0, 0.1)\n",
    "}\n",
    "\n",
    "# parameters_dict = {\"max_iter\": [1, 5],\n",
    "#                     \"l1_ratio\": [0.1,0.5,0.8,0.9]}"
   ]
  },
  {
   "cell_type": "markdown",
   "metadata": {},
   "source": [
    "### Perform inner cross validation for parameter tuning via GridSearchCV\n",
    "1. Set parameter to tune to some value\n",
    "2. Split data into K-folds\n",
    "3. Train model using K-1 folds using a parameter value\n",
    "4. Test model on the remaining fold\n",
    "5. Repeat steps 3 and 4 so that every fold is the test data once\n",
    "6. Repeat steps 1 to 5 for every possible value of the parameter"
   ]
  },
  {
   "cell_type": "code",
   "execution_count": 40,
   "metadata": {},
   "outputs": [
    {
     "name": "stderr",
     "output_type": "stream",
     "text": [
      "\n",
      "\n",
      "\n",
      "\n",
      "\n",
      "0it [00:00, ?it/s]"
     ]
    },
    {
     "name": "stdout",
     "output_type": "stream",
     "text": [
      "0.01\n",
      "c-index 0.5934343434343434\n"
     ]
    },
    {
     "name": "stderr",
     "output_type": "stream",
     "text": [
      "\n",
      "\n",
      "\n",
      "\n",
      "\n",
      "1it [00:34, 34.10s/it]"
     ]
    },
    {
     "name": "stdout",
     "output_type": "stream",
     "text": [
      "0.91\n",
      "c-index 0.5678191489361702\n"
     ]
    },
    {
     "name": "stderr",
     "output_type": "stream",
     "text": [
      "\n",
      "\n",
      "\n",
      "\n",
      "\n",
      "2it [01:09, 34.61s/it]"
     ]
    },
    {
     "name": "stdout",
     "output_type": "stream",
     "text": [
      "0.91\n",
      "c-index 0.6101190476190477\n"
     ]
    },
    {
     "name": "stderr",
     "output_type": "stream",
     "text": [
      "\n",
      "\n",
      "\n",
      "\n",
      "\n",
      "3it [01:43, 34.63s/it]"
     ]
    },
    {
     "name": "stdout",
     "output_type": "stream",
     "text": [
      "0.7100000000000001\n",
      "c-index 0.4968421052631579\n"
     ]
    },
    {
     "name": "stderr",
     "output_type": "stream",
     "text": [
      "\n",
      "\n",
      "\n",
      "\n",
      "\n",
      "4it [02:18, 34.62s/it]"
     ]
    },
    {
     "name": "stdout",
     "output_type": "stream",
     "text": [
      "0.41000000000000003\n",
      "c-index 0.6566666666666666\n"
     ]
    },
    {
     "name": "stderr",
     "output_type": "stream",
     "text": [
      "\n",
      "\n",
      "\n",
      "\n",
      "\n",
      "5it [02:52, 34.55s/it]"
     ]
    },
    {
     "name": "stdout",
     "output_type": "stream",
     "text": [
      "0.6100000000000001\n",
      "c-index 0.7031578947368421\n"
     ]
    },
    {
     "name": "stderr",
     "output_type": "stream",
     "text": [
      "\n",
      "\n",
      "\n",
      "\n",
      "\n",
      "6it [03:28, 34.73s/it]"
     ]
    },
    {
     "name": "stdout",
     "output_type": "stream",
     "text": [
      "0.81\n",
      "c-index 0.4908802537668517\n"
     ]
    },
    {
     "name": "stderr",
     "output_type": "stream",
     "text": [
      "\n",
      "\n",
      "\n",
      "\n",
      "\n",
      "7it [04:04, 34.87s/it]"
     ]
    },
    {
     "name": "stdout",
     "output_type": "stream",
     "text": [
      "0.7100000000000001\n",
      "c-index 0.6037414965986394\n"
     ]
    },
    {
     "name": "stderr",
     "output_type": "stream",
     "text": [
      "\n",
      "\n",
      "\n",
      "\n",
      "\n",
      "8it [04:38, 34.80s/it]"
     ]
    },
    {
     "name": "stdout",
     "output_type": "stream",
     "text": [
      "0.81\n",
      "c-index 0.46279761904761907\n"
     ]
    },
    {
     "name": "stderr",
     "output_type": "stream",
     "text": [
      "\n",
      "\n",
      "\n",
      "\n",
      "\n",
      "9it [05:12, 34.72s/it]"
     ]
    },
    {
     "name": "stdout",
     "output_type": "stream",
     "text": [
      "0.31000000000000005\n",
      "c-index 0.5057471264367817\n"
     ]
    },
    {
     "name": "stderr",
     "output_type": "stream",
     "text": [
      "\n",
      "\n",
      "\n",
      "\n",
      "\n",
      "10it [05:47, 34.79s/it]\n",
      "\n",
      "\n",
      "\n",
      "\n"
     ]
    }
   ],
   "source": [
    "concordance_scores = []\n",
    "\n",
    "kf = KFold(n_splits=10, shuffle=True)\n",
    "inner_cv = KFold(n_splits=10)\n",
    "\n",
    "iterator = tqdm(kf.split(filtered_ssgsea_df, event_time_array))\n",
    "\n",
    "for i, (train_index, test_index) in enumerate(iterator):\n",
    "    \n",
    "    X_train = filtered_ssgsea_df.iloc[train_index]\n",
    "    \n",
    "    X_test= filtered_ssgsea_df.iloc[test_index]\n",
    "    \n",
    "    y_train, y_test = np.asarray([event_time_array[i] for i in train_index]), np.asarray([event_time_array[i] for i in test_index])\n",
    "    \n",
    "    \n",
    "    # Instantiate Cox’s proportional hazard’s regression model with elastic net penalty\n",
    "    # regression model\n",
    "    coxnet = CoxnetSurvivalAnalysis()\n",
    "    \n",
    "    # Tune hyper-parameters (e.g., L1-ratio) of the estimator using grid search\n",
    "    gcv = GridSearchCV(estimator=coxnet, param_grid=parameters_dict, cv=inner_cv)\n",
    "    gcv.fit(X_train, y_train)  \n",
    "    \n",
    "    # gcv.best_estimator_.parameters_dict  \n",
    "    print(gcv.best_estimator_.l1_ratio)\n",
    "    \n",
    "    # Evaluate the performance of the model during grid search using Harrell's concordance index\n",
    "    prediction = gcv.predict(X_test)\n",
    "    \n",
    "    result = concordance_index_censored(\n",
    "        [event_time_array[i]['status'] for i in test_index], # Get the status array for test set\n",
    "        [event_time_array[i]['days_death'] for i in test_index], # Get the days to death for test set\n",
    "        prediction # Prediction scores\n",
    "    )\n",
    "    print('c-index {}'.format(result[0]))\n",
    "    concordance_scores.append(result[0])"
   ]
  },
  {
   "cell_type": "code",
   "execution_count": 41,
   "metadata": {},
   "outputs": [
    {
     "data": {
      "text/plain": [
       "[0.5934343434343434,\n",
       " 0.5678191489361702,\n",
       " 0.6101190476190477,\n",
       " 0.4968421052631579,\n",
       " 0.6566666666666666,\n",
       " 0.7031578947368421,\n",
       " 0.4908802537668517,\n",
       " 0.6037414965986394,\n",
       " 0.46279761904761907,\n",
       " 0.5057471264367817]"
      ]
     },
     "execution_count": 41,
     "metadata": {},
     "output_type": "execute_result"
    }
   ],
   "source": [
    "concordance_scores"
   ]
  },
  {
   "cell_type": "code",
   "execution_count": 17,
   "metadata": {},
   "outputs": [
    {
     "data": {
      "text/plain": [
       "dict_keys(['alpha_min_ratio', 'alphas', 'copy_X', 'l1_ratio', 'max_iter', 'n_alphas', 'normalize', 'penalty_factor', 'tol', 'verbose'])"
      ]
     },
     "execution_count": 17,
     "metadata": {},
     "output_type": "execute_result"
    }
   ],
   "source": [
    "coxnet.get_params().keys()"
   ]
  },
  {
   "cell_type": "code",
   "execution_count": null,
   "metadata": {
    "collapsed": true
   },
   "outputs": [],
   "source": [
    "# Show the best value for l1 ratio\n",
    "gcv.best_estimator_.l1_ratio"
   ]
  },
  {
   "cell_type": "code",
   "execution_count": null,
   "metadata": {
    "collapsed": true
   },
   "outputs": [],
   "source": [
    "sorted(gcv.cv_results_.keys())"
   ]
  },
  {
   "cell_type": "code",
   "execution_count": null,
   "metadata": {
    "collapsed": true
   },
   "outputs": [],
   "source": []
  }
 ],
 "metadata": {
  "kernelspec": {
   "display_name": "Python 3",
   "language": "python",
   "name": "python3"
  },
  "language_info": {
   "codemirror_mode": {
    "name": "ipython",
    "version": 3
   },
   "file_extension": ".py",
   "mimetype": "text/x-python",
   "name": "python",
   "nbconvert_exporter": "python",
   "pygments_lexer": "ipython3",
   "version": "3.6.2"
  }
 },
 "nbformat": 4,
 "nbformat_minor": 2
}
