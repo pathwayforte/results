{
 "cells": [
  {
   "cell_type": "markdown",
   "metadata": {},
   "source": [
    "# Plot existing versus expected equivalent pathway mappings from GSEA results"
   ]
  },
  {
   "cell_type": "code",
   "execution_count": null,
   "metadata": {},
   "outputs": [],
   "source": [
    "import os\n",
    "import collections\n",
    "import matplotlib.pyplot as plt\n",
    "import numpy as np\n",
    "import pandas as pd\n",
    "\n",
    "from pathway_forte.pathway_enrichment.functional_class import get_analogs_comparison_numbers"
   ]
  },
  {
   "cell_type": "code",
   "execution_count": null,
   "metadata": {
    "collapsed": true,
    "scrolled": true
   },
   "outputs": [],
   "source": [
    "def filter_df(path):\n",
    "    # Get list of pathways after filtering dataFrame\n",
    "    df = pd.read_csv(path, sep='\\t')\n",
    "\n",
    "    df = df.loc[df['fdr'] < 0.05]\n",
    "    \n",
    "    return df['Term'].tolist()\n",
    "\n",
    "def get_gsea_results(dataset):\n",
    "    \"\"\"Get GSEA results for KEGG, Reactome and WikiPathways.\"\"\"\n",
    "    GSEA = os.path.join(\"/Users/danieldomingo/Downloads/gsea/\")\n",
    "    \n",
    "    kegg_reactome_path = os.path.join(GSEA, f'kegg_reactome_{dataset}.tsv')\n",
    "    reactome_wikipathways_path = os.path.join(GSEA, f'reactome_wikipathways_{dataset}.tsv')\n",
    "    kegg_wikipathways_path = os.path.join(GSEA, f'kegg_wikipathways_{dataset}.tsv')\n",
    "       \n",
    "    kegg_reactome_df = filter_df(kegg_reactome_path)\n",
    "    reactome_wikipathways_df = filter_df(reactome_wikipathways_path)\n",
    "    kegg_wikipathways_df = filter_df(kegg_wikipathways_path)\n",
    "        \n",
    "    return kegg_reactome_df, reactome_wikipathways_df, kegg_wikipathways_df"
   ]
  },
  {
   "cell_type": "markdown",
   "metadata": {},
   "source": [
    "Load results"
   ]
  },
  {
   "cell_type": "code",
   "execution_count": null,
   "metadata": {},
   "outputs": [],
   "source": [
    "brca_1, brca_2, brca_3 = get_gsea_results('brca')\n",
    "kirc_1, kirc_2, kirc_3 = get_gsea_results('kirc')\n",
    "lihc_1, lihc_2, lihc_3 = get_gsea_results('lihc')\n",
    "prad_1, prad_2, prad_3 = get_gsea_results('prad')"
   ]
  },
  {
   "cell_type": "code",
   "execution_count": null,
   "metadata": {},
   "outputs": [],
   "source": [
    "brca_actual_dict, brca_expected_dict = get_analogs_comparison_numbers(brca_1, brca_2, brca_3)\n",
    "kirc_actual_dict, kirc_expected_dict = get_analogs_comparison_numbers(kirc_1, kirc_2, kirc_3)\n",
    "lihc_actual_dict, lihc_expected_dict = get_analogs_comparison_numbers(lihc_1, lihc_2, lihc_3)\n",
    "prad_actual_dict, prad_expected_dict = get_analogs_comparison_numbers(prad_1, prad_2, prad_3)"
   ]
  },
  {
   "cell_type": "code",
   "execution_count": null,
   "metadata": {},
   "outputs": [],
   "source": [
    "fig, ax = plt.subplots(nrows=2, ncols=2, figsize=(12,10))\n",
    "fig.suptitle('Recovered vs. Unrecovered Analogues in GSEA Results', fontsize=22)\n",
    "\n",
    "N = 6\n",
    "index = np.arange(N)\n",
    "bar_width = 0.5\n",
    "opacity = 0.8\n",
    "\n",
    "pairings = (\n",
    "    'KEGG-Reactome', \n",
    "    'KEGG-WikiPathways', \n",
    "    'Reactome-KEGG', \n",
    "    'Reactome-WikiPathways',\n",
    "    'WikiPathways-KEGG', \n",
    "    'WikiPathways-Reactome',\n",
    ")\n",
    "\n",
    "label_font = {'size': 16}\n",
    "\n",
    "plt.subplot(2, 2, 1)\n",
    "actual_vals = list(brca_actual_dict.values())\n",
    "expected_vals = list(brca_expected_dict.values())\n",
    "difference = [x - y for x, y in zip(expected_vals, actual_vals)]\n",
    "\n",
    "p1 = plt.bar(index, actual_vals, bar_width,alpha=opacity, color='#2679b2',label='Recovered')\n",
    "p2 = plt.bar(index, difference, bar_width, bottom=actual_vals, alpha=opacity, color='#a7cee2',label='Unrecovered')\n",
    "\n",
    "plt.title('BRCA', fontsize=16)\n",
    "plt.ylabel('Number of Mappings', fontdict=label_font)\n",
    "plt.xticks(index, pairings)\n",
    "plt.yticks(np.arange(0, 21, step=2))\n",
    "plt.legend(prop={'size':13},loc=1)\n",
    "\n",
    "plt.subplot(2, 2, 2)\n",
    "actual_vals = list(kirc_actual_dict.values())\n",
    "expected_vals = list(kirc_expected_dict.values())\n",
    "difference = [x - y for x, y in zip(expected_vals, actual_vals)]\n",
    "\n",
    "p1 = plt.bar(index, actual_vals, bar_width,alpha=opacity, color='#2679b2',label='Recovered')\n",
    "p2 = plt.bar(index, difference, bar_width, bottom=actual_vals, alpha=opacity, color='#a7cee2',label='Unrecovered')\n",
    "\n",
    "plt.title('KIRC', fontsize=16)\n",
    "plt.xticks(index, pairings)\n",
    "plt.yticks(np.arange(0, 21, step=2))\n",
    "plt.legend(prop={'size':13},loc=1)\n",
    "\n",
    "plt.subplot(2, 2, 3)\n",
    "actual_vals = list(lihc_actual_dict.values())\n",
    "expected_vals = list(lihc_expected_dict.values())\n",
    "difference = [x - y for x, y in zip(expected_vals, actual_vals)]\n",
    "\n",
    "p1 = plt.bar(index, actual_vals, bar_width,alpha=opacity, color='#2679b2',label='Recovered')\n",
    "p2 = plt.bar(index, difference, bar_width, bottom=actual_vals, alpha=opacity, color='#a7cee2',label='Unrecovered')\n",
    "\n",
    "plt.title('LIHC', fontsize=16)\n",
    "plt.ylabel('Number of Mappings', fontdict=label_font)\n",
    "plt.xticks(index, pairings)\n",
    "plt.yticks(np.arange(0, 21, step=2))\n",
    "plt.legend(prop={'size':13},loc=1)\n",
    "\n",
    "plt.subplot(2, 2, 4)\n",
    "actual_vals = list(prad_actual_dict.values())\n",
    "expected_vals = list(prad_expected_dict.values())\n",
    "difference = [x - y for x, y in zip(expected_vals, actual_vals)]\n",
    "\n",
    "p1 = plt.bar(index, actual_vals, bar_width,alpha=opacity, color='#2679b2',label='Recovered')\n",
    "p2 = plt.bar(index, difference, bar_width, bottom=actual_vals, alpha=opacity, color='#a7cee2',label='Unrecovered')\n",
    "\n",
    "plt.title('PRAD', fontsize=16)\n",
    "plt.xticks(index, pairings)\n",
    "plt.yticks(np.arange(0, 21, step=2))\n",
    "plt.legend(prop={'size':13},loc=1)\n",
    "\n",
    "fig.autofmt_xdate()\n",
    "fig.tight_layout(rect=[0, 0.03, 1, 0.95])\n",
    "plt.savefig('pairwise_mappings_gsea.png',dpi=250)\n",
    "plt.show()"
   ]
  },
  {
   "cell_type": "code",
   "execution_count": null,
   "metadata": {
    "collapsed": true
   },
   "outputs": [],
   "source": []
  }
 ],
 "metadata": {
  "kernelspec": {
   "display_name": "Python 3",
   "language": "python",
   "name": "python3"
  },
  "language_info": {
   "codemirror_mode": {
    "name": "ipython",
    "version": 3
   },
   "file_extension": ".py",
   "mimetype": "text/x-python",
   "name": "python",
   "nbconvert_exporter": "python",
   "pygments_lexer": "ipython3",
   "version": "3.6.2"
  }
 },
 "nbformat": 4,
 "nbformat_minor": 2
}
