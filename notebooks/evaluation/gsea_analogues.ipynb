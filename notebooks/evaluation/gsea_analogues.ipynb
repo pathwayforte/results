{
 "cells": [
  {
   "cell_type": "markdown",
   "metadata": {},
   "source": [
    "# Plot existing versus expected equivalent pathway mappings from GSEA results"
   ]
  },
  {
   "cell_type": "code",
   "execution_count": 2,
   "metadata": {
    "collapsed": true
   },
   "outputs": [],
   "source": [
    "import os\n",
    "import collections\n",
    "import matplotlib.pyplot as plt\n",
    "import numpy as np\n",
    "import pandas as pd\n",
    "\n",
    "from pathway_forte.constants import *\n",
    "from pathway_forte.pathway_enrichment.functional_class import *"
   ]
  },
  {
   "cell_type": "code",
   "execution_count": 3,
   "metadata": {
    "collapsed": true,
    "scrolled": true
   },
   "outputs": [],
   "source": [
    "def filter_df(path):\n",
    "    # Get list of pathways after filtering dataFrame\n",
    "    df = pd.read_csv(path, sep='\\t')\n",
    "\n",
    "    df = df.loc[df['fdr'] < 0.05]\n",
    "    \n",
    "    print(df['Term'].tolist())\n",
    "\n",
    "    return df['Term'].tolist()\n",
    "\n",
    "def get_gsea_results(dataset):\n",
    "    \"\"\"Get GSEA results for KEGG, Reactome and WikiPathways.\"\"\"\n",
    "    GSEA = os.path.join(\"/Users/danieldomingo/Downloads/gsea/\")\n",
    "    \n",
    "    kegg_reactome_path = os.path.join(GSEA, f'kegg_reactome_{dataset}.tsv')\n",
    "    reactome_wikipathways_path = os.path.join(GSEA, f'reactome_wikipathways_{dataset}.tsv')\n",
    "    kegg_wikipathways_path = os.path.join(GSEA, f'kegg_wikipathways_{dataset}.tsv')\n",
    "       \n",
    "    kegg_reactome_df = filter_df(kegg_reactome_path)\n",
    "    reactome_wikipathways_df = filter_df(reactome_wikipathways_path)\n",
    "    kegg_wikipathways_df = filter_df(kegg_wikipathways_path)\n",
    "        \n",
    "    return kegg_reactome_df, reactome_wikipathways_df, kegg_wikipathways_df"
   ]
  },
  {
   "cell_type": "markdown",
   "metadata": {},
   "source": [
    "Load results"
   ]
  },
  {
   "cell_type": "code",
   "execution_count": 4,
   "metadata": {},
   "outputs": [
    {
     "name": "stdout",
     "output_type": "stream",
     "text": [
      "['R-HSA-1640170']\n",
      "['R-HSA-1640170']\n",
      "[]\n",
      "['R-HSA-420029']\n",
      "['R-HSA-77289']\n",
      "[]\n",
      "[]\n",
      "['WP545']\n",
      "[]\n",
      "[]\n",
      "[]\n",
      "[]\n"
     ]
    }
   ],
   "source": [
    "brca_kegg_df, brca_reactome_df, brca_wp_df = get_gsea_results('brca')\n",
    "kirc_kegg_df, kirc_reactome_df, kirc_wp_df = get_gsea_results('kirc')\n",
    "lihc_kegg_df, lihc_reactome_df, lihc_wp_df = get_gsea_results('lihc')\n",
    "prad_kegg_df, prad_reactome_df, prad_wp_df = get_gsea_results('prad')"
   ]
  },
  {
   "cell_type": "code",
   "execution_count": 5,
   "metadata": {},
   "outputs": [
    {
     "ename": "NameError",
     "evalue": "name 'brca_actual_dict' is not defined",
     "output_type": "error",
     "traceback": [
      "\u001b[0;31m---------------------------------------------------------------------------\u001b[0m",
      "\u001b[0;31mNameError\u001b[0m                                 Traceback (most recent call last)",
      "\u001b[0;32m<ipython-input-5-5644945fe0bb>\u001b[0m in \u001b[0;36m<module>\u001b[0;34m()\u001b[0m\n\u001b[1;32m     19\u001b[0m \u001b[0;34m\u001b[0m\u001b[0m\n\u001b[1;32m     20\u001b[0m \u001b[0mplt\u001b[0m\u001b[0;34m.\u001b[0m\u001b[0msubplot\u001b[0m\u001b[0;34m(\u001b[0m\u001b[0;36m2\u001b[0m\u001b[0;34m,\u001b[0m \u001b[0;36m2\u001b[0m\u001b[0;34m,\u001b[0m \u001b[0;36m1\u001b[0m\u001b[0;34m)\u001b[0m\u001b[0;34m\u001b[0m\u001b[0m\n\u001b[0;32m---> 21\u001b[0;31m \u001b[0mactual_vals\u001b[0m \u001b[0;34m=\u001b[0m \u001b[0mlist\u001b[0m\u001b[0;34m(\u001b[0m\u001b[0mbrca_actual_dict\u001b[0m\u001b[0;34m.\u001b[0m\u001b[0mvalues\u001b[0m\u001b[0;34m(\u001b[0m\u001b[0;34m)\u001b[0m\u001b[0;34m)\u001b[0m\u001b[0;34m\u001b[0m\u001b[0m\n\u001b[0m\u001b[1;32m     22\u001b[0m \u001b[0mexpected_vals\u001b[0m \u001b[0;34m=\u001b[0m \u001b[0mlist\u001b[0m\u001b[0;34m(\u001b[0m\u001b[0mbrca_expected_dict\u001b[0m\u001b[0;34m.\u001b[0m\u001b[0mvalues\u001b[0m\u001b[0;34m(\u001b[0m\u001b[0;34m)\u001b[0m\u001b[0;34m)\u001b[0m\u001b[0;34m\u001b[0m\u001b[0m\n\u001b[1;32m     23\u001b[0m \u001b[0mdifference\u001b[0m \u001b[0;34m=\u001b[0m \u001b[0;34m[\u001b[0m\u001b[0mx\u001b[0m \u001b[0;34m-\u001b[0m \u001b[0my\u001b[0m \u001b[0;32mfor\u001b[0m \u001b[0mx\u001b[0m\u001b[0;34m,\u001b[0m \u001b[0my\u001b[0m \u001b[0;32min\u001b[0m \u001b[0mzip\u001b[0m\u001b[0;34m(\u001b[0m\u001b[0mexpected_vals\u001b[0m\u001b[0;34m,\u001b[0m \u001b[0mactual_vals\u001b[0m\u001b[0;34m)\u001b[0m\u001b[0;34m]\u001b[0m\u001b[0;34m\u001b[0m\u001b[0m\n",
      "\u001b[0;31mNameError\u001b[0m: name 'brca_actual_dict' is not defined"
     ]
    }
   ],
   "source": [
    "fig, ax = plt.subplots(nrows=2, ncols=2, figsize=(12,10))\n",
    "fig.suptitle('Recovered vs. Unrecovered Analogues in GSEA Results', fontsize=22)\n",
    "\n",
    "N = 6\n",
    "index = np.arange(N)\n",
    "bar_width = 0.5\n",
    "opacity = 0.8\n",
    "\n",
    "pairings = (\n",
    "    'KEGG-Reactome', \n",
    "    'KEGG-WikiPathways', \n",
    "    'Reactome-KEGG', \n",
    "    'Reactome-WikiPathways',\n",
    "    'WikiPathways-KEGG', \n",
    "    'WikiPathways-Reactome',\n",
    ")\n",
    "\n",
    "label_font = {'size': 16}\n",
    "\n",
    "plt.subplot(2, 2, 1)\n",
    "actual_vals = list(brca_actual_dict.values())\n",
    "expected_vals = list(brca_expected_dict.values())\n",
    "difference = [x - y for x, y in zip(expected_vals, actual_vals)]\n",
    "\n",
    "p1 = plt.bar(index, actual_vals, bar_width,alpha=opacity, color='#2679b2',label='Recovered')\n",
    "p2 = plt.bar(index, difference, bar_width, bottom=actual_vals, alpha=opacity, color='#a7cee2',label='Unrecovered')\n",
    "\n",
    "plt.title('BRCA', fontsize=16)\n",
    "plt.ylabel('Number of Mappings', fontdict=label_font)\n",
    "plt.xticks(index, pairings)\n",
    "plt.yticks(np.arange(0, 21, step=2))\n",
    "plt.legend(prop={'size':13},loc=1)\n",
    "\n",
    "plt.subplot(2, 2, 2)\n",
    "actual_vals = list(kirc_actual_dict.values())\n",
    "expected_vals = list(kirc_expected_dict.values())\n",
    "difference = [x - y for x, y in zip(expected_vals, actual_vals)]\n",
    "\n",
    "p1 = plt.bar(index, actual_vals, bar_width,alpha=opacity, color='#2679b2',label='Recovered')\n",
    "p2 = plt.bar(index, difference, bar_width, bottom=actual_vals, alpha=opacity, color='#a7cee2',label='Unrecovered')\n",
    "\n",
    "plt.title('KIRC', fontsize=16)\n",
    "plt.xticks(index, pairings)\n",
    "plt.yticks(np.arange(0, 21, step=2))\n",
    "plt.legend(prop={'size':13},loc=1)\n",
    "\n",
    "plt.subplot(2, 2, 3)\n",
    "actual_vals = list(lihc_actual_dict.values())\n",
    "expected_vals = list(lihc_expected_dict.values())\n",
    "difference = [x - y for x, y in zip(expected_vals, actual_vals)]\n",
    "\n",
    "p1 = plt.bar(index, actual_vals, bar_width,alpha=opacity, color='#2679b2',label='Recovered')\n",
    "p2 = plt.bar(index, difference, bar_width, bottom=actual_vals, alpha=opacity, color='#a7cee2',label='Unrecovered')\n",
    "\n",
    "plt.title('LIHC', fontsize=16)\n",
    "plt.ylabel('Number of Mappings', fontdict=label_font)\n",
    "plt.xticks(index, pairings)\n",
    "plt.yticks(np.arange(0, 21, step=2))\n",
    "plt.legend(prop={'size':13},loc=1)\n",
    "\n",
    "plt.subplot(2, 2, 4)\n",
    "actual_vals = list(prad_actual_dict.values())\n",
    "expected_vals = list(prad_expected_dict.values())\n",
    "difference = [x - y for x, y in zip(expected_vals, actual_vals)]\n",
    "\n",
    "p1 = plt.bar(index, actual_vals, bar_width,alpha=opacity, color='#2679b2',label='Recovered')\n",
    "p2 = plt.bar(index, difference, bar_width, bottom=actual_vals, alpha=opacity, color='#a7cee2',label='Unrecovered')\n",
    "\n",
    "plt.title('PRAD', fontsize=16)\n",
    "plt.xticks(index, pairings)\n",
    "plt.yticks(np.arange(0, 21, step=2))\n",
    "plt.legend(prop={'size':13},loc=1)\n",
    "\n",
    "fig.autofmt_xdate()\n",
    "fig.tight_layout(rect=[0, 0.03, 1, 0.95])\n",
    "plt.savefig('pairwise_mappings_gsea.png',dpi=250)\n",
    "plt.show()"
   ]
  },
  {
   "cell_type": "code",
   "execution_count": null,
   "metadata": {
    "collapsed": true
   },
   "outputs": [],
   "source": []
  }
 ],
 "metadata": {
  "kernelspec": {
   "display_name": "Python 3",
   "language": "python",
   "name": "python3"
  },
  "language_info": {
   "codemirror_mode": {
    "name": "ipython",
    "version": 3
   },
   "file_extension": ".py",
   "mimetype": "text/x-python",
   "name": "python",
   "nbconvert_exporter": "python",
   "pygments_lexer": "ipython3",
   "version": "3.6.2"
  }
 },
 "nbformat": 4,
 "nbformat_minor": 2
}
