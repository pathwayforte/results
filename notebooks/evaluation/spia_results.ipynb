{
 "cells": [
  {
   "cell_type": "markdown",
   "metadata": {},
   "source": [
    "# SPIA Results"
   ]
  },
  {
   "cell_type": "markdown",
   "metadata": {},
   "source": [
    "#### In this notebook, we get the number of recovered equivalent pathways from SPIA results and check for  concordance in their direction of activity. Recovered versus unrecovered equivalent pathway mappings from the results are also plotted."
   ]
  },
  {
   "cell_type": "code",
   "execution_count": 1,
   "metadata": {},
   "outputs": [],
   "source": [
    "import json\n",
    "import os\n",
    "import collections\n",
    "import matplotlib.pyplot as plt\n",
    "import numpy as np\n",
    "import pandas as pd\n",
    "import itertools as itt\n",
    "\n",
    "from bio2bel_kegg import Manager as KeggManager\n",
    "from bio2bel_reactome import Manager as ReactomeManager\n",
    "from bio2bel_wikipathways import Manager as WikipathwaysManager\n",
    "\n",
    "from pathway_forte.constants import *\n",
    "from pathway_forte.pathway_enrichment.functional_class import *"
   ]
  },
  {
   "cell_type": "code",
   "execution_count": 2,
   "metadata": {},
   "outputs": [],
   "source": [
    "# Initiate Bio2BEL manager to map pathway identifiers to names\n",
    "kegg_manager = KeggManager()\n",
    "reactome_manager = ReactomeManager()\n",
    "wikipathways_manager = WikipathwaysManager()"
   ]
  },
  {
   "cell_type": "code",
   "execution_count": 4,
   "metadata": {},
   "outputs": [],
   "source": [
    "brca_dataset = 'brca'\n",
    "kirc_dataset = 'kirc'\n",
    "lihc_dataset = 'lihc'\n",
    "prad_dataset = 'prad'"
   ]
  },
  {
   "cell_type": "code",
   "execution_count": 5,
   "metadata": {},
   "outputs": [],
   "source": [
    "def get_spia_results(dataset, p_value=None):\n",
    "    \"\"\"Get SPIA results for KEGG, Reactome and WikiPathways for a dataset from JSON file. \n",
    "    \"\"\"\n",
    "    SPIA = os.path.join(DATA, 'results', 'spia')\n",
    "    \n",
    "    kegg_path = os.path.join(SPIA, dataset, f'{dataset}_kegg_spia.csv')\n",
    "    reactome_path = os.path.join(SPIA, dataset, f'{dataset}_reactome_spia.csv')\n",
    "    wikipathways_path = os.path.join(SPIA, dataset, f'{dataset}_wikipathways_spia.csv')\n",
    "    merged_path = os.path.join(SPIA, dataset, f'{dataset}_merged_spia.csv')\n",
    "\n",
    "    kegg_df_total = pd.read_csv(kegg_path, sep=',')\n",
    "    reactome_df_total = pd.read_csv(reactome_path, sep=',')\n",
    "    wp_df_total = pd.read_csv(wikipathways_path, sep=',')\n",
    "    merged_df_total = pd.read_csv(merged_path, sep=',')\n",
    "    \n",
    "    kegg_df = pd.DataFrame()\n",
    "    reactome_df = pd.DataFrame()\n",
    "    wp_df = pd.DataFrame()\n",
    "    merged_df = pd.DataFrame()\n",
    "    \n",
    "    kegg_df['pathway_id'] = [('hsa0' + str(_id)) for _id in kegg_df_total['ID']]\n",
    "    reactome_df['pathway_id'] = [('R-HSA-' + str(_id)) for _id in reactome_df_total['ID']]\n",
    "    wp_df['pathway_id'] = [_id for _id in wp_df_total['ID']]\n",
    "    merged_df['pathway_id'] = [_id for _id in merged_df_total['ID']]\n",
    "\n",
    "    kegg_df['status'] = [i for i in kegg_df_total['Status']]\n",
    "    reactome_df['status'] = [i for i in reactome_df_total['Status']]\n",
    "    wp_df['status'] = [i for i in wp_df_total['Status']]\n",
    "    merged_df['status'] = [i for i in merged_df_total['Status']]\n",
    "    \n",
    "    # get Bonferroni adjusted global p-value\n",
    "    kegg_df['pGFWER'] = [i for i in kegg_df_total['pGFWER']]\n",
    "    reactome_df['pGFWER'] = [i for i in reactome_df_total['pGFWER']]\n",
    "    wp_df['pGFWER'] = [i for i in wp_df_total['pGFWER']]\n",
    "    merged_df['pGFWER'] = [i for i in merged_df_total['pGFWER']]\n",
    "        \n",
    "    # Filter dataFrame to include only those pathways with an adjusted p-value less than X\n",
    "    if p_value is not None:\n",
    "        kegg_df = kegg_df.loc[kegg_df['pGFWER'] < p_value]\n",
    "        reactome_df = reactome_df.loc[reactome_df['pGFWER'] < p_value]\n",
    "        wp_df = wp_df.loc[wp_df['pGFWER'] < p_value]\n",
    "        merged_df = merged_df.loc[merged_df['pGFWER'] < p_value]\n",
    "\n",
    "        \n",
    "    # sort dataFrame by Bonferroni adjusted global p-value\n",
    "    kegg_df.sort_values('pGFWER', inplace=True)\n",
    "    reactome_df.sort_values('pGFWER', inplace=True)\n",
    "    wp_df.sort_values('pGFWER', inplace=True)\n",
    "    merged_df.sort_values('pGFWER', inplace=True)\n",
    "\n",
    "    return kegg_df, reactome_df, wp_df, merged_df\n"
   ]
  },
  {
   "cell_type": "code",
   "execution_count": 36,
   "metadata": {},
   "outputs": [],
   "source": [
    "def get_spia_merged_statistics(merged_df, dataset):\n",
    "    \n",
    "    num_of_pathways = len(merged_df.index)\n",
    "    merged_genesets = 0\n",
    "    merged_kegg = 0\n",
    "    merged_reactome = 0\n",
    "    merged_wp = 0\n",
    "\n",
    "    for pathway_id in merged_df['pathway_id']:\n",
    "        \n",
    "        if len(pathway_id) == 5 and not pathway_id.startswith('WP'):\n",
    "            merged_kegg += 1\n",
    "            \n",
    "        elif len(pathway_id) > 5 and '|' not in pathway_id and not pathway_id.startswith('WP'):\n",
    "            merged_reactome += 1\n",
    "            \n",
    "        elif pathway_id.startswith('WP') and '|' not in pathway_id:\n",
    "            merged_wp += 1\n",
    "            \n",
    "        elif '|' in pathway_id:\n",
    "            pathway_id.split('|')\n",
    "            merged_genesets += 1\n",
    "\n",
    "        else:\n",
    "            raise ValueError(f'Invalid pathway ID {pathway_id}.')\n",
    "            \n",
    "    kegg_contributions_to_merged = merged_kegg / num_of_pathways * 100\n",
    "    reactome_contributions_to_merged = merged_reactome / num_of_pathways * 100\n",
    "    wikipathways_contributions_to_merged = merged_wp / num_of_pathways * 100\n",
    "    proportion_of_merged_genesets = merged_genesets / num_of_pathways * 100\n",
    "    \n",
    "    print('For the {} pathways in the merged dataset results for {}:'.format(num_of_pathways, dataset))\n",
    "    print('{0:.2f}% are from KEGG'.format(kegg_contributions_to_merged))\n",
    "    print('{0:.2f}% are from Reactome'.format(reactome_contributions_to_merged))\n",
    "    print('{0:.2f}% are from WikiPathways'.format(wikipathways_contributions_to_merged))\n",
    "    print('{0:.2f}% are a combination of 2 or more databases'.format(proportion_of_merged_genesets))"
   ]
  },
  {
   "cell_type": "code",
   "execution_count": 37,
   "metadata": {},
   "outputs": [],
   "source": [
    "brca_kegg_df, brca_reactome_df, brca_wp_df, brca_merged_df = get_spia_results('brca',0.05)\n",
    "kirc_kegg_df, kirc_reactome_df, kirc_wp_df, kirc_merged_df = get_spia_results('kirc',0.05)\n",
    "lihc_kegg_df, lihc_reactome_df, lihc_wp_df, lihc_merged_df = get_spia_results('lihc',0.05)\n",
    "prad_kegg_df, prad_reactome_df, prad_wp_df, prad_merged_df = get_spia_results('prad',0.05)"
   ]
  },
  {
   "cell_type": "code",
   "execution_count": 38,
   "metadata": {},
   "outputs": [
    {
     "name": "stdout",
     "output_type": "stream",
     "text": [
      "For the 153 pathways in the merged dataset results for BRCA:\n",
      "72.55% are from KEGG\n",
      "8.50% are from Reactome\n",
      "3.27% are from WikiPathways\n",
      "15.69% are a combination of 2 or more databases\n",
      "For the 150 pathways in the merged dataset results for KIRC:\n",
      "75.33% are from KEGG\n",
      "6.67% are from Reactome\n",
      "2.00% are from WikiPathways\n",
      "16.00% are a combination of 2 or more databases\n",
      "For the 167 pathways in the merged dataset results for LIHC:\n",
      "72.46% are from KEGG\n",
      "8.98% are from Reactome\n",
      "3.59% are from WikiPathways\n",
      "14.97% are a combination of 2 or more databases\n",
      "For the 148 pathways in the merged dataset results for PRAD:\n",
      "76.35% are from KEGG\n",
      "5.41% are from Reactome\n",
      "3.38% are from WikiPathways\n",
      "14.86% are a combination of 2 or more databases\n"
     ]
    }
   ],
   "source": [
    "get_spia_merged_statistics(brca_merged_df, 'BRCA')\n",
    "get_spia_merged_statistics(kirc_merged_df, 'KIRC')\n",
    "get_spia_merged_statistics(lihc_merged_df, 'LIHC')\n",
    "get_spia_merged_statistics(prad_merged_df, 'PRAD')"
   ]
  },
  {
   "cell_type": "code",
   "execution_count": 14,
   "metadata": {},
   "outputs": [],
   "source": [
    "brca_kegg_df = get_pathway_names('kegg',brca_kegg_df,kegg_manager=kegg_manager)\n",
    "kirc_kegg_df = get_pathway_names('kegg',kirc_kegg_df,kegg_manager=kegg_manager)\n",
    "lihc_kegg_df = get_pathway_names('kegg',lihc_kegg_df,kegg_manager=kegg_manager)\n",
    "prad_kegg_df = get_pathway_names('kegg',prad_kegg_df,kegg_manager=kegg_manager)"
   ]
  },
  {
   "cell_type": "code",
   "execution_count": 15,
   "metadata": {},
   "outputs": [],
   "source": [
    "brca_reactome_df = get_pathway_names('reactome',brca_reactome_df,reactome_manager=reactome_manager)\n",
    "kirc_reactome_df = get_pathway_names('reactome',kirc_reactome_df,reactome_manager=reactome_manager)\n",
    "lihc_reactome_df = get_pathway_names('reactome',lihc_reactome_df,reactome_manager=reactome_manager)\n",
    "prad_reactome_df = get_pathway_names('reactome',prad_reactome_df,reactome_manager=reactome_manager)"
   ]
  },
  {
   "cell_type": "code",
   "execution_count": 16,
   "metadata": {},
   "outputs": [],
   "source": [
    "brca_wp_df = get_pathway_names('wikipathways',brca_wp_df,wikipathways_manager=wikipathways_manager)\n",
    "kirc_wp_df = get_pathway_names('wikipathways',kirc_wp_df,wikipathways_manager=wikipathways_manager)\n",
    "lihc_wp_df = get_pathway_names('wikipathways',lihc_wp_df,wikipathways_manager=wikipathways_manager)\n",
    "prad_wp_df = get_pathway_names('wikipathways',prad_wp_df,wikipathways_manager=wikipathways_manager)"
   ]
  },
  {
   "cell_type": "markdown",
   "metadata": {},
   "source": [
    "Get equivalent pathways and their direction of change"
   ]
  },
  {
   "cell_type": "code",
   "execution_count": 17,
   "metadata": {},
   "outputs": [],
   "source": [
    "brca_expected_mappings = get_pairwise_mappings(\n",
    "    brca_kegg_df, \n",
    "    brca_reactome_df, \n",
    "    brca_wp_df, \n",
    ")\n",
    "kirc_expected_mappings = get_pairwise_mappings(\n",
    "    kirc_kegg_df, \n",
    "    kirc_reactome_df, \n",
    "    kirc_wp_df, \n",
    ")\n",
    "lihc_expected_mappings = get_pairwise_mappings(\n",
    "    lihc_kegg_df, \n",
    "    lihc_reactome_df, \n",
    "    lihc_wp_df, \n",
    ")\n",
    "prad_expected_mappings = get_pairwise_mappings(\n",
    "    prad_kegg_df, \n",
    "    prad_reactome_df, \n",
    "    prad_wp_df, \n",
    ")"
   ]
  },
  {
   "cell_type": "markdown",
   "metadata": {},
   "source": [
    "Only equivalent pathway recovered and present in merged: ('kegg','hsa04622','Activated') and ('wikipathways', 'WP3865', 'Activated')"
   ]
  },
  {
   "cell_type": "code",
   "execution_count": 22,
   "metadata": {},
   "outputs": [],
   "source": [
    "brca_actual_dict, brca_expected_dict = get_pairwise_mapping_numbers(\n",
    "    brca_kegg_df, \n",
    "    brca_reactome_df, \n",
    "    brca_wp_df, \n",
    ")\n",
    "kirc_actual_dict, kirc_expected_dict = get_pairwise_mapping_numbers(\n",
    "    kirc_kegg_df, \n",
    "    kirc_reactome_df, \n",
    "    kirc_wp_df, \n",
    ")\n",
    "lihc_actual_dict, lihc_expected_dict = get_pairwise_mapping_numbers(\n",
    "    lihc_kegg_df, \n",
    "    lihc_reactome_df, \n",
    "    lihc_wp_df, \n",
    ")\n",
    "prad_actual_dict, prad_expected_dict = get_pairwise_mapping_numbers(\n",
    "    prad_kegg_df, \n",
    "    prad_reactome_df, \n",
    "    prad_wp_df, \n",
    ")"
   ]
  },
  {
   "cell_type": "markdown",
   "metadata": {},
   "source": [
    "Plot how many pairwise pathways with mappings exist versus how many are expected"
   ]
  },
  {
   "cell_type": "code",
   "execution_count": 39,
   "metadata": {},
   "outputs": [
    {
     "data": {
      "image/png": "[encoded data removed]",
      "text/plain": [
       "<Figure size 864x720 with 4 Axes>"
      ]
     },
     "metadata": {},
     "output_type": "display_data"
    }
   ],
   "source": [
    "fig, ax = plt.subplots(nrows=2, ncols=2, figsize=(12,10))\n",
    "fig.suptitle('Recovered vs. Unrecovered Mappings in SPIA Results', fontsize=22)\n",
    "\n",
    "N = 6\n",
    "index = np.arange(N)\n",
    "bar_width = 0.5\n",
    "opacity = 0.8\n",
    "\n",
    "pairings = ('KEGG-Reactome', \n",
    " 'KEGG-WikiPathways', \n",
    " 'Reactome-KEGG', \n",
    " 'Reactome-WikiPathways',\n",
    " 'WikiPathways-KEGG', \n",
    " 'WikiPathways-Reactome',\n",
    ")\n",
    "label_font = {'size': 16}\n",
    "\n",
    "plt.subplot(2, 2, 1)\n",
    "actual_vals = list(brca_actual_dict.values())\n",
    "expected_vals = list(brca_expected_dict.values())\n",
    "difference = [x - y for x, y in zip(expected_vals, actual_vals)]\n",
    "\n",
    "p1 = plt.bar(index, actual_vals, bar_width,alpha=opacity, color='#2679b2',label='Recovered')\n",
    "p2 = plt.bar(index, difference, bar_width, bottom=actual_vals, alpha=opacity, color='#a7cee2',label='Unrecovered')\n",
    "\n",
    "plt.title('BRCA', fontsize=16)\n",
    "plt.ylabel('Number of Mappings', fontdict=label_font)\n",
    "plt.xticks(index, pairings)\n",
    "plt.ylim(0,35)\n",
    "plt.legend(prop={'size':13},loc=1)\n",
    "\n",
    "\n",
    "plt.subplot(2, 2, 2)\n",
    "actual_vals = list(kirc_actual_dict.values())\n",
    "expected_vals = list(kirc_expected_dict.values())\n",
    "difference = [x - y for x, y in zip(expected_vals, actual_vals)]\n",
    "\n",
    "p1 = plt.bar(index, actual_vals, bar_width,alpha=opacity, color='#2679b2',label='Recovered')\n",
    "p2 = plt.bar(index, difference, bar_width, bottom=actual_vals, alpha=opacity, color='#a7cee2',label='Unrecovered')\n",
    "\n",
    "plt.title('KIRC', fontsize=16)\n",
    "plt.xticks(index, pairings)\n",
    "plt.ylim(0,35)\n",
    "plt.legend(prop={'size':13},loc=1)\n",
    "\n",
    "plt.subplot(2, 2, 3)\n",
    "actual_vals = list(lihc_actual_dict.values())\n",
    "expected_vals = list(lihc_expected_dict.values())\n",
    "difference = [x - y for x, y in zip(expected_vals, actual_vals)]\n",
    "\n",
    "p1 = plt.bar(index, actual_vals, bar_width,alpha=opacity, color='#2679b2',label='Recovered')\n",
    "p2 = plt.bar(index, difference, bar_width, bottom=actual_vals, alpha=opacity, color='#a7cee2',label='Unrecovered')\n",
    "\n",
    "plt.title('LIHC', fontsize=16)\n",
    "plt.ylabel('Number of Mappings', fontdict=label_font)\n",
    "plt.xticks(index, pairings)\n",
    "plt.ylim(0,35)\n",
    "plt.legend(prop={'size':13},loc=1)\n",
    "\n",
    "plt.subplot(2, 2, 4)\n",
    "actual_vals = list(prad_actual_dict.values())\n",
    "expected_vals = list(prad_expected_dict.values())\n",
    "difference = [x - y for x, y in zip(expected_vals, actual_vals)]\n",
    "\n",
    "p1 = plt.bar(index, actual_vals, bar_width,alpha=opacity, color='#2679b2',label='Recovered')\n",
    "p2 = plt.bar(index, difference, bar_width, bottom=actual_vals, alpha=opacity, color='#a7cee2',label='Unrecovered')\n",
    "\n",
    "plt.title('PRAD', fontsize=16)\n",
    "plt.ylim(0,35)\n",
    "plt.xticks(index, pairings)\n",
    "plt.legend(prop={'size':13},loc=1)\n",
    "\n",
    "fig.autofmt_xdate()\n",
    "fig.tight_layout(rect=[0, 0.03, 1, 0.95])\n",
    "plt.savefig('pairwise_mappings_spia.png',dpi=250)\n",
    "plt.show()"
   ]
  },
  {
   "cell_type": "code",
   "execution_count": null,
   "metadata": {},
   "outputs": [],
   "source": []
  }
 ],
 "metadata": {
  "kernelspec": {
   "display_name": "Python 3",
   "language": "python",
   "name": "python3"
  },
  "language_info": {
   "codemirror_mode": {
    "name": "ipython",
    "version": 3
   },
   "file_extension": ".py",
   "mimetype": "text/x-python",
   "name": "python",
   "nbconvert_exporter": "python",
   "pygments_lexer": "ipython3",
   "version": "3.6.5"
  }
 },
 "nbformat": 4,
 "nbformat_minor": 2
}
