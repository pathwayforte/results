{
 "cells": [
  {
   "cell_type": "markdown",
   "metadata": {},
   "source": [
    "# Plot recovered versus un-recovered equivalent pathway mappings from ORA results"
   ]
  },
  {
   "cell_type": "code",
   "execution_count": 1,
   "metadata": {},
   "outputs": [],
   "source": [
    "import json\n",
    "import os\n",
    "import collections\n",
    "import matplotlib.pyplot as plt\n",
    "import numpy as np\n",
    "import pandas as pd\n",
    "import itertools as itt\n",
    "\n",
    "from bio2bel_kegg import Manager as KeggManager\n",
    "from bio2bel_reactome import Manager as ReactomeManager\n",
    "from bio2bel_wikipathways import Manager as WikipathwaysManager\n",
    "\n",
    "from pathway_forte.constants import *\n",
    "from pathway_forte.pathway_enrichment.functional_class import *"
   ]
  },
  {
   "cell_type": "code",
   "execution_count": 2,
   "metadata": {},
   "outputs": [],
   "source": [
    "# Initiate Bio2BEL manager to map pathway identifiers to names\n",
    "kegg_manager = KeggManager()\n",
    "reactome_manager = ReactomeManager()\n",
    "wikipathways_manager = WikipathwaysManager()"
   ]
  },
  {
   "cell_type": "code",
   "execution_count": 3,
   "metadata": {},
   "outputs": [],
   "source": [
    "brca_dataset = 'brca'\n",
    "kirc_dataset = 'kirc'\n",
    "lihc_dataset = 'lihc'\n",
    "prad_dataset = 'prad'"
   ]
  },
  {
   "cell_type": "code",
   "execution_count": 5,
   "metadata": {},
   "outputs": [],
   "source": [
    "def get_spia_results(dataset, p_value=None):\n",
    "    \"\"\"Get SPIA results for KEGG, Reactome and WikiPathways for a dataset from JSON file. \n",
    "    \"\"\"\n",
    "    kegg_path = os.path.join(PROJECT_SPIA, dataset, f'{dataset}_kegg_spia.csv')\n",
    "    reactome_path = os.path.join(PROJECT_SPIA, dataset, f'{dataset}_reactome_spia.csv')\n",
    "    wikipathways_path = os.path.join(PROJECT_SPIA, dataset, f'{dataset}_wikipathways_spia.csv')\n",
    "\n",
    "    kegg_df_total = pd.read_csv(kegg_path, sep=',')\n",
    "    reactome_df_total = pd.read_csv(reactome_path, sep=',')\n",
    "    wp_df_total = pd.read_csv(wikipathways_path, sep=',')\n",
    "    \n",
    "    kegg_df = pd.DataFrame()\n",
    "    reactome_df = pd.DataFrame()\n",
    "    wp_df = pd.DataFrame()\n",
    "    \n",
    "    kegg_df['pathway_id'] = [('hsa0' + str(_id)) for _id in kegg_df_total['ID']]\n",
    "    reactome_df['pathway_id'] = [('R-HSA-' + str(_id)) for _id in reactome_df_total['ID']]\n",
    "    wp_df['pathway_id'] = [_id for _id in wp_df_total['ID']]\n",
    "\n",
    "    kegg_df['status'] = [i for i in kegg_df_total['Status']]\n",
    "    reactome_df['status'] = [i for i in reactome_df_total['Status']]\n",
    "    wp_df['status'] = [i for i in wp_df_total['Status']]\n",
    "    \n",
    "    # get Bonferroni adjusted global p-value\n",
    "    kegg_df['pGFWER'] = [i for i in kegg_df_total['pGFWER']]\n",
    "    reactome_df['pGFWER'] = [i for i in reactome_df_total['pGFWER']]\n",
    "    wp_df['pGFWER'] = [i for i in wp_df_total['pGFWER']]\n",
    "        \n",
    "    # Filter dataFrame to include only those pathways with an adjusted p-value less than X\n",
    "    if p_value is not None:\n",
    "        kegg_df = kegg_df.loc[kegg_df['pGFWER'] < p_value]\n",
    "        reactome_df = reactome_df.loc[reactome_df['pGFWER'] < p_value]\n",
    "        wp_df = wp_df.loc[wp_df['pGFWER'] < p_value]\n",
    "\n",
    "    # sort dataFrame by Bonferroni adjusted global p-value\n",
    "    kegg_df.sort_values('pGFWER', inplace=True)\n",
    "    reactome_df.sort_values('pGFWER', inplace=True)\n",
    "    wp_df.sort_values('pGFWER', inplace=True)\n",
    "\n",
    "    return kegg_df, reactome_df, wp_df\n"
   ]
  },
  {
   "cell_type": "code",
   "execution_count": 6,
   "metadata": {},
   "outputs": [],
   "source": [
    "def get_pathway_names(\n",
    "        database, \n",
    "        pathway_df,\n",
    "        kegg_manager: Optional[bio2bel_kegg.Manager] = None,\n",
    "        reactome_manager: Optional[bio2bel_reactome.Manager] = None,\n",
    "        wikipathways_manager: Optional[bio2bel_wikipathways.Manager] = None\n",
    "):  \n",
    "    \n",
    "    if database == KEGG:\n",
    "        pathway_df['pathway_name'] = [\n",
    "            kegg_manager.get_pathway_by_id('path:' + pathway_id)\n",
    "            for pathway_id in list(pathway_df['pathway_id'])\n",
    "        ]\n",
    "        return pathway_df\n",
    "\n",
    "    elif database == REACTOME:\n",
    "        pathway_df['pathway_name'] = [\n",
    "            reactome_manager.get_pathway_by_id(pathway_id)\n",
    "            for pathway_id in list(pathway_df['pathway_id'])\n",
    "        ]\n",
    "        return pathway_df\n",
    "    \n",
    "    elif database == WIKIPATHWAYS:\n",
    "        pathway_df['pathway_name'] = [\n",
    "            wikipathways_manager.get_pathway_by_id(pathway_id)\n",
    "            for pathway_id in list(pathway_df['pathway_id'])\n",
    "        ]\n",
    "        return pathway_df\n"
   ]
  },
  {
   "cell_type": "code",
   "execution_count": 7,
   "metadata": {},
   "outputs": [],
   "source": [
    "brca_kegg_df, brca_reactome_df, brca_wp_df = get_spia_results('brca',0.05)\n",
    "kirc_kegg_df, kirc_reactome_df, kirc_wp_df = get_spia_results('kirc',0.05)\n",
    "lihc_kegg_df, lihc_reactome_df, lihc_wp_df = get_spia_results('lihc',0.05)\n",
    "prad_kegg_df, prad_reactome_df, prad_wp_df = get_spia_results('prad',0.05)"
   ]
  },
  {
   "cell_type": "code",
   "execution_count": 8,
   "metadata": {},
   "outputs": [],
   "source": [
    "brca_kegg_df = get_pathway_names('kegg',brca_kegg_df,kegg_manager=kegg_manager)\n",
    "kirc_kegg_df = get_pathway_names('kegg',kirc_kegg_df,kegg_manager=kegg_manager)\n",
    "lihc_kegg_df = get_pathway_names('kegg',lihc_kegg_df,kegg_manager=kegg_manager)\n",
    "prad_kegg_df = get_pathway_names('kegg',prad_kegg_df,kegg_manager=kegg_manager)"
   ]
  },
  {
   "cell_type": "code",
   "execution_count": 9,
   "metadata": {},
   "outputs": [],
   "source": [
    "brca_reactome_df = get_pathway_names('reactome',brca_reactome_df,reactome_manager=reactome_manager)\n",
    "kirc_reactome_df = get_pathway_names('reactome',kirc_reactome_df,reactome_manager=reactome_manager)\n",
    "lihc_reactome_df = get_pathway_names('reactome',lihc_reactome_df,reactome_manager=reactome_manager)\n",
    "prad_reactome_df = get_pathway_names('reactome',prad_reactome_df,reactome_manager=reactome_manager)"
   ]
  },
  {
   "cell_type": "code",
   "execution_count": 10,
   "metadata": {},
   "outputs": [],
   "source": [
    "brca_wp_df = get_pathway_names('wikipathways',brca_wp_df,wikipathways_manager=wikipathways_manager)\n",
    "kirc_wp_df = get_pathway_names('wikipathways',kirc_wp_df,wikipathways_manager=wikipathways_manager)\n",
    "lihc_wp_df = get_pathway_names('wikipathways',lihc_wp_df,wikipathways_manager=wikipathways_manager)\n",
    "prad_wp_df = get_pathway_names('wikipathways',prad_wp_df,wikipathways_manager=wikipathways_manager)"
   ]
  },
  {
   "cell_type": "code",
   "execution_count": 11,
   "metadata": {},
   "outputs": [],
   "source": [
    "brca_actual_dict, brca_expected_dict = get_pairwise_mapping_numbers(\n",
    "    brca_kegg_df, \n",
    "    brca_reactome_df, \n",
    "    brca_wp_df, \n",
    ")\n",
    "kirc_actual_dict, kirc_expected_dict = get_pairwise_mapping_numbers(\n",
    "    kirc_kegg_df, \n",
    "    kirc_reactome_df, \n",
    "    kirc_wp_df, \n",
    ")\n",
    "lihc_actual_dict, lihc_expected_dict = get_pairwise_mapping_numbers(\n",
    "    lihc_kegg_df, \n",
    "    lihc_reactome_df, \n",
    "    lihc_wp_df, \n",
    ")\n",
    "prad_actual_dict, prad_expected_dict = get_pairwise_mapping_numbers(\n",
    "    prad_kegg_df, \n",
    "    prad_reactome_df, \n",
    "    prad_wp_df, \n",
    ")"
   ]
  },
  {
   "cell_type": "markdown",
   "metadata": {},
   "source": [
    "Plot how many pairwise pathways with mappings exist versus how many are expected"
   ]
  },
  {
   "cell_type": "code",
   "execution_count": 12,
   "metadata": {},
   "outputs": [
    {
     "data": {
      "image/png": "[encoded data removed]",
      "text/plain": [
       "<Figure size 864x720 with 4 Axes>"
      ]
     },
     "metadata": {},
     "output_type": "display_data"
    }
   ],
   "source": [
    "fig, ax = plt.subplots(nrows=2, ncols=2, figsize=(12,10))\n",
    "fig.suptitle('Recovered vs Unrecovered Mappings in SPIA Results', fontsize=22)\n",
    "\n",
    "N = 6\n",
    "index = np.arange(N)\n",
    "bar_width = 0.5\n",
    "opacity = 0.8\n",
    "\n",
    "pairings = ('KEGG-Reactome', \n",
    " 'KEGG-WikiPathways', \n",
    " 'Reactome-KEGG', \n",
    " 'Reactome-WikiPathways',\n",
    " 'WikiPathways-KEGG', \n",
    " 'WikiPathways-Reactome',\n",
    ")\n",
    "label_font = {'size': 16}\n",
    "\n",
    "plt.subplot(2, 2, 1)\n",
    "actual_vals = list(brca_actual_dict.values())\n",
    "expected_vals = list(brca_expected_dict.values())\n",
    "difference = [x - y for x, y in zip(expected_vals, actual_vals)]\n",
    "\n",
    "p1 = plt.bar(index, actual_vals, bar_width,alpha=opacity, color='#2679b2',label='Recovered')\n",
    "p2 = plt.bar(index, difference, bar_width, bottom=actual_vals, alpha=opacity, color='#a7cee2',label='Unrecovered')\n",
    "\n",
    "plt.title('BRCA', fontsize=16)\n",
    "plt.ylabel('Number of Mappings', fontdict=label_font)\n",
    "plt.xticks(index, pairings)\n",
    "plt.ylim(0,35)\n",
    "plt.legend(prop={'size':13},loc=1)\n",
    "\n",
    "\n",
    "plt.subplot(2, 2, 2)\n",
    "actual_vals = list(kirc_actual_dict.values())\n",
    "expected_vals = list(kirc_expected_dict.values())\n",
    "difference = [x - y for x, y in zip(expected_vals, actual_vals)]\n",
    "\n",
    "p1 = plt.bar(index, actual_vals, bar_width,alpha=opacity, color='#2679b2',label='Recovered')\n",
    "p2 = plt.bar(index, difference, bar_width, bottom=actual_vals, alpha=opacity, color='#a7cee2',label='Unrecovered')\n",
    "\n",
    "plt.title('KIRC', fontsize=16)\n",
    "plt.xticks(index, pairings)\n",
    "plt.ylim(0,35)\n",
    "plt.legend(prop={'size':13},loc=1)\n",
    "\n",
    "plt.subplot(2, 2, 3)\n",
    "actual_vals = list(lihc_actual_dict.values())\n",
    "expected_vals = list(lihc_expected_dict.values())\n",
    "difference = [x - y for x, y in zip(expected_vals, actual_vals)]\n",
    "\n",
    "p1 = plt.bar(index, actual_vals, bar_width,alpha=opacity, color='#2679b2',label='Recovered')\n",
    "p2 = plt.bar(index, difference, bar_width, bottom=actual_vals, alpha=opacity, color='#a7cee2',label='Unrecovered')\n",
    "\n",
    "plt.title('LIHC', fontsize=16)\n",
    "plt.ylabel('Number of Mappings', fontdict=label_font)\n",
    "plt.xticks(index, pairings)\n",
    "plt.ylim(0,35)\n",
    "plt.legend(prop={'size':13},loc=1)\n",
    "\n",
    "plt.subplot(2, 2, 4)\n",
    "actual_vals = list(prad_actual_dict.values())\n",
    "expected_vals = list(prad_expected_dict.values())\n",
    "difference = [x - y for x, y in zip(expected_vals, actual_vals)]\n",
    "\n",
    "p1 = plt.bar(index, actual_vals, bar_width,alpha=opacity, color='#2679b2',label='Recovered')\n",
    "p2 = plt.bar(index, difference, bar_width, bottom=actual_vals, alpha=opacity, color='#a7cee2',label='Unrecovered')\n",
    "\n",
    "plt.title('PRAD', fontsize=16)\n",
    "plt.ylim(0,35)\n",
    "plt.xticks(index, pairings)\n",
    "plt.legend(prop={'size':13},loc=1)\n",
    "\n",
    "fig.autofmt_xdate()\n",
    "fig.tight_layout(rect=[0, 0.03, 1, 0.95])\n",
    "plt.savefig('pairwise_mappings.png',dpi=250)\n",
    "plt.show()"
   ]
  },
  {
   "cell_type": "code",
   "execution_count": null,
   "metadata": {},
   "outputs": [],
   "source": []
  }
 ],
 "metadata": {
  "kernelspec": {
   "display_name": "Python 3",
   "language": "python",
   "name": "python3"
  },
  "language_info": {
   "codemirror_mode": {
    "name": "ipython",
    "version": 3
   },
   "file_extension": ".py",
   "mimetype": "text/x-python",
   "name": "python",
   "nbconvert_exporter": "python",
   "pygments_lexer": "ipython3",
   "version": "3.6.5"
  }
 },
 "nbformat": 4,
 "nbformat_minor": 2
}
