{
 "cells": [
  {
   "cell_type": "markdown",
   "metadata": {},
   "source": [
    "# Occurence of different databases in PubMed Central\n",
    "\n",
    "This notebooks uses the SCAIView API to query the number of publications in PubMed Central that mention a given pathway database."
   ]
  },
  {
   "cell_type": "code",
   "execution_count": 1,
   "metadata": {},
   "outputs": [],
   "source": [
    "import simplejson as json\n",
    "import requests\n",
    "import urllib\n",
    "from requests.exceptions import HTTPError\n",
    "from IPython.core.display import display, HTML"
   ]
  },
  {
   "cell_type": "markdown",
   "metadata": {},
   "source": [
    "For security reasons the security token is not displayed here"
   ]
  },
  {
   "cell_type": "code",
   "execution_count": null,
   "metadata": {},
   "outputs": [],
   "source": [
    "def fetchToken():\n",
    "    \"fetch token from keycloak\"\n",
    "    clientSecret = getpass.getpass('Password:')\n",
    "\n",
    "    response = requests.post(\n",
    "        keycloak_uri+'protocol/openid-connect/token',\n",
    "        data={'grant_type':'client_credentials', 'client_id':'temowl-backend', 'client_secret':clientSecret}\n",
    "    )\n",
    "    \n",
    "    return response.json()['access_token']\n"
   ]
  },
  {
   "cell_type": "code",
   "execution_count": 3,
   "metadata": {},
   "outputs": [],
   "source": [
    "def query_scaiview(query, limit=10):\n",
    "    response = requests.get(\n",
    "        scaiview_uri+'v2/solr/search?',\n",
    "        params={'q':query, 'rows':limit, 'sortField':'date', 'sortOrder':'DESC', 'collection':'PMC_2019'},\n",
    "        headers={'Accept': 'application/json', 'Authorization': 'Bearer '+ fetchToken},\n",
    "    )\n",
    "    json_response = response.json()\n",
    "    documents = json_response['documents']\n",
    "    numFound = json_response['numFound']\n",
    "    return numFound"
   ]
  },
  {
   "cell_type": "markdown",
   "metadata": {},
   "source": [
    "### Query for documents in PMC 2019 Central"
   ]
  },
  {
   "cell_type": "code",
   "execution_count": 5,
   "metadata": {
    "scrolled": true
   },
   "outputs": [
    {
     "name": "stdout",
     "output_type": "stream",
     "text": [
      "kegg AND pathway enrichment resulted in 27713 publications\n",
      "reactome AND pathway enrichment resulted in 3765 publications\n",
      "wikipathways AND pathway enrichment resulted in 651 publications\n",
      "msigdb AND pathway enrichment resulted in 2892 publications\n",
      "consensuspathdb AND pathway enrichment resulted in 339 publications\n",
      "pathway commons AND pathway enrichment resulted in 1640 publications\n"
     ]
    }
   ],
   "source": [
    "queries = [\n",
    "    'kegg AND pathway enrichment',\n",
    "    'reactome AND pathway enrichment',\n",
    "    'wikipathways AND pathway enrichment',\n",
    "    'msigdb AND pathway enrichment',\n",
    "    'consensuspathdb AND pathway enrichment',\n",
    "    'pathway commons AND pathway enrichment',\n",
    "]\n",
    "\n",
    "for query in queries:\n",
    "    results = query_scaiview(query, 10)\n",
    "    print(f'{query} resulted in {results} publications')"
   ]
  },
  {
   "cell_type": "markdown",
   "metadata": {},
   "source": [
    "Number of publications citing major pathway resources for pathway enrichment in PubMed Central (PMC) 2019. In order to achieve a rough estimate on how many publications used several pathway databases for pathway enrichment, SCAIView (http://academia.scaiview.com/academia/; indexed on 01/03/2019) was used to conduct the following query using the PMC corpus: “<database name>” AND “pathway enrichment”."
   ]
  }
 ],
 "metadata": {
  "kernelspec": {
   "display_name": "Python 3",
   "language": "python",
   "name": "python3"
  },
  "language_info": {
   "codemirror_mode": {
    "name": "ipython",
    "version": 3
   },
   "file_extension": ".py",
   "mimetype": "text/x-python",
   "name": "python",
   "nbconvert_exporter": "python",
   "pygments_lexer": "ipython3",
   "version": "3.6.5"
  }
 },
 "nbformat": 4,
 "nbformat_minor": 2
}
