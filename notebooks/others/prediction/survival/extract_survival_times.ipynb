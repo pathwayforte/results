{
 "cells": [
  {
   "cell_type": "markdown",
   "metadata": {},
   "source": [
    "# Get survival information from cBioPortal clincal data"
   ]
  },
  {
   "cell_type": "code",
   "execution_count": 1,
   "metadata": {
    "collapsed": true
   },
   "outputs": [],
   "source": [
    "import numpy as np\n",
    "import pandas as pd\n",
    "\n",
    "from pathme_forte.constants import *"
   ]
  },
  {
   "cell_type": "code",
   "execution_count": 2,
   "metadata": {
    "collapsed": true
   },
   "outputs": [],
   "source": [
    "BRCA_CLINICAL_DATA = os.path.join(DATA,'tcga_datasets','brca','brca_tcga_clinical_data.tsv')\n",
    "LIHC_CLINICAL_DATA = os.path.join(DATA,'tcga_datasets','lihc','lihc_tcga_clinical_data.tsv')\n",
    "PRAD_CLINICAL_DATA = os.path.join(DATA,'tcga_datasets','prad','prad_tcga_clinical_data.tsv')\n",
    "KIRC_CLINICAL_DATA = os.path.join(DATA,'tcga_datasets','kirc','kirc_tcga_clinical_data.tsv')\n",
    "OV_CLINICAL_DATA = os.path.join(DATA,'tcga_datasets','ov','ov_tcga_clinical_data.tsv')"
   ]
  },
  {
   "cell_type": "code",
   "execution_count": 4,
   "metadata": {
    "collapsed": true
   },
   "outputs": [],
   "source": [
    "survival_data_to_csv(BRCA_CLINICAL_DATA,'brca')\n",
    "survival_data_to_csv(KIRC_CLINICAL_DATA,'kirc')\n",
    "survival_data_to_csv(LIHC_CLINICAL_DATA,'lihc')\n",
    "survival_data_to_csv(PRAD_CLINICAL_DATA,'prad')\n",
    "survival_data_to_csv(OV_CLINICAL_DATA,'ov')"
   ]
  }
 ],
 "metadata": {
  "kernelspec": {
   "display_name": "Python 3",
   "language": "python",
   "name": "python3"
  },
  "language_info": {
   "codemirror_mode": {
    "name": "ipython",
    "version": 3
   },
   "file_extension": ".py",
   "mimetype": "text/x-python",
   "name": "python",
   "nbconvert_exporter": "python",
   "pygments_lexer": "ipython3",
   "version": "3.6.5"
  }
 },
 "nbformat": 4,
 "nbformat_minor": 2
}
