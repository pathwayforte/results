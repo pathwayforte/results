{
 "cells": [
  {
   "cell_type": "markdown",
   "metadata": {},
   "source": [
    "# Evaluate cancer subtype classification SVM model with main classification metrics "
   ]
  },
  {
   "cell_type": "code",
   "execution_count": 1,
   "metadata": {},
   "outputs": [],
   "source": [
    "from collections import defaultdict\n",
    "import matplotlib.pyplot as plt\n",
    "import numpy as np\n",
    "import os\n",
    "import pandas as pd\n",
    "from random import shuffle\n",
    "import seaborn as sns\n",
    "from tqdm import tqdm\n",
    "\n",
    "from pathway_forte.multiclass_prediction import *"
   ]
  },
  {
   "cell_type": "code",
   "execution_count": 1,
   "metadata": {},
   "outputs": [
    {
     "ename": "NameError",
     "evalue": "name 'os' is not defined",
     "output_type": "error",
     "traceback": [
      "\u001b[0;31m---------------------------------------------------------------------------\u001b[0m",
      "\u001b[0;31mNameError\u001b[0m                                 Traceback (most recent call last)",
      "\u001b[0;32m<ipython-input-1-9dc3c8571f8b>\u001b[0m in \u001b[0;36m<module>\u001b[0;34m()\u001b[0m\n\u001b[1;32m      1\u001b[0m \u001b[0;31m# update paths\u001b[0m\u001b[0;34m\u001b[0m\u001b[0;34m\u001b[0m\u001b[0m\n\u001b[0;32m----> 2\u001b[0;31m \u001b[0mCANCER_SUBTYPES\u001b[0m \u001b[0;34m=\u001b[0m \u001b[0mos\u001b[0m\u001b[0;34m.\u001b[0m\u001b[0mpath\u001b[0m\u001b[0;34m.\u001b[0m\u001b[0mjoin\u001b[0m\u001b[0;34m(\u001b[0m\u001b[0mDATA\u001b[0m\u001b[0;34m,\u001b[0m\u001b[0;34m'tcga_datasets'\u001b[0m\u001b[0;34m,\u001b[0m\u001b[0;34m'brca'\u001b[0m\u001b[0;34m,\u001b[0m\u001b[0;34m'brca_subtypes_matrix.txt'\u001b[0m\u001b[0;34m)\u001b[0m\u001b[0;34m\u001b[0m\u001b[0m\n\u001b[0m\u001b[1;32m      3\u001b[0m \u001b[0mbrca_subtypes_df\u001b[0m \u001b[0;34m=\u001b[0m \u001b[0mpd\u001b[0m\u001b[0;34m.\u001b[0m\u001b[0mread_csv\u001b[0m\u001b[0;34m(\u001b[0m\u001b[0mCANCER_SUBTYPES\u001b[0m\u001b[0;34m,\u001b[0m \u001b[0msep\u001b[0m\u001b[0;34m=\u001b[0m\u001b[0;34m'\\t'\u001b[0m\u001b[0;34m)\u001b[0m\u001b[0;34m\u001b[0m\u001b[0m\n\u001b[1;32m      4\u001b[0m \u001b[0;34m\u001b[0m\u001b[0m\n\u001b[1;32m      5\u001b[0m \u001b[0mkegg_ssgsea_path\u001b[0m \u001b[0;34m=\u001b[0m \u001b[0mos\u001b[0m\u001b[0;34m.\u001b[0m\u001b[0mpath\u001b[0m\u001b[0;34m.\u001b[0m\u001b[0mjoin\u001b[0m\u001b[0;34m(\u001b[0m\u001b[0mKEGG_SSGSEA\u001b[0m\u001b[0;34m,\u001b[0m \u001b[0;34m'kegg_brca.tsv'\u001b[0m\u001b[0;34m)\u001b[0m\u001b[0;34m\u001b[0m\u001b[0m\n",
      "\u001b[0;31mNameError\u001b[0m: name 'os' is not defined"
     ]
    }
   ],
   "source": [
    "# update paths \n",
    "CANCER_SUBTYPES = os.path.join(DATA,'tcga_datasets','brca','brca_subtypes_matrix.txt')\n",
    "brca_subtypes_df = pd.read_csv(CANCER_SUBTYPES, sep='\\t')\n",
    "\n",
    "kegg_ssgsea_path = os.path.join(KEGG_SSGSEA, 'kegg_brca.tsv')\n",
    "wikipathways_ssgsea_path = os.path.join(WIKIPATHWAYS_SSGSEA, 'wikipathways_brca.tsv')\n",
    "reactome_ssgsea_path = os.path.join(REACTOME_SSGSEA, 'reactome_brca.tsv')\n",
    "merge_ssgsea_path = os.path.join(MERGE_SSGSEA, 'merge_brca.tsv')\n",
    "\n",
    "msigdb_kegg_ssgsea_path = os.path.join(MSIG_SSGSEA, 'kegg_msig_brca.tsv')\n",
    "msigdb_reactome_ssgsea_path = os.path.join(MSIG_SSGSEA, 'reactome_msig_brca.tsv')"
   ]
  },
  {
   "cell_type": "code",
   "execution_count": 3,
   "metadata": {},
   "outputs": [],
   "source": [
    "# Get sample IDs and corresponding cancer subtypes\n",
    "patient_ids = get_sample_ids_with_cancer_subtypes(CANCER_SUBTYPES)"
   ]
  },
  {
   "cell_type": "code",
   "execution_count": 4,
   "metadata": {},
   "outputs": [],
   "source": [
    "# Get ssGSEA scores dataFrame \n",
    "kegg_enrichment_score_df = stabilize_ssgsea_scores_df(kegg_ssgsea_path) \n",
    "wikipathways_enrichment_score_df = stabilize_ssgsea_scores_df(wikipathways_ssgsea_path) \n",
    "reactome_enrichment_score_df = stabilize_ssgsea_scores_df(reactome_ssgsea_path)\n",
    "merge_enrichment_score_df = stabilize_ssgsea_scores_df(merge_ssgsea_path)\n",
    "\n",
    "msig_kegg_enrichment_score_df = stabilize_ssgsea_scores_df(msigdb_kegg_ssgsea_path)\n",
    "msig_reactome_enrichment_score_df = stabilize_ssgsea_scores_df(msigdb_reactome_ssgsea_path)"
   ]
  },
  {
   "cell_type": "markdown",
   "metadata": {},
   "source": [
    "Match sample IDs in ssGSEA scores dataFrame with those in cancer subtype list such that only cancer patients with specified cancer subtypes are retained in the scores dataFrame. This filters out all control samples and any cancer cases with normal or NA type cancer subtype. A total of 1050 are retained from the complete set of 1215 samples. TCGA reports 5 cancer subtypes: normal, basal, Her2, LumA and LumB."
   ]
  },
  {
   "cell_type": "code",
   "execution_count": 5,
   "metadata": {},
   "outputs": [],
   "source": [
    "kegg_pathway_features = match_samples(kegg_enrichment_score_df,patient_ids)\n",
    "reactome_pathway_features = match_samples(reactome_enrichment_score_df,patient_ids)\n",
    "wikipathways_pathway_features = match_samples(wikipathways_enrichment_score_df,patient_ids)\n",
    "merged_pathway_features = match_samples(merge_enrichment_score_df,patient_ids)\n",
    "\n",
    "msig_kegg_pathway_features = match_samples(msig_kegg_enrichment_score_df,patient_ids)\n",
    "msig_reactome_pathway_features = match_samples(msig_reactome_enrichment_score_df,patient_ids)"
   ]
  },
  {
   "cell_type": "code",
   "execution_count": 6,
   "metadata": {},
   "outputs": [
    {
     "name": "stdout",
     "output_type": "stream",
     "text": [
      "The number of samples by features/pathways for each resource are:\n",
      "KEGG: (1050, 311)\n",
      "Reactome: (1050, 1170)\n",
      "WikiPathways: (1050, 362)\n",
      "PathwayForte: (1050, 1726)\n",
      "MSigDB KEGG: (1050, 177)\n",
      "MSigDB Reactome: (1050, 523)\n"
     ]
    }
   ],
   "source": [
    "print('The number of samples by features/pathways for each resource are:')\n",
    "print('KEGG: {}'.format(kegg_pathway_features.shape))\n",
    "print('Reactome: {}'.format(reactome_pathway_features.shape))\n",
    "print('WikiPathways: {}'.format(wikipathways_pathway_features.shape))\n",
    "print('PathwayForte: {}'.format(merged_pathway_features.shape))\n",
    "\n",
    "print('MSigDB KEGG: {}'.format(msig_kegg_pathway_features.shape))\n",
    "print('MSigDB Reactome: {}'.format(msig_reactome_pathway_features.shape))"
   ]
  },
  {
   "cell_type": "code",
   "execution_count": 7,
   "metadata": {},
   "outputs": [],
   "source": [
    "# Get arrays of class labels ordered the same way as features\n",
    "kegg_class_labels = get_class_labels(kegg_pathway_features, brca_subtypes_df)\n",
    "reactome_class_labels = get_class_labels(reactome_pathway_features, brca_subtypes_df)\n",
    "wikipathways_class_labels = get_class_labels(wikipathways_pathway_features, brca_subtypes_df)\n",
    "merged_class_labels = get_class_labels(merged_pathway_features, brca_subtypes_df)\n",
    "\n",
    "msig_kegg_class_labels = get_class_labels(msig_kegg_pathway_features, brca_subtypes_df)\n",
    "msig_reactome_class_labels = get_class_labels(msig_reactome_pathway_features, brca_subtypes_df)"
   ]
  },
  {
   "cell_type": "code",
   "execution_count": 8,
   "metadata": {},
   "outputs": [],
   "source": [
    "# Get arrays of class labels ordered the same way as features\n",
    "shuffle_kegg_class_labels = get_class_labels(kegg_pathway_features, brca_subtypes_df)\n",
    "shuffle_reactome_class_labels = get_class_labels(reactome_pathway_features, brca_subtypes_df)\n",
    "shuffle_wikipathways_class_labels = get_class_labels(wikipathways_pathway_features, brca_subtypes_df)\n",
    "shuffle_merged_class_labels = get_class_labels(merged_pathway_features, brca_subtypes_df)\n",
    "\n",
    "shuffle_msig_kegg_class_labels = get_class_labels(msig_kegg_pathway_features, brca_subtypes_df)\n",
    "shuffle_msig_reactome_class_labels = get_class_labels(msig_reactome_pathway_features, brca_subtypes_df)"
   ]
  },
  {
   "cell_type": "code",
   "execution_count": 9,
   "metadata": {},
   "outputs": [],
   "source": [
    "kegg_features_array = convert_df_to_features_array(kegg_pathway_features)\n",
    "reactome_features_array = convert_df_to_features_array(reactome_pathway_features)\n",
    "wikipathways_features_array = convert_df_to_features_array(wikipathways_pathway_features)\n",
    "merged_features_array = convert_df_to_features_array(merged_pathway_features)\n",
    "\n",
    "msig_kegg_features_array = convert_df_to_features_array(msig_kegg_pathway_features)\n",
    "msig_reactome_features_array = convert_df_to_features_array(msig_reactome_pathway_features)"
   ]
  },
  {
   "cell_type": "code",
   "execution_count": 13,
   "metadata": {
    "scrolled": true
   },
   "outputs": [
    {
     "name": "stderr",
     "output_type": "stream",
     "text": [
      "0it [00:00, ?it/s]/home/sarah/anaconda3/lib/python3.6/site-packages/sklearn/model_selection/_search.py:841: DeprecationWarning: The default of the `iid` parameter will change from True to False in version 0.22 and will be removed in 0.24. This will change numeric results when test-set sizes are unequal.\n",
      "  DeprecationWarning)\n",
      "1it [00:10, 10.66s/it]"
     ]
    },
    {
     "name": "stdout",
     "output_type": "stream",
     "text": [
      "For iteration 1:\n",
      "best parameter is {'estimator__C': 10, 'estimator__kernel': 'rbf'}\n",
      "test accuracy is 0.8666666666666667\n",
      "f1 score is 0.8630854640706856\n",
      "\n",
      "\n",
      "              precision    recall  f1-score   support\n",
      "\n",
      "     Class 0       0.84      0.93      0.88        55\n",
      "     Class 1       0.79      0.65      0.71        23\n",
      "     Class 2       1.00      0.71      0.83         7\n",
      "     Class 3       1.00      1.00      1.00        20\n",
      "\n",
      "   micro avg       0.87      0.87      0.87       105\n",
      "   macro avg       0.91      0.82      0.86       105\n",
      "weighted avg       0.87      0.87      0.86       105\n",
      "\n"
     ]
    },
    {
     "name": "stderr",
     "output_type": "stream",
     "text": [
      "\r",
      "2it [00:21, 10.50s/it]"
     ]
    },
    {
     "name": "stdout",
     "output_type": "stream",
     "text": [
      "For iteration 2:\n",
      "best parameter is {'estimator__C': 10, 'estimator__kernel': 'linear'}\n",
      "test accuracy is 0.9238095238095239\n",
      "f1 score is 0.9251575174848831\n",
      "\n",
      "\n",
      "              precision    recall  f1-score   support\n",
      "\n",
      "     Class 0       0.95      0.93      0.94        59\n",
      "     Class 1       0.78      0.88      0.82        16\n",
      "     Class 2       0.86      1.00      0.92         6\n",
      "     Class 3       1.00      0.92      0.96        24\n",
      "\n",
      "   micro avg       0.92      0.92      0.92       105\n",
      "   macro avg       0.90      0.93      0.91       105\n",
      "weighted avg       0.93      0.92      0.93       105\n",
      "\n"
     ]
    },
    {
     "name": "stderr",
     "output_type": "stream",
     "text": [
      "/home/sarah/anaconda3/lib/python3.6/site-packages/sklearn/model_selection/_search.py:841: DeprecationWarning: The default of the `iid` parameter will change from True to False in version 0.22 and will be removed in 0.24. This will change numeric results when test-set sizes are unequal.\n",
      "  DeprecationWarning)\n",
      "\r",
      "3it [00:31, 10.34s/it]"
     ]
    },
    {
     "name": "stdout",
     "output_type": "stream",
     "text": [
      "For iteration 3:\n",
      "best parameter is {'estimator__C': 10, 'estimator__kernel': 'rbf'}\n",
      "test accuracy is 0.8857142857142857\n",
      "f1 score is 0.8819634910544002\n",
      "\n",
      "\n",
      "              precision    recall  f1-score   support\n",
      "\n",
      "     Class 0       0.90      0.98      0.94        58\n",
      "     Class 1       0.86      0.67      0.75        18\n",
      "     Class 2       0.67      0.67      0.67         9\n",
      "     Class 3       0.95      0.90      0.92        20\n",
      "\n",
      "   micro avg       0.89      0.89      0.89       105\n",
      "   macro avg       0.84      0.80      0.82       105\n",
      "weighted avg       0.88      0.89      0.88       105\n",
      "\n"
     ]
    },
    {
     "name": "stderr",
     "output_type": "stream",
     "text": [
      "\r",
      "4it [00:41, 10.26s/it]"
     ]
    },
    {
     "name": "stdout",
     "output_type": "stream",
     "text": [
      "For iteration 4:\n",
      "best parameter is {'estimator__C': 10, 'estimator__kernel': 'linear'}\n",
      "test accuracy is 0.9428571428571428\n",
      "f1 score is 0.9428571428571428\n",
      "\n",
      "\n",
      "              precision    recall  f1-score   support\n",
      "\n",
      "     Class 0       0.96      0.96      0.96        54\n",
      "     Class 1       0.88      0.83      0.86        18\n",
      "     Class 2       0.82      0.90      0.86        10\n",
      "     Class 3       1.00      1.00      1.00        23\n",
      "\n",
      "   micro avg       0.94      0.94      0.94       105\n",
      "   macro avg       0.92      0.92      0.92       105\n",
      "weighted avg       0.94      0.94      0.94       105\n",
      "\n"
     ]
    },
    {
     "name": "stderr",
     "output_type": "stream",
     "text": [
      "/home/sarah/anaconda3/lib/python3.6/site-packages/sklearn/model_selection/_search.py:841: DeprecationWarning: The default of the `iid` parameter will change from True to False in version 0.22 and will be removed in 0.24. This will change numeric results when test-set sizes are unequal.\n",
      "  DeprecationWarning)\n",
      "\r",
      "5it [00:51, 10.31s/it]"
     ]
    },
    {
     "name": "stdout",
     "output_type": "stream",
     "text": [
      "For iteration 5:\n",
      "best parameter is {'estimator__C': 100, 'estimator__kernel': 'rbf'}\n",
      "test accuracy is 0.9047619047619048\n",
      "f1 score is 0.902998866213152\n",
      "\n",
      "\n",
      "              precision    recall  f1-score   support\n",
      "\n",
      "     Class 0       0.92      0.95      0.94        63\n",
      "     Class 1       0.85      0.65      0.73        17\n",
      "     Class 2       0.62      0.83      0.71         6\n",
      "     Class 3       1.00      1.00      1.00        19\n",
      "\n",
      "   micro avg       0.90      0.90      0.90       105\n",
      "   macro avg       0.85      0.86      0.85       105\n",
      "weighted avg       0.91      0.90      0.90       105\n",
      "\n"
     ]
    },
    {
     "name": "stderr",
     "output_type": "stream",
     "text": [
      "\r",
      "6it [01:01, 10.24s/it]"
     ]
    },
    {
     "name": "stdout",
     "output_type": "stream",
     "text": [
      "For iteration 6:\n",
      "best parameter is {'estimator__C': 100, 'estimator__kernel': 'rbf'}\n",
      "test accuracy is 0.8285714285714286\n",
      "f1 score is 0.8222532100413721\n",
      "\n",
      "\n",
      "              precision    recall  f1-score   support\n",
      "\n",
      "     Class 0       0.89      0.91      0.90        53\n",
      "     Class 1       0.71      0.76      0.73        29\n",
      "     Class 2       0.67      0.40      0.50        10\n",
      "     Class 3       0.93      1.00      0.96        13\n",
      "\n",
      "   micro avg       0.83      0.83      0.83       105\n",
      "   macro avg       0.80      0.77      0.77       105\n",
      "weighted avg       0.82      0.83      0.82       105\n",
      "\n"
     ]
    },
    {
     "name": "stderr",
     "output_type": "stream",
     "text": [
      "/home/sarah/anaconda3/lib/python3.6/site-packages/sklearn/model_selection/_search.py:841: DeprecationWarning: The default of the `iid` parameter will change from True to False in version 0.22 and will be removed in 0.24. This will change numeric results when test-set sizes are unequal.\n",
      "  DeprecationWarning)\n",
      "\r",
      "7it [01:11, 10.29s/it]"
     ]
    },
    {
     "name": "stdout",
     "output_type": "stream",
     "text": [
      "For iteration 7:\n",
      "best parameter is {'estimator__C': 10, 'estimator__kernel': 'linear'}\n",
      "test accuracy is 0.8857142857142857\n",
      "f1 score is 0.8845972073039743\n",
      "\n",
      "\n",
      "              precision    recall  f1-score   support\n",
      "\n",
      "     Class 0       0.93      0.93      0.93        58\n",
      "     Class 1       0.75      0.75      0.75        20\n",
      "     Class 2       0.78      0.70      0.74        10\n",
      "     Class 3       0.94      1.00      0.97        17\n",
      "\n",
      "   micro avg       0.89      0.89      0.89       105\n",
      "   macro avg       0.85      0.85      0.85       105\n",
      "weighted avg       0.88      0.89      0.88       105\n",
      "\n"
     ]
    },
    {
     "name": "stderr",
     "output_type": "stream",
     "text": [
      "/home/sarah/anaconda3/lib/python3.6/site-packages/sklearn/model_selection/_search.py:841: DeprecationWarning: The default of the `iid` parameter will change from True to False in version 0.22 and will be removed in 0.24. This will change numeric results when test-set sizes are unequal.\n",
      "  DeprecationWarning)\n",
      "\r",
      "8it [01:22, 10.27s/it]"
     ]
    },
    {
     "name": "stdout",
     "output_type": "stream",
     "text": [
      "For iteration 8:\n",
      "best parameter is {'estimator__C': 10, 'estimator__kernel': 'rbf'}\n",
      "test accuracy is 0.8666666666666667\n",
      "f1 score is 0.856034308370757\n",
      "\n",
      "\n",
      "              precision    recall  f1-score   support\n",
      "\n",
      "     Class 0       0.81      1.00      0.90        48\n",
      "     Class 1       0.90      0.64      0.75        28\n",
      "     Class 2       0.75      0.43      0.55         7\n",
      "     Class 3       1.00      1.00      1.00        22\n",
      "\n",
      "   micro avg       0.87      0.87      0.87       105\n",
      "   macro avg       0.87      0.77      0.80       105\n",
      "weighted avg       0.87      0.87      0.86       105\n",
      "\n"
     ]
    },
    {
     "name": "stderr",
     "output_type": "stream",
     "text": [
      "\r",
      "9it [01:32, 10.27s/it]"
     ]
    },
    {
     "name": "stdout",
     "output_type": "stream",
     "text": [
      "For iteration 9:\n",
      "best parameter is {'estimator__C': 10, 'estimator__kernel': 'linear'}\n",
      "test accuracy is 0.8952380952380953\n",
      "f1 score is 0.8924542337126367\n",
      "\n",
      "\n",
      "              precision    recall  f1-score   support\n",
      "\n",
      "     Class 0       0.92      0.95      0.94        61\n",
      "     Class 1       0.77      0.62      0.69        16\n",
      "     Class 2       0.75      0.82      0.78        11\n",
      "     Class 3       1.00      1.00      1.00        17\n",
      "\n",
      "   micro avg       0.90      0.90      0.90       105\n",
      "   macro avg       0.86      0.85      0.85       105\n",
      "weighted avg       0.89      0.90      0.89       105\n",
      "\n"
     ]
    },
    {
     "name": "stderr",
     "output_type": "stream",
     "text": [
      "/home/sarah/anaconda3/lib/python3.6/site-packages/sklearn/model_selection/_search.py:841: DeprecationWarning: The default of the `iid` parameter will change from True to False in version 0.22 and will be removed in 0.24. This will change numeric results when test-set sizes are unequal.\n",
      "  DeprecationWarning)\n",
      "\r",
      "10it [01:42, 10.24s/it]"
     ]
    },
    {
     "name": "stdout",
     "output_type": "stream",
     "text": [
      "For iteration 10:\n",
      "best parameter is {'estimator__C': 10, 'estimator__kernel': 'rbf'}\n",
      "test accuracy is 0.8761904761904762\n",
      "f1 score is 0.8751489322917892\n",
      "\n",
      "\n",
      "              precision    recall  f1-score   support\n",
      "\n",
      "     Class 0       0.90      0.91      0.91        58\n",
      "     Class 1       0.75      0.68      0.71        22\n",
      "     Class 2       0.75      1.00      0.86         6\n",
      "     Class 3       1.00      0.95      0.97        19\n",
      "\n",
      "   micro avg       0.88      0.88      0.88       105\n",
      "   macro avg       0.85      0.89      0.86       105\n",
      "weighted avg       0.88      0.88      0.88       105\n",
      "\n"
     ]
    },
    {
     "name": "stderr",
     "output_type": "stream",
     "text": [
      "\n"
     ]
    }
   ],
   "source": [
    "kegg_accuracies, kegg_f1_scores = train_multiclass_svm(\n",
    "                        kegg_features_array, \n",
    "                        kegg_class_labels, \n",
    "                        inner_cv=10, \n",
    "                        outer_cv=10,\n",
    "                        chain_pca=True, \n",
    "                        explained_variance=0.95    \n",
    ")"
   ]
  },
  {
   "cell_type": "code",
   "execution_count": 14,
   "metadata": {
    "scrolled": true
   },
   "outputs": [
    {
     "name": "stderr",
     "output_type": "stream",
     "text": [
      "0it [00:00, ?it/s]/home/sarah/anaconda3/lib/python3.6/site-packages/sklearn/model_selection/_search.py:841: DeprecationWarning: The default of the `iid` parameter will change from True to False in version 0.22 and will be removed in 0.24. This will change numeric results when test-set sizes are unequal.\n",
      "  DeprecationWarning)\n",
      "1it [00:10, 10.55s/it]"
     ]
    },
    {
     "name": "stdout",
     "output_type": "stream",
     "text": [
      "For iteration 1:\n",
      "best parameter is {'estimator__C': 10, 'estimator__kernel': 'linear'}\n",
      "test accuracy is 0.8761904761904762\n",
      "f1 score is 0.8781855802296439\n",
      "\n",
      "\n",
      "              precision    recall  f1-score   support\n",
      "\n",
      "     Class 0       0.93      0.93      0.93        54\n",
      "     Class 1       0.73      0.76      0.74        21\n",
      "     Class 2       0.70      0.78      0.74         9\n",
      "     Class 3       1.00      0.90      0.95        21\n",
      "\n",
      "   micro avg       0.88      0.88      0.88       105\n",
      "   macro avg       0.84      0.84      0.84       105\n",
      "weighted avg       0.88      0.88      0.88       105\n",
      "\n"
     ]
    },
    {
     "name": "stderr",
     "output_type": "stream",
     "text": [
      "/home/sarah/anaconda3/lib/python3.6/site-packages/sklearn/model_selection/_search.py:841: DeprecationWarning: The default of the `iid` parameter will change from True to False in version 0.22 and will be removed in 0.24. This will change numeric results when test-set sizes are unequal.\n",
      "  DeprecationWarning)\n",
      "\r",
      "2it [00:20, 10.44s/it]"
     ]
    },
    {
     "name": "stdout",
     "output_type": "stream",
     "text": [
      "For iteration 2:\n",
      "best parameter is {'estimator__C': 10, 'estimator__kernel': 'linear'}\n",
      "test accuracy is 0.8761904761904762\n",
      "f1 score is 0.8772274867393767\n",
      "\n",
      "\n",
      "              precision    recall  f1-score   support\n",
      "\n",
      "     Class 0       0.89      0.89      0.89        53\n",
      "     Class 1       0.71      0.74      0.72        23\n",
      "     Class 2       1.00      0.89      0.94         9\n",
      "     Class 3       1.00      1.00      1.00        20\n",
      "\n",
      "   micro avg       0.88      0.88      0.88       105\n",
      "   macro avg       0.90      0.88      0.89       105\n",
      "weighted avg       0.88      0.88      0.88       105\n",
      "\n"
     ]
    },
    {
     "name": "stderr",
     "output_type": "stream",
     "text": [
      "/home/sarah/anaconda3/lib/python3.6/site-packages/sklearn/model_selection/_search.py:841: DeprecationWarning: The default of the `iid` parameter will change from True to False in version 0.22 and will be removed in 0.24. This will change numeric results when test-set sizes are unequal.\n",
      "  DeprecationWarning)\n",
      "\r",
      "3it [00:31, 10.38s/it]"
     ]
    },
    {
     "name": "stdout",
     "output_type": "stream",
     "text": [
      "For iteration 3:\n",
      "best parameter is {'estimator__C': 10, 'estimator__kernel': 'linear'}\n",
      "test accuracy is 0.9238095238095239\n",
      "f1 score is 0.9233446570117408\n",
      "\n",
      "\n",
      "              precision    recall  f1-score   support\n",
      "\n",
      "     Class 0       0.92      0.96      0.94        50\n",
      "     Class 1       0.95      0.77      0.85        26\n",
      "     Class 2       0.70      1.00      0.82         7\n",
      "     Class 3       1.00      1.00      1.00        22\n",
      "\n",
      "   micro avg       0.92      0.92      0.92       105\n",
      "   macro avg       0.89      0.93      0.90       105\n",
      "weighted avg       0.93      0.92      0.92       105\n",
      "\n"
     ]
    },
    {
     "name": "stderr",
     "output_type": "stream",
     "text": [
      "/home/sarah/anaconda3/lib/python3.6/site-packages/sklearn/model_selection/_search.py:841: DeprecationWarning: The default of the `iid` parameter will change from True to False in version 0.22 and will be removed in 0.24. This will change numeric results when test-set sizes are unequal.\n",
      "  DeprecationWarning)\n",
      "\r",
      "4it [00:42, 10.52s/it]"
     ]
    },
    {
     "name": "stdout",
     "output_type": "stream",
     "text": [
      "For iteration 4:\n",
      "best parameter is {'estimator__C': 10, 'estimator__kernel': 'linear'}\n",
      "test accuracy is 0.9047619047619048\n",
      "f1 score is 0.9052769452769452\n",
      "\n",
      "\n",
      "              precision    recall  f1-score   support\n",
      "\n",
      "     Class 0       0.94      0.92      0.93        53\n",
      "     Class 1       0.76      0.89      0.82        18\n",
      "     Class 2       0.90      0.75      0.82        12\n",
      "     Class 3       0.95      0.95      0.95        22\n",
      "\n",
      "   micro avg       0.90      0.90      0.90       105\n",
      "   macro avg       0.89      0.88      0.88       105\n",
      "weighted avg       0.91      0.90      0.91       105\n",
      "\n"
     ]
    },
    {
     "name": "stderr",
     "output_type": "stream",
     "text": [
      "\r",
      "5it [00:53, 10.61s/it]"
     ]
    },
    {
     "name": "stdout",
     "output_type": "stream",
     "text": [
      "For iteration 5:\n",
      "best parameter is {'estimator__C': 10, 'estimator__kernel': 'linear'}\n",
      "test accuracy is 0.8952380952380953\n",
      "f1 score is 0.8882313572655851\n",
      "\n",
      "\n",
      "              precision    recall  f1-score   support\n",
      "\n",
      "     Class 0       0.89      0.97      0.93        61\n",
      "     Class 1       0.90      0.56      0.69        16\n",
      "     Class 2       0.50      0.50      0.50         4\n",
      "     Class 3       0.96      1.00      0.98        24\n",
      "\n",
      "   micro avg       0.90      0.90      0.90       105\n",
      "   macro avg       0.81      0.76      0.78       105\n",
      "weighted avg       0.89      0.90      0.89       105\n",
      "\n"
     ]
    },
    {
     "name": "stderr",
     "output_type": "stream",
     "text": [
      "\r",
      "6it [01:03, 10.54s/it]"
     ]
    },
    {
     "name": "stdout",
     "output_type": "stream",
     "text": [
      "For iteration 6:\n",
      "best parameter is {'estimator__C': 1, 'estimator__kernel': 'linear'}\n",
      "test accuracy is 0.9142857142857143\n",
      "f1 score is 0.9162144723510905\n",
      "\n",
      "\n",
      "              precision    recall  f1-score   support\n",
      "\n",
      "     Class 0       0.94      0.92      0.93        48\n",
      "     Class 1       0.88      0.88      0.88        26\n",
      "     Class 2       0.67      0.86      0.75         7\n",
      "     Class 3       1.00      0.96      0.98        24\n",
      "\n",
      "   micro avg       0.91      0.91      0.91       105\n",
      "   macro avg       0.87      0.90      0.88       105\n",
      "weighted avg       0.92      0.91      0.92       105\n",
      "\n"
     ]
    },
    {
     "name": "stderr",
     "output_type": "stream",
     "text": [
      "\r",
      "7it [01:13, 10.48s/it]"
     ]
    },
    {
     "name": "stdout",
     "output_type": "stream",
     "text": [
      "For iteration 7:\n",
      "best parameter is {'estimator__C': 10, 'estimator__kernel': 'linear'}\n",
      "test accuracy is 0.9142857142857143\n",
      "f1 score is 0.9142305037957212\n",
      "\n",
      "\n",
      "              precision    recall  f1-score   support\n",
      "\n",
      "     Class 0       0.93      0.91      0.92        58\n",
      "     Class 1       0.83      0.83      0.83        24\n",
      "     Class 2       0.88      1.00      0.93         7\n",
      "     Class 3       1.00      1.00      1.00        16\n",
      "\n",
      "   micro avg       0.91      0.91      0.91       105\n",
      "   macro avg       0.91      0.94      0.92       105\n",
      "weighted avg       0.91      0.91      0.91       105\n",
      "\n"
     ]
    },
    {
     "name": "stderr",
     "output_type": "stream",
     "text": [
      "\r",
      "8it [01:24, 10.50s/it]"
     ]
    },
    {
     "name": "stdout",
     "output_type": "stream",
     "text": [
      "For iteration 8:\n",
      "best parameter is {'estimator__C': 100, 'estimator__kernel': 'linear'}\n",
      "test accuracy is 0.9047619047619048\n",
      "f1 score is 0.9078176725235549\n",
      "\n",
      "\n",
      "              precision    recall  f1-score   support\n",
      "\n",
      "     Class 0       0.97      0.92      0.94        61\n",
      "     Class 1       0.67      0.80      0.73        15\n",
      "     Class 2       0.80      0.80      0.80        10\n",
      "     Class 3       1.00      1.00      1.00        19\n",
      "\n",
      "   micro avg       0.90      0.90      0.90       105\n",
      "   macro avg       0.86      0.88      0.87       105\n",
      "weighted avg       0.91      0.90      0.91       105\n",
      "\n"
     ]
    },
    {
     "name": "stderr",
     "output_type": "stream",
     "text": [
      "/home/sarah/anaconda3/lib/python3.6/site-packages/sklearn/model_selection/_search.py:841: DeprecationWarning: The default of the `iid` parameter will change from True to False in version 0.22 and will be removed in 0.24. This will change numeric results when test-set sizes are unequal.\n",
      "  DeprecationWarning)\n",
      "\r",
      "9it [01:35, 10.59s/it]"
     ]
    },
    {
     "name": "stdout",
     "output_type": "stream",
     "text": [
      "For iteration 9:\n",
      "best parameter is {'estimator__C': 10, 'estimator__kernel': 'linear'}\n",
      "test accuracy is 0.8952380952380953\n",
      "f1 score is 0.8942680583683854\n",
      "\n",
      "\n",
      "              precision    recall  f1-score   support\n",
      "\n",
      "     Class 0       0.94      0.95      0.95        65\n",
      "     Class 1       0.76      0.72      0.74        18\n",
      "     Class 2       0.70      0.70      0.70        10\n",
      "     Class 3       1.00      1.00      1.00        12\n",
      "\n",
      "   micro avg       0.90      0.90      0.90       105\n",
      "   macro avg       0.85      0.84      0.85       105\n",
      "weighted avg       0.89      0.90      0.89       105\n",
      "\n"
     ]
    },
    {
     "name": "stderr",
     "output_type": "stream",
     "text": [
      "/home/sarah/anaconda3/lib/python3.6/site-packages/sklearn/model_selection/_search.py:841: DeprecationWarning: The default of the `iid` parameter will change from True to False in version 0.22 and will be removed in 0.24. This will change numeric results when test-set sizes are unequal.\n",
      "  DeprecationWarning)\n",
      "\r",
      "10it [01:46, 10.65s/it]"
     ]
    },
    {
     "name": "stdout",
     "output_type": "stream",
     "text": [
      "For iteration 10:\n",
      "best parameter is {'estimator__C': 10, 'estimator__kernel': 'linear'}\n",
      "test accuracy is 0.9047619047619048\n",
      "f1 score is 0.9028708000182488\n",
      "\n",
      "\n",
      "              precision    recall  f1-score   support\n",
      "\n",
      "     Class 0       0.91      0.95      0.93        64\n",
      "     Class 1       0.78      0.70      0.74        20\n",
      "     Class 2       1.00      0.86      0.92         7\n",
      "     Class 3       1.00      1.00      1.00        14\n",
      "\n",
      "   micro avg       0.90      0.90      0.90       105\n",
      "   macro avg       0.92      0.88      0.90       105\n",
      "weighted avg       0.90      0.90      0.90       105\n",
      "\n"
     ]
    },
    {
     "name": "stderr",
     "output_type": "stream",
     "text": [
      "\n"
     ]
    }
   ],
   "source": [
    "reactome_accuracies, reactome_f1_scores = train_multiclass_svm(\n",
    "                        reactome_features_array, \n",
    "                        reactome_class_labels,\n",
    "                        inner_cv=10, \n",
    "                        outer_cv=10,\n",
    "                        chain_pca=True, \n",
    "                        explained_variance=0.95    \n",
    ")"
   ]
  },
  {
   "cell_type": "code",
   "execution_count": 15,
   "metadata": {
    "scrolled": true
   },
   "outputs": [
    {
     "name": "stderr",
     "output_type": "stream",
     "text": [
      "1it [00:11, 11.99s/it]"
     ]
    },
    {
     "name": "stdout",
     "output_type": "stream",
     "text": [
      "For iteration 1:\n",
      "best parameter is {'estimator__C': 10, 'estimator__kernel': 'rbf'}\n",
      "test accuracy is 0.9333333333333333\n",
      "f1 score is 0.9295858694354935\n",
      "\n",
      "\n",
      "              precision    recall  f1-score   support\n",
      "\n",
      "     Class 0       0.95      0.98      0.96        56\n",
      "     Class 1       0.82      0.90      0.86        20\n",
      "     Class 2       1.00      0.56      0.71         9\n",
      "     Class 3       1.00      1.00      1.00        20\n",
      "\n",
      "   micro avg       0.93      0.93      0.93       105\n",
      "   macro avg       0.94      0.86      0.88       105\n",
      "weighted avg       0.94      0.93      0.93       105\n",
      "\n"
     ]
    },
    {
     "name": "stderr",
     "output_type": "stream",
     "text": [
      "\r",
      "2it [00:23, 11.78s/it]"
     ]
    },
    {
     "name": "stdout",
     "output_type": "stream",
     "text": [
      "For iteration 2:\n",
      "best parameter is {'estimator__C': 100, 'estimator__kernel': 'rbf'}\n",
      "test accuracy is 0.9142857142857143\n",
      "f1 score is 0.9135207000223874\n",
      "\n",
      "\n",
      "              precision    recall  f1-score   support\n",
      "\n",
      "     Class 0       0.92      0.97      0.94        62\n",
      "     Class 1       0.94      0.73      0.82        22\n",
      "     Class 2       0.62      0.83      0.71         6\n",
      "     Class 3       1.00      1.00      1.00        15\n",
      "\n",
      "   micro avg       0.91      0.91      0.91       105\n",
      "   macro avg       0.87      0.88      0.87       105\n",
      "weighted avg       0.92      0.91      0.91       105\n",
      "\n"
     ]
    },
    {
     "name": "stderr",
     "output_type": "stream",
     "text": [
      "/home/sarah/anaconda3/lib/python3.6/site-packages/sklearn/model_selection/_search.py:841: DeprecationWarning: The default of the `iid` parameter will change from True to False in version 0.22 and will be removed in 0.24. This will change numeric results when test-set sizes are unequal.\n",
      "  DeprecationWarning)\n",
      "\r",
      "3it [00:34, 11.62s/it]"
     ]
    },
    {
     "name": "stdout",
     "output_type": "stream",
     "text": [
      "For iteration 3:\n",
      "best parameter is {'estimator__C': 10, 'estimator__kernel': 'rbf'}\n",
      "test accuracy is 0.9047619047619048\n",
      "f1 score is 0.9010407374368123\n",
      "\n",
      "\n",
      "              precision    recall  f1-score   support\n",
      "\n",
      "     Class 0       0.90      0.96      0.93        57\n",
      "     Class 1       0.82      0.67      0.74        21\n",
      "     Class 2       0.89      0.89      0.89         9\n",
      "     Class 3       1.00      1.00      1.00        18\n",
      "\n",
      "   micro avg       0.90      0.90      0.90       105\n",
      "   macro avg       0.90      0.88      0.89       105\n",
      "weighted avg       0.90      0.90      0.90       105\n",
      "\n"
     ]
    },
    {
     "name": "stderr",
     "output_type": "stream",
     "text": [
      "\r",
      "4it [00:46, 11.57s/it]"
     ]
    },
    {
     "name": "stdout",
     "output_type": "stream",
     "text": [
      "For iteration 4:\n",
      "best parameter is {'estimator__C': 10, 'estimator__kernel': 'rbf'}\n",
      "test accuracy is 0.9142857142857143\n",
      "f1 score is 0.9117153957831926\n",
      "\n",
      "\n",
      "              precision    recall  f1-score   support\n",
      "\n",
      "     Class 0       0.89      0.98      0.93        56\n",
      "     Class 1       1.00      0.68      0.81        22\n",
      "     Class 2       0.67      1.00      0.80         4\n",
      "     Class 3       1.00      0.96      0.98        23\n",
      "\n",
      "   micro avg       0.91      0.91      0.91       105\n",
      "   macro avg       0.89      0.91      0.88       105\n",
      "weighted avg       0.93      0.91      0.91       105\n",
      "\n"
     ]
    },
    {
     "name": "stderr",
     "output_type": "stream",
     "text": [
      "\r",
      "5it [00:57, 11.49s/it]"
     ]
    },
    {
     "name": "stdout",
     "output_type": "stream",
     "text": [
      "For iteration 5:\n",
      "best parameter is {'estimator__C': 10, 'estimator__kernel': 'rbf'}\n",
      "test accuracy is 0.8761904761904762\n",
      "f1 score is 0.8764256056715221\n",
      "\n",
      "\n",
      "              precision    recall  f1-score   support\n",
      "\n",
      "     Class 0       0.98      0.93      0.95        56\n",
      "     Class 1       0.56      0.88      0.68        16\n",
      "     Class 2       0.83      0.42      0.56        12\n",
      "     Class 3       1.00      1.00      1.00        21\n",
      "\n",
      "   micro avg       0.88      0.88      0.88       105\n",
      "   macro avg       0.84      0.81      0.80       105\n",
      "weighted avg       0.90      0.88      0.88       105\n",
      "\n"
     ]
    },
    {
     "name": "stderr",
     "output_type": "stream",
     "text": [
      "/home/sarah/anaconda3/lib/python3.6/site-packages/sklearn/model_selection/_search.py:841: DeprecationWarning: The default of the `iid` parameter will change from True to False in version 0.22 and will be removed in 0.24. This will change numeric results when test-set sizes are unequal.\n",
      "  DeprecationWarning)\n",
      "\r",
      "6it [01:08, 11.41s/it]"
     ]
    },
    {
     "name": "stdout",
     "output_type": "stream",
     "text": [
      "For iteration 6:\n",
      "best parameter is {'estimator__C': 10, 'estimator__kernel': 'rbf'}\n",
      "test accuracy is 0.9047619047619048\n",
      "f1 score is 0.9047619047619048\n",
      "\n",
      "\n",
      "              precision    recall  f1-score   support\n",
      "\n",
      "     Class 0       0.92      0.92      0.92        50\n",
      "     Class 1       0.83      0.83      0.83        23\n",
      "     Class 2       0.93      0.93      0.93        14\n",
      "     Class 3       0.94      0.94      0.94        18\n",
      "\n",
      "   micro avg       0.90      0.90      0.90       105\n",
      "   macro avg       0.90      0.90      0.90       105\n",
      "weighted avg       0.90      0.90      0.90       105\n",
      "\n"
     ]
    },
    {
     "name": "stderr",
     "output_type": "stream",
     "text": [
      "/home/sarah/anaconda3/lib/python3.6/site-packages/sklearn/model_selection/_search.py:841: DeprecationWarning: The default of the `iid` parameter will change from True to False in version 0.22 and will be removed in 0.24. This will change numeric results when test-set sizes are unequal.\n",
      "  DeprecationWarning)\n",
      "\r",
      "7it [01:19, 11.39s/it]"
     ]
    },
    {
     "name": "stdout",
     "output_type": "stream",
     "text": [
      "For iteration 7:\n",
      "best parameter is {'estimator__C': 10, 'estimator__kernel': 'linear'}\n",
      "test accuracy is 0.9142857142857143\n",
      "f1 score is 0.9149088938562623\n",
      "\n",
      "\n",
      "              precision    recall  f1-score   support\n",
      "\n",
      "     Class 0       0.95      0.95      0.95        55\n",
      "     Class 1       0.82      0.82      0.82        22\n",
      "     Class 2       0.80      0.89      0.84         9\n",
      "     Class 3       1.00      0.95      0.97        19\n",
      "\n",
      "   micro avg       0.91      0.91      0.91       105\n",
      "   macro avg       0.89      0.90      0.89       105\n",
      "weighted avg       0.92      0.91      0.91       105\n",
      "\n"
     ]
    },
    {
     "name": "stderr",
     "output_type": "stream",
     "text": [
      "\r",
      "8it [01:31, 11.39s/it]"
     ]
    },
    {
     "name": "stdout",
     "output_type": "stream",
     "text": [
      "For iteration 8:\n",
      "best parameter is {'estimator__C': 10, 'estimator__kernel': 'rbf'}\n",
      "test accuracy is 0.9333333333333333\n",
      "f1 score is 0.9294886233910624\n",
      "\n",
      "\n",
      "              precision    recall  f1-score   support\n",
      "\n",
      "     Class 0       0.92      1.00      0.96        56\n",
      "     Class 1       0.95      0.79      0.86        24\n",
      "     Class 2       1.00      0.60      0.75         5\n",
      "     Class 3       0.95      1.00      0.98        20\n",
      "\n",
      "   micro avg       0.93      0.93      0.93       105\n",
      "   macro avg       0.96      0.85      0.89       105\n",
      "weighted avg       0.94      0.93      0.93       105\n",
      "\n"
     ]
    },
    {
     "name": "stderr",
     "output_type": "stream",
     "text": [
      "\r",
      "9it [01:42, 11.39s/it]"
     ]
    },
    {
     "name": "stdout",
     "output_type": "stream",
     "text": [
      "For iteration 9:\n",
      "best parameter is {'estimator__C': 1, 'estimator__kernel': 'linear'}\n",
      "test accuracy is 0.9047619047619048\n",
      "f1 score is 0.9060015741833923\n",
      "\n",
      "\n",
      "              precision    recall  f1-score   support\n",
      "\n",
      "     Class 0       0.95      0.93      0.94        61\n",
      "     Class 1       0.67      0.80      0.73        15\n",
      "     Class 2       0.86      0.67      0.75         9\n",
      "     Class 3       1.00      1.00      1.00        20\n",
      "\n",
      "   micro avg       0.90      0.90      0.90       105\n",
      "   macro avg       0.87      0.85      0.85       105\n",
      "weighted avg       0.91      0.90      0.91       105\n",
      "\n"
     ]
    },
    {
     "name": "stderr",
     "output_type": "stream",
     "text": [
      "/home/sarah/anaconda3/lib/python3.6/site-packages/sklearn/model_selection/_search.py:841: DeprecationWarning: The default of the `iid` parameter will change from True to False in version 0.22 and will be removed in 0.24. This will change numeric results when test-set sizes are unequal.\n",
      "  DeprecationWarning)\n",
      "\r",
      "10it [01:53, 11.38s/it]"
     ]
    },
    {
     "name": "stdout",
     "output_type": "stream",
     "text": [
      "For iteration 10:\n",
      "best parameter is {'estimator__C': 10, 'estimator__kernel': 'linear'}\n",
      "test accuracy is 0.8666666666666667\n",
      "f1 score is 0.8620712620712621\n",
      "\n",
      "\n",
      "              precision    recall  f1-score   support\n",
      "\n",
      "     Class 0       0.87      0.95      0.91        58\n",
      "     Class 1       0.76      0.59      0.67        22\n",
      "     Class 2       0.67      0.80      0.73         5\n",
      "     Class 3       1.00      0.95      0.97        20\n",
      "\n",
      "   micro avg       0.87      0.87      0.87       105\n",
      "   macro avg       0.83      0.82      0.82       105\n",
      "weighted avg       0.86      0.87      0.86       105\n",
      "\n"
     ]
    },
    {
     "name": "stderr",
     "output_type": "stream",
     "text": [
      "\n"
     ]
    }
   ],
   "source": [
    "wp_accuracies, wp_f1_scores = train_multiclass_svm(\n",
    "                            wikipathways_features_array, \n",
    "                            wikipathways_class_labels,\n",
    "                            inner_cv=10, \n",
    "                            outer_cv=10,\n",
    "                            chain_pca=True, \n",
    "                            explained_variance=0.95    \n",
    ")"
   ]
  },
  {
   "cell_type": "code",
   "execution_count": 16,
   "metadata": {
    "scrolled": true
   },
   "outputs": [
    {
     "name": "stderr",
     "output_type": "stream",
     "text": [
      "0it [00:00, ?it/s]/home/sarah/anaconda3/lib/python3.6/site-packages/sklearn/model_selection/_search.py:841: DeprecationWarning: The default of the `iid` parameter will change from True to False in version 0.22 and will be removed in 0.24. This will change numeric results when test-set sizes are unequal.\n",
      "  DeprecationWarning)\n",
      "1it [00:13, 13.20s/it]"
     ]
    },
    {
     "name": "stdout",
     "output_type": "stream",
     "text": [
      "For iteration 1:\n",
      "best parameter is {'estimator__C': 10, 'estimator__kernel': 'linear'}\n",
      "test accuracy is 0.9047619047619048\n",
      "f1 score is 0.9041377454936776\n",
      "\n",
      "\n",
      "              precision    recall  f1-score   support\n",
      "\n",
      "     Class 0       0.92      0.95      0.93        58\n",
      "     Class 1       0.90      0.84      0.87        31\n",
      "     Class 2       0.80      0.80      0.80         5\n",
      "     Class 3       0.91      0.91      0.91        11\n",
      "\n",
      "   micro avg       0.90      0.90      0.90       105\n",
      "   macro avg       0.88      0.87      0.88       105\n",
      "weighted avg       0.90      0.90      0.90       105\n",
      "\n"
     ]
    },
    {
     "name": "stderr",
     "output_type": "stream",
     "text": [
      "/home/sarah/anaconda3/lib/python3.6/site-packages/sklearn/model_selection/_search.py:841: DeprecationWarning: The default of the `iid` parameter will change from True to False in version 0.22 and will be removed in 0.24. This will change numeric results when test-set sizes are unequal.\n",
      "  DeprecationWarning)\n",
      "\r",
      "2it [00:26, 13.00s/it]"
     ]
    },
    {
     "name": "stdout",
     "output_type": "stream",
     "text": [
      "For iteration 2:\n",
      "best parameter is {'estimator__C': 10, 'estimator__kernel': 'linear'}\n",
      "test accuracy is 0.9047619047619048\n",
      "f1 score is 0.9037851037851038\n",
      "\n",
      "\n",
      "              precision    recall  f1-score   support\n",
      "\n",
      "     Class 0       0.93      0.93      0.93        56\n",
      "     Class 1       0.83      0.83      0.83        23\n",
      "     Class 2       0.83      0.71      0.77         7\n",
      "     Class 3       0.95      1.00      0.97        19\n",
      "\n",
      "   micro avg       0.90      0.90      0.90       105\n",
      "   macro avg       0.88      0.87      0.87       105\n",
      "weighted avg       0.90      0.90      0.90       105\n",
      "\n"
     ]
    },
    {
     "name": "stderr",
     "output_type": "stream",
     "text": [
      "/home/sarah/anaconda3/lib/python3.6/site-packages/sklearn/model_selection/_search.py:841: DeprecationWarning: The default of the `iid` parameter will change from True to False in version 0.22 and will be removed in 0.24. This will change numeric results when test-set sizes are unequal.\n",
      "  DeprecationWarning)\n",
      "\r",
      "3it [00:39, 13.02s/it]"
     ]
    },
    {
     "name": "stdout",
     "output_type": "stream",
     "text": [
      "For iteration 3:\n",
      "best parameter is {'estimator__C': 1, 'estimator__kernel': 'linear'}\n",
      "test accuracy is 0.9142857142857143\n",
      "f1 score is 0.9119179308086871\n",
      "\n",
      "\n",
      "              precision    recall  f1-score   support\n",
      "\n",
      "     Class 0       0.91      0.98      0.94        60\n",
      "     Class 1       0.93      0.78      0.85        18\n",
      "     Class 2       0.75      0.67      0.71         9\n",
      "     Class 3       1.00      0.94      0.97        18\n",
      "\n",
      "   micro avg       0.91      0.91      0.91       105\n",
      "   macro avg       0.90      0.84      0.87       105\n",
      "weighted avg       0.91      0.91      0.91       105\n",
      "\n"
     ]
    },
    {
     "name": "stderr",
     "output_type": "stream",
     "text": [
      "\r",
      "4it [00:52, 13.01s/it]"
     ]
    },
    {
     "name": "stdout",
     "output_type": "stream",
     "text": [
      "For iteration 4:\n",
      "best parameter is {'estimator__C': 1, 'estimator__kernel': 'linear'}\n",
      "test accuracy is 0.8761904761904762\n",
      "f1 score is 0.8801949317738792\n",
      "\n",
      "\n",
      "              precision    recall  f1-score   support\n",
      "\n",
      "     Class 0       0.96      0.86      0.91        57\n",
      "     Class 1       0.69      0.88      0.77        25\n",
      "     Class 2       0.86      0.75      0.80         8\n",
      "     Class 3       1.00      1.00      1.00        15\n",
      "\n",
      "   micro avg       0.88      0.88      0.88       105\n",
      "   macro avg       0.88      0.87      0.87       105\n",
      "weighted avg       0.89      0.88      0.88       105\n",
      "\n"
     ]
    },
    {
     "name": "stderr",
     "output_type": "stream",
     "text": [
      "/home/sarah/anaconda3/lib/python3.6/site-packages/sklearn/model_selection/_search.py:841: DeprecationWarning: The default of the `iid` parameter will change from True to False in version 0.22 and will be removed in 0.24. This will change numeric results when test-set sizes are unequal.\n",
      "  DeprecationWarning)\n",
      "\r",
      "5it [01:04, 12.94s/it]"
     ]
    },
    {
     "name": "stdout",
     "output_type": "stream",
     "text": [
      "For iteration 5:\n",
      "best parameter is {'estimator__C': 1, 'estimator__kernel': 'linear'}\n",
      "test accuracy is 0.9047619047619048\n",
      "f1 score is 0.9031422092646582\n",
      "\n",
      "\n",
      "              precision    recall  f1-score   support\n",
      "\n",
      "     Class 0       0.88      0.96      0.92        47\n",
      "     Class 1       0.83      0.76      0.79        25\n",
      "     Class 2       1.00      0.78      0.88         9\n",
      "     Class 3       1.00      1.00      1.00        24\n",
      "\n",
      "   micro avg       0.90      0.90      0.90       105\n",
      "   macro avg       0.93      0.87      0.90       105\n",
      "weighted avg       0.91      0.90      0.90       105\n",
      "\n"
     ]
    },
    {
     "name": "stderr",
     "output_type": "stream",
     "text": [
      "\r",
      "6it [01:17, 12.95s/it]"
     ]
    },
    {
     "name": "stdout",
     "output_type": "stream",
     "text": [
      "For iteration 6:\n",
      "best parameter is {'estimator__C': 10, 'estimator__kernel': 'linear'}\n",
      "test accuracy is 0.9428571428571428\n",
      "f1 score is 0.942857142857143\n",
      "\n",
      "\n",
      "              precision    recall  f1-score   support\n",
      "\n",
      "     Class 0       0.95      0.95      0.95        60\n",
      "     Class 1       0.80      0.80      0.80        15\n",
      "     Class 2       1.00      1.00      1.00         5\n",
      "     Class 3       1.00      1.00      1.00        25\n",
      "\n",
      "   micro avg       0.94      0.94      0.94       105\n",
      "   macro avg       0.94      0.94      0.94       105\n",
      "weighted avg       0.94      0.94      0.94       105\n",
      "\n"
     ]
    },
    {
     "name": "stderr",
     "output_type": "stream",
     "text": [
      "\r",
      "7it [01:30, 12.93s/it]"
     ]
    },
    {
     "name": "stdout",
     "output_type": "stream",
     "text": [
      "For iteration 7:\n",
      "best parameter is {'estimator__C': 100, 'estimator__kernel': 'rbf'}\n",
      "test accuracy is 0.9142857142857143\n",
      "f1 score is 0.9176459270576918\n",
      "\n",
      "\n",
      "              precision    recall  f1-score   support\n",
      "\n",
      "     Class 0       1.00      0.89      0.94        54\n",
      "     Class 1       0.73      1.00      0.84        19\n",
      "     Class 2       0.87      0.87      0.87        15\n",
      "     Class 3       1.00      0.94      0.97        17\n",
      "\n",
      "   micro avg       0.91      0.91      0.91       105\n",
      "   macro avg       0.90      0.92      0.91       105\n",
      "weighted avg       0.93      0.91      0.92       105\n",
      "\n"
     ]
    },
    {
     "name": "stderr",
     "output_type": "stream",
     "text": [
      "/home/sarah/anaconda3/lib/python3.6/site-packages/sklearn/model_selection/_search.py:841: DeprecationWarning: The default of the `iid` parameter will change from True to False in version 0.22 and will be removed in 0.24. This will change numeric results when test-set sizes are unequal.\n",
      "  DeprecationWarning)\n",
      "\r",
      "8it [01:43, 12.93s/it]"
     ]
    },
    {
     "name": "stdout",
     "output_type": "stream",
     "text": [
      "For iteration 8:\n",
      "best parameter is {'estimator__C': 10, 'estimator__kernel': 'linear'}\n",
      "test accuracy is 0.9238095238095239\n",
      "f1 score is 0.9231627610393751\n",
      "\n",
      "\n",
      "              precision    recall  f1-score   support\n",
      "\n",
      "     Class 0       0.95      0.97      0.96        61\n",
      "     Class 1       0.71      0.71      0.71        14\n",
      "     Class 2       0.88      0.78      0.82         9\n",
      "     Class 3       1.00      1.00      1.00        21\n",
      "\n",
      "   micro avg       0.92      0.92      0.92       105\n",
      "   macro avg       0.89      0.86      0.87       105\n",
      "weighted avg       0.92      0.92      0.92       105\n",
      "\n"
     ]
    },
    {
     "name": "stderr",
     "output_type": "stream",
     "text": [
      "/home/sarah/anaconda3/lib/python3.6/site-packages/sklearn/model_selection/_search.py:841: DeprecationWarning: The default of the `iid` parameter will change from True to False in version 0.22 and will be removed in 0.24. This will change numeric results when test-set sizes are unequal.\n",
      "  DeprecationWarning)\n",
      "\r",
      "9it [01:56, 12.92s/it]"
     ]
    },
    {
     "name": "stdout",
     "output_type": "stream",
     "text": [
      "For iteration 9:\n",
      "best parameter is {'estimator__C': 100, 'estimator__kernel': 'rbf'}\n",
      "test accuracy is 0.8952380952380953\n",
      "f1 score is 0.8963399743887548\n",
      "\n",
      "\n",
      "              precision    recall  f1-score   support\n",
      "\n",
      "     Class 0       0.92      0.93      0.92        58\n",
      "     Class 1       0.89      0.77      0.83        22\n",
      "     Class 2       0.57      0.80      0.67         5\n",
      "     Class 3       0.95      0.95      0.95        20\n",
      "\n",
      "   micro avg       0.90      0.90      0.90       105\n",
      "   macro avg       0.83      0.86      0.84       105\n",
      "weighted avg       0.90      0.90      0.90       105\n",
      "\n"
     ]
    },
    {
     "name": "stderr",
     "output_type": "stream",
     "text": [
      "\r",
      "10it [02:09, 12.92s/it]"
     ]
    },
    {
     "name": "stdout",
     "output_type": "stream",
     "text": [
      "For iteration 10:\n",
      "best parameter is {'estimator__C': 100, 'estimator__kernel': 'rbf'}\n",
      "test accuracy is 0.9142857142857143\n",
      "f1 score is 0.9142700758464305\n",
      "\n",
      "\n",
      "              precision    recall  f1-score   support\n",
      "\n",
      "     Class 0       0.95      0.95      0.95        56\n",
      "     Class 1       0.79      0.73      0.76        15\n",
      "     Class 2       0.73      0.80      0.76        10\n",
      "     Class 3       1.00      1.00      1.00        24\n",
      "\n",
      "   micro avg       0.91      0.91      0.91       105\n",
      "   macro avg       0.86      0.87      0.87       105\n",
      "weighted avg       0.91      0.91      0.91       105\n",
      "\n"
     ]
    },
    {
     "name": "stderr",
     "output_type": "stream",
     "text": [
      "\n"
     ]
    }
   ],
   "source": [
    "merge_accuracies, merge_f1_scores = train_multiclass_svm(\n",
    "                        merged_features_array, \n",
    "                        merged_class_labels,\n",
    "                        inner_cv=10, \n",
    "                        outer_cv=10,\n",
    "                        chain_pca=True, \n",
    "                        explained_variance=0.95    \n",
    ")"
   ]
  },
  {
   "cell_type": "code",
   "execution_count": 17,
   "metadata": {},
   "outputs": [
    {
     "name": "stderr",
     "output_type": "stream",
     "text": [
      "1it [00:08,  8.59s/it]"
     ]
    },
    {
     "name": "stdout",
     "output_type": "stream",
     "text": [
      "For iteration 1:\n",
      "best parameter is {'estimator__C': 100, 'estimator__kernel': 'linear'}\n",
      "test accuracy is 0.8476190476190476\n",
      "f1 score is 0.8492754834739568\n",
      "\n",
      "\n",
      "              precision    recall  f1-score   support\n",
      "\n",
      "     Class 0       0.91      0.92      0.92        65\n",
      "     Class 1       0.42      0.50      0.45        10\n",
      "     Class 2       0.67      0.55      0.60        11\n",
      "     Class 3       1.00      0.95      0.97        19\n",
      "\n",
      "   micro avg       0.85      0.85      0.85       105\n",
      "   macro avg       0.75      0.73      0.74       105\n",
      "weighted avg       0.85      0.85      0.85       105\n",
      "\n"
     ]
    },
    {
     "name": "stderr",
     "output_type": "stream",
     "text": [
      "/home/sarah/anaconda3/lib/python3.6/site-packages/sklearn/model_selection/_search.py:841: DeprecationWarning: The default of the `iid` parameter will change from True to False in version 0.22 and will be removed in 0.24. This will change numeric results when test-set sizes are unequal.\n",
      "  DeprecationWarning)\n",
      "\r",
      "2it [00:17,  8.59s/it]"
     ]
    },
    {
     "name": "stdout",
     "output_type": "stream",
     "text": [
      "For iteration 2:\n",
      "best parameter is {'estimator__C': 10, 'estimator__kernel': 'linear'}\n",
      "test accuracy is 0.8952380952380953\n",
      "f1 score is 0.8923811065627482\n",
      "\n",
      "\n",
      "              precision    recall  f1-score   support\n",
      "\n",
      "     Class 0       0.93      0.96      0.94        70\n",
      "     Class 1       0.64      0.60      0.62        15\n",
      "     Class 2       0.75      0.60      0.67         5\n",
      "     Class 3       1.00      1.00      1.00        15\n",
      "\n",
      "   micro avg       0.90      0.90      0.90       105\n",
      "   macro avg       0.83      0.79      0.81       105\n",
      "weighted avg       0.89      0.90      0.89       105\n",
      "\n"
     ]
    },
    {
     "name": "stderr",
     "output_type": "stream",
     "text": [
      "\r",
      "3it [00:25,  8.61s/it]"
     ]
    },
    {
     "name": "stdout",
     "output_type": "stream",
     "text": [
      "For iteration 3:\n",
      "best parameter is {'estimator__C': 100, 'estimator__kernel': 'linear'}\n",
      "test accuracy is 0.9333333333333333\n",
      "f1 score is 0.9288186998937507\n",
      "\n",
      "\n",
      "              precision    recall  f1-score   support\n",
      "\n",
      "     Class 0       0.92      0.98      0.95        58\n",
      "     Class 1       0.92      0.65      0.76        17\n",
      "     Class 2       0.89      1.00      0.94         8\n",
      "     Class 3       1.00      1.00      1.00        22\n",
      "\n",
      "   micro avg       0.93      0.93      0.93       105\n",
      "   macro avg       0.93      0.91      0.91       105\n",
      "weighted avg       0.93      0.93      0.93       105\n",
      "\n"
     ]
    },
    {
     "name": "stderr",
     "output_type": "stream",
     "text": [
      "\r",
      "4it [00:34,  8.58s/it]"
     ]
    },
    {
     "name": "stdout",
     "output_type": "stream",
     "text": [
      "For iteration 4:\n",
      "best parameter is {'estimator__C': 100, 'estimator__kernel': 'linear'}\n",
      "test accuracy is 0.8571428571428571\n",
      "f1 score is 0.8600834852772836\n",
      "\n",
      "\n",
      "              precision    recall  f1-score   support\n",
      "\n",
      "     Class 0       0.89      0.92      0.91        53\n",
      "     Class 1       0.86      0.67      0.75        27\n",
      "     Class 2       0.29      0.50      0.36         4\n",
      "     Class 3       0.95      1.00      0.98        21\n",
      "\n",
      "   micro avg       0.86      0.86      0.86       105\n",
      "   macro avg       0.75      0.77      0.75       105\n",
      "weighted avg       0.87      0.86      0.86       105\n",
      "\n"
     ]
    },
    {
     "name": "stderr",
     "output_type": "stream",
     "text": [
      "\r",
      "5it [00:42,  8.55s/it]"
     ]
    },
    {
     "name": "stdout",
     "output_type": "stream",
     "text": [
      "For iteration 5:\n",
      "best parameter is {'estimator__C': 10, 'estimator__kernel': 'linear'}\n",
      "test accuracy is 0.8571428571428571\n",
      "f1 score is 0.8515567765567765\n",
      "\n",
      "\n",
      "              precision    recall  f1-score   support\n",
      "\n",
      "     Class 0       0.80      0.94      0.87        48\n",
      "     Class 1       0.81      0.63      0.71        27\n",
      "     Class 2       1.00      0.60      0.75         5\n",
      "     Class 3       1.00      1.00      1.00        25\n",
      "\n",
      "   micro avg       0.86      0.86      0.86       105\n",
      "   macro avg       0.90      0.79      0.83       105\n",
      "weighted avg       0.86      0.86      0.85       105\n",
      "\n"
     ]
    },
    {
     "name": "stderr",
     "output_type": "stream",
     "text": [
      "/home/sarah/anaconda3/lib/python3.6/site-packages/sklearn/model_selection/_search.py:841: DeprecationWarning: The default of the `iid` parameter will change from True to False in version 0.22 and will be removed in 0.24. This will change numeric results when test-set sizes are unequal.\n",
      "  DeprecationWarning)\n",
      "\r",
      "6it [00:51,  8.52s/it]"
     ]
    },
    {
     "name": "stdout",
     "output_type": "stream",
     "text": [
      "For iteration 6:\n",
      "best parameter is {'estimator__C': 100, 'estimator__kernel': 'linear'}\n",
      "test accuracy is 0.8571428571428571\n",
      "f1 score is 0.8523875523875523\n",
      "\n",
      "\n",
      "              precision    recall  f1-score   support\n",
      "\n",
      "     Class 0       0.85      0.96      0.90        52\n",
      "     Class 1       0.90      0.61      0.73        31\n",
      "     Class 2       0.56      0.83      0.67         6\n",
      "     Class 3       1.00      1.00      1.00        16\n",
      "\n",
      "   micro avg       0.86      0.86      0.86       105\n",
      "   macro avg       0.83      0.85      0.82       105\n",
      "weighted avg       0.87      0.86      0.85       105\n",
      "\n"
     ]
    },
    {
     "name": "stderr",
     "output_type": "stream",
     "text": [
      "\r",
      "7it [00:59,  8.50s/it]"
     ]
    },
    {
     "name": "stdout",
     "output_type": "stream",
     "text": [
      "For iteration 7:\n",
      "best parameter is {'estimator__C': 100, 'estimator__kernel': 'linear'}\n",
      "test accuracy is 0.8380952380952381\n",
      "f1 score is 0.8446584209441352\n",
      "\n",
      "\n",
      "              precision    recall  f1-score   support\n",
      "\n",
      "     Class 0       0.89      0.83      0.86        58\n",
      "     Class 1       0.57      0.76      0.65        17\n",
      "     Class 2       0.92      0.85      0.88        13\n",
      "     Class 3       1.00      0.94      0.97        17\n",
      "\n",
      "   micro avg       0.84      0.84      0.84       105\n",
      "   macro avg       0.84      0.84      0.84       105\n",
      "weighted avg       0.86      0.84      0.84       105\n",
      "\n"
     ]
    },
    {
     "name": "stderr",
     "output_type": "stream",
     "text": [
      "\r",
      "8it [01:07,  8.48s/it]"
     ]
    },
    {
     "name": "stdout",
     "output_type": "stream",
     "text": [
      "For iteration 8:\n",
      "best parameter is {'estimator__C': 100, 'estimator__kernel': 'linear'}\n",
      "test accuracy is 0.8857142857142857\n",
      "f1 score is 0.8886475674280551\n",
      "\n",
      "\n",
      "              precision    recall  f1-score   support\n",
      "\n",
      "     Class 0       0.94      0.90      0.92        49\n",
      "     Class 1       0.68      0.79      0.73        19\n",
      "     Class 2       0.86      0.86      0.86        14\n",
      "     Class 3       1.00      0.96      0.98        23\n",
      "\n",
      "   micro avg       0.89      0.89      0.89       105\n",
      "   macro avg       0.87      0.88      0.87       105\n",
      "weighted avg       0.89      0.89      0.89       105\n",
      "\n"
     ]
    },
    {
     "name": "stderr",
     "output_type": "stream",
     "text": [
      "/home/sarah/anaconda3/lib/python3.6/site-packages/sklearn/model_selection/_search.py:841: DeprecationWarning: The default of the `iid` parameter will change from True to False in version 0.22 and will be removed in 0.24. This will change numeric results when test-set sizes are unequal.\n",
      "  DeprecationWarning)\n",
      "\r",
      "9it [01:16,  8.49s/it]"
     ]
    },
    {
     "name": "stdout",
     "output_type": "stream",
     "text": [
      "For iteration 9:\n",
      "best parameter is {'estimator__C': 100, 'estimator__kernel': 'rbf'}\n",
      "test accuracy is 0.8285714285714286\n",
      "f1 score is 0.8316893424036281\n",
      "\n",
      "\n",
      "              precision    recall  f1-score   support\n",
      "\n",
      "     Class 0       0.87      0.87      0.87        55\n",
      "     Class 1       0.67      0.67      0.67        21\n",
      "     Class 2       0.56      0.71      0.63         7\n",
      "     Class 3       1.00      0.91      0.95        22\n",
      "\n",
      "   micro avg       0.83      0.83      0.83       105\n",
      "   macro avg       0.77      0.79      0.78       105\n",
      "weighted avg       0.84      0.83      0.83       105\n",
      "\n"
     ]
    },
    {
     "name": "stderr",
     "output_type": "stream",
     "text": [
      "/home/sarah/anaconda3/lib/python3.6/site-packages/sklearn/model_selection/_search.py:841: DeprecationWarning: The default of the `iid` parameter will change from True to False in version 0.22 and will be removed in 0.24. This will change numeric results when test-set sizes are unequal.\n",
      "  DeprecationWarning)\n",
      "\r",
      "10it [01:24,  8.49s/it]"
     ]
    },
    {
     "name": "stdout",
     "output_type": "stream",
     "text": [
      "For iteration 10:\n",
      "best parameter is {'estimator__C': 10, 'estimator__kernel': 'linear'}\n",
      "test accuracy is 0.8761904761904762\n",
      "f1 score is 0.8678022988505747\n",
      "\n",
      "\n",
      "              precision    recall  f1-score   support\n",
      "\n",
      "     Class 0       0.88      0.98      0.93        59\n",
      "     Class 1       0.82      0.61      0.70        23\n",
      "     Class 2       0.86      0.67      0.75         9\n",
      "     Class 3       0.93      1.00      0.97        14\n",
      "\n",
      "   micro avg       0.88      0.88      0.88       105\n",
      "   macro avg       0.87      0.81      0.84       105\n",
      "weighted avg       0.87      0.88      0.87       105\n",
      "\n"
     ]
    },
    {
     "name": "stderr",
     "output_type": "stream",
     "text": [
      "\n"
     ]
    }
   ],
   "source": [
    "msig_kegg_accuracies, msig_kegg_f1_scores = train_multiclass_svm(\n",
    "                        msig_kegg_features_array, \n",
    "                        msig_kegg_class_labels, \n",
    "                        inner_cv=10, \n",
    "                        outer_cv=10,\n",
    "                        chain_pca=True, \n",
    "                        explained_variance=0.95    \n",
    ")"
   ]
  },
  {
   "cell_type": "code",
   "execution_count": 18,
   "metadata": {},
   "outputs": [
    {
     "name": "stderr",
     "output_type": "stream",
     "text": [
      "1it [00:09,  9.49s/it]"
     ]
    },
    {
     "name": "stdout",
     "output_type": "stream",
     "text": [
      "For iteration 1:\n",
      "best parameter is {'estimator__C': 10, 'estimator__kernel': 'rbf'}\n",
      "test accuracy is 0.8476190476190476\n",
      "f1 score is 0.8442228879319312\n",
      "\n",
      "\n",
      "              precision    recall  f1-score   support\n",
      "\n",
      "     Class 0       0.84      0.92      0.88        52\n",
      "     Class 1       0.77      0.65      0.71        26\n",
      "     Class 2       0.90      0.82      0.86        11\n",
      "     Class 3       0.94      0.94      0.94        16\n",
      "\n",
      "   micro avg       0.85      0.85      0.85       105\n",
      "   macro avg       0.86      0.83      0.85       105\n",
      "weighted avg       0.85      0.85      0.84       105\n",
      "\n"
     ]
    },
    {
     "name": "stderr",
     "output_type": "stream",
     "text": [
      "\r",
      "2it [00:18,  9.48s/it]"
     ]
    },
    {
     "name": "stdout",
     "output_type": "stream",
     "text": [
      "For iteration 2:\n",
      "best parameter is {'estimator__C': 10, 'estimator__kernel': 'linear'}\n",
      "test accuracy is 0.9047619047619048\n",
      "f1 score is 0.9047276710828113\n",
      "\n",
      "\n",
      "              precision    recall  f1-score   support\n",
      "\n",
      "     Class 0       0.92      0.91      0.92        54\n",
      "     Class 1       0.76      0.76      0.76        21\n",
      "     Class 2       0.86      1.00      0.92         6\n",
      "     Class 3       1.00      1.00      1.00        24\n",
      "\n",
      "   micro avg       0.90      0.90      0.90       105\n",
      "   macro avg       0.89      0.92      0.90       105\n",
      "weighted avg       0.91      0.90      0.90       105\n",
      "\n"
     ]
    },
    {
     "name": "stderr",
     "output_type": "stream",
     "text": [
      "\r",
      "3it [00:28,  9.47s/it]"
     ]
    },
    {
     "name": "stdout",
     "output_type": "stream",
     "text": [
      "For iteration 3:\n",
      "best parameter is {'estimator__C': 10, 'estimator__kernel': 'linear'}\n",
      "test accuracy is 0.8666666666666667\n",
      "f1 score is 0.8619395801331287\n",
      "\n",
      "\n",
      "              precision    recall  f1-score   support\n",
      "\n",
      "     Class 0       0.86      0.95      0.90        59\n",
      "     Class 1       0.86      0.62      0.72        29\n",
      "     Class 2       0.50      1.00      0.67         2\n",
      "     Class 3       1.00      1.00      1.00        15\n",
      "\n",
      "   micro avg       0.87      0.87      0.87       105\n",
      "   macro avg       0.80      0.89      0.82       105\n",
      "weighted avg       0.87      0.87      0.86       105\n",
      "\n"
     ]
    },
    {
     "name": "stderr",
     "output_type": "stream",
     "text": [
      "/home/sarah/anaconda3/lib/python3.6/site-packages/sklearn/model_selection/_search.py:841: DeprecationWarning: The default of the `iid` parameter will change from True to False in version 0.22 and will be removed in 0.24. This will change numeric results when test-set sizes are unequal.\n",
      "  DeprecationWarning)\n",
      "\r",
      "4it [00:37,  9.47s/it]"
     ]
    },
    {
     "name": "stdout",
     "output_type": "stream",
     "text": [
      "For iteration 4:\n",
      "best parameter is {'estimator__C': 10, 'estimator__kernel': 'linear'}\n",
      "test accuracy is 0.8476190476190476\n",
      "f1 score is 0.8444288316419464\n",
      "\n",
      "\n",
      "              precision    recall  f1-score   support\n",
      "\n",
      "     Class 0       0.89      0.92      0.90        60\n",
      "     Class 1       0.67      0.67      0.67        21\n",
      "     Class 2       1.00      0.60      0.75        10\n",
      "     Class 3       0.88      1.00      0.93        14\n",
      "\n",
      "   micro avg       0.85      0.85      0.85       105\n",
      "   macro avg       0.86      0.80      0.81       105\n",
      "weighted avg       0.85      0.85      0.84       105\n",
      "\n"
     ]
    },
    {
     "name": "stderr",
     "output_type": "stream",
     "text": [
      "\r",
      "5it [00:47,  9.46s/it]"
     ]
    },
    {
     "name": "stdout",
     "output_type": "stream",
     "text": [
      "For iteration 5:\n",
      "best parameter is {'estimator__C': 10, 'estimator__kernel': 'linear'}\n",
      "test accuracy is 0.8952380952380953\n",
      "f1 score is 0.8887725779967159\n",
      "\n",
      "\n",
      "              precision    recall  f1-score   support\n",
      "\n",
      "     Class 0       0.87      0.96      0.91        55\n",
      "     Class 1       0.85      0.58      0.69        19\n",
      "     Class 2       0.86      0.86      0.86         7\n",
      "     Class 3       1.00      1.00      1.00        24\n",
      "\n",
      "   micro avg       0.90      0.90      0.90       105\n",
      "   macro avg       0.89      0.85      0.86       105\n",
      "weighted avg       0.89      0.90      0.89       105\n",
      "\n"
     ]
    },
    {
     "name": "stderr",
     "output_type": "stream",
     "text": [
      "/home/sarah/anaconda3/lib/python3.6/site-packages/sklearn/model_selection/_search.py:841: DeprecationWarning: The default of the `iid` parameter will change from True to False in version 0.22 and will be removed in 0.24. This will change numeric results when test-set sizes are unequal.\n",
      "  DeprecationWarning)\n",
      "\r",
      "6it [00:56,  9.46s/it]"
     ]
    },
    {
     "name": "stdout",
     "output_type": "stream",
     "text": [
      "For iteration 6:\n",
      "best parameter is {'estimator__C': 10, 'estimator__kernel': 'linear'}\n",
      "test accuracy is 0.9333333333333333\n",
      "f1 score is 0.9328024889000498\n",
      "\n",
      "\n",
      "              precision    recall  f1-score   support\n",
      "\n",
      "     Class 0       0.93      0.98      0.95        54\n",
      "     Class 1       0.85      0.85      0.85        20\n",
      "     Class 2       1.00      0.80      0.89        10\n",
      "     Class 3       1.00      0.95      0.98        21\n",
      "\n",
      "   micro avg       0.93      0.93      0.93       105\n",
      "   macro avg       0.94      0.90      0.92       105\n",
      "weighted avg       0.94      0.93      0.93       105\n",
      "\n"
     ]
    },
    {
     "name": "stderr",
     "output_type": "stream",
     "text": [
      "/home/sarah/anaconda3/lib/python3.6/site-packages/sklearn/model_selection/_search.py:841: DeprecationWarning: The default of the `iid` parameter will change from True to False in version 0.22 and will be removed in 0.24. This will change numeric results when test-set sizes are unequal.\n",
      "  DeprecationWarning)\n",
      "\r",
      "7it [01:06,  9.48s/it]"
     ]
    },
    {
     "name": "stdout",
     "output_type": "stream",
     "text": [
      "For iteration 7:\n",
      "best parameter is {'estimator__C': 10, 'estimator__kernel': 'rbf'}\n",
      "test accuracy is 0.8761904761904762\n",
      "f1 score is 0.8779009463501443\n",
      "\n",
      "\n",
      "              precision    recall  f1-score   support\n",
      "\n",
      "     Class 0       0.95      0.90      0.93        62\n",
      "     Class 1       0.67      0.78      0.72        18\n",
      "     Class 2       0.75      0.67      0.71         9\n",
      "     Class 3       0.94      1.00      0.97        16\n",
      "\n",
      "   micro avg       0.88      0.88      0.88       105\n",
      "   macro avg       0.83      0.84      0.83       105\n",
      "weighted avg       0.88      0.88      0.88       105\n",
      "\n"
     ]
    },
    {
     "name": "stderr",
     "output_type": "stream",
     "text": [
      "\r",
      "8it [01:15,  9.48s/it]"
     ]
    },
    {
     "name": "stdout",
     "output_type": "stream",
     "text": [
      "For iteration 8:\n",
      "best parameter is {'estimator__C': 10, 'estimator__kernel': 'rbf'}\n",
      "test accuracy is 0.9142857142857143\n",
      "f1 score is 0.9212566550037412\n",
      "\n",
      "\n",
      "              precision    recall  f1-score   support\n",
      "\n",
      "     Class 0       0.98      0.93      0.96        69\n",
      "     Class 1       0.56      0.91      0.69        11\n",
      "     Class 2       1.00      0.70      0.82        10\n",
      "     Class 3       1.00      1.00      1.00        15\n",
      "\n",
      "   micro avg       0.91      0.91      0.91       105\n",
      "   macro avg       0.89      0.88      0.87       105\n",
      "weighted avg       0.94      0.91      0.92       105\n",
      "\n"
     ]
    },
    {
     "name": "stderr",
     "output_type": "stream",
     "text": [
      "/home/sarah/anaconda3/lib/python3.6/site-packages/sklearn/model_selection/_search.py:841: DeprecationWarning: The default of the `iid` parameter will change from True to False in version 0.22 and will be removed in 0.24. This will change numeric results when test-set sizes are unequal.\n",
      "  DeprecationWarning)\n",
      "\r",
      "9it [01:25,  9.49s/it]"
     ]
    },
    {
     "name": "stdout",
     "output_type": "stream",
     "text": [
      "For iteration 9:\n",
      "best parameter is {'estimator__C': 10, 'estimator__kernel': 'linear'}\n",
      "test accuracy is 0.8857142857142857\n",
      "f1 score is 0.8863069459696432\n",
      "\n",
      "\n",
      "              precision    recall  f1-score   support\n",
      "\n",
      "     Class 0       0.90      0.92      0.91        50\n",
      "     Class 1       0.75      0.78      0.77        23\n",
      "     Class 2       0.88      0.78      0.82         9\n",
      "     Class 3       1.00      0.96      0.98        23\n",
      "\n",
      "   micro avg       0.89      0.89      0.89       105\n",
      "   macro avg       0.88      0.86      0.87       105\n",
      "weighted avg       0.89      0.89      0.89       105\n",
      "\n"
     ]
    },
    {
     "name": "stderr",
     "output_type": "stream",
     "text": [
      "/home/sarah/anaconda3/lib/python3.6/site-packages/sklearn/model_selection/_search.py:841: DeprecationWarning: The default of the `iid` parameter will change from True to False in version 0.22 and will be removed in 0.24. This will change numeric results when test-set sizes are unequal.\n",
      "  DeprecationWarning)\n",
      "\r",
      "10it [01:34,  9.49s/it]"
     ]
    },
    {
     "name": "stdout",
     "output_type": "stream",
     "text": [
      "For iteration 10:\n",
      "best parameter is {'estimator__C': 100, 'estimator__kernel': 'rbf'}\n",
      "test accuracy is 0.8952380952380953\n",
      "f1 score is 0.8962735042735043\n",
      "\n",
      "\n",
      "              precision    recall  f1-score   support\n",
      "\n",
      "     Class 0       0.92      0.94      0.93        52\n",
      "     Class 1       0.75      0.79      0.77        19\n",
      "     Class 2       0.75      0.75      0.75         8\n",
      "     Class 3       1.00      0.92      0.96        26\n",
      "\n",
      "   micro avg       0.90      0.90      0.90       105\n",
      "   macro avg       0.86      0.85      0.85       105\n",
      "weighted avg       0.90      0.90      0.90       105\n",
      "\n"
     ]
    },
    {
     "name": "stderr",
     "output_type": "stream",
     "text": [
      "\n"
     ]
    }
   ],
   "source": [
    "msig_reactome_accuracies, msig_reactome_f1_scores = train_multiclass_svm(\n",
    "                        msig_reactome_features_array, \n",
    "                        msig_reactome_class_labels, \n",
    "                        inner_cv=10, \n",
    "                        outer_cv=10,\n",
    "                        chain_pca=True, \n",
    "                        explained_variance=0.95    \n",
    ")"
   ]
  },
  {
   "cell_type": "code",
   "execution_count": 19,
   "metadata": {},
   "outputs": [
    {
     "data": {
      "text/plain": [
       "{1: 0.8630854640706856,\n",
       " 2: 0.9251575174848831,\n",
       " 3: 0.8819634910544002,\n",
       " 4: 0.9428571428571428,\n",
       " 5: 0.902998866213152,\n",
       " 6: 0.8222532100413721,\n",
       " 7: 0.8845972073039743,\n",
       " 8: 0.856034308370757,\n",
       " 9: 0.8924542337126367,\n",
       " 10: 0.8751489322917892}"
      ]
     },
     "execution_count": 19,
     "metadata": {},
     "output_type": "execute_result"
    }
   ],
   "source": [
    "kegg_f1_scores"
   ]
  },
  {
   "cell_type": "code",
   "execution_count": 20,
   "metadata": {},
   "outputs": [
    {
     "data": {
      "text/plain": [
       "{1: 0.8781855802296439,\n",
       " 2: 0.8772274867393767,\n",
       " 3: 0.9233446570117408,\n",
       " 4: 0.9052769452769452,\n",
       " 5: 0.8882313572655851,\n",
       " 6: 0.9162144723510905,\n",
       " 7: 0.9142305037957212,\n",
       " 8: 0.9078176725235549,\n",
       " 9: 0.8942680583683854,\n",
       " 10: 0.9028708000182488}"
      ]
     },
     "execution_count": 20,
     "metadata": {},
     "output_type": "execute_result"
    }
   ],
   "source": [
    "reactome_f1_scores"
   ]
  },
  {
   "cell_type": "code",
   "execution_count": 21,
   "metadata": {},
   "outputs": [
    {
     "data": {
      "text/plain": [
       "{1: 0.9295858694354935,\n",
       " 2: 0.9135207000223874,\n",
       " 3: 0.9010407374368123,\n",
       " 4: 0.9117153957831926,\n",
       " 5: 0.8764256056715221,\n",
       " 6: 0.9047619047619048,\n",
       " 7: 0.9149088938562623,\n",
       " 8: 0.9294886233910624,\n",
       " 9: 0.9060015741833923,\n",
       " 10: 0.8620712620712621}"
      ]
     },
     "execution_count": 21,
     "metadata": {},
     "output_type": "execute_result"
    }
   ],
   "source": [
    "wp_f1_scores"
   ]
  },
  {
   "cell_type": "code",
   "execution_count": 22,
   "metadata": {},
   "outputs": [
    {
     "data": {
      "text/plain": [
       "{1: 0.9041377454936776,\n",
       " 2: 0.9037851037851038,\n",
       " 3: 0.9119179308086871,\n",
       " 4: 0.8801949317738792,\n",
       " 5: 0.9031422092646582,\n",
       " 6: 0.942857142857143,\n",
       " 7: 0.9176459270576918,\n",
       " 8: 0.9231627610393751,\n",
       " 9: 0.8963399743887548,\n",
       " 10: 0.9142700758464305}"
      ]
     },
     "execution_count": 22,
     "metadata": {},
     "output_type": "execute_result"
    }
   ],
   "source": [
    "merge_f1_scores"
   ]
  },
  {
   "cell_type": "code",
   "execution_count": 23,
   "metadata": {},
   "outputs": [
    {
     "data": {
      "text/plain": [
       "{1: 0.8492754834739568,\n",
       " 2: 0.8923811065627482,\n",
       " 3: 0.9288186998937507,\n",
       " 4: 0.8600834852772836,\n",
       " 5: 0.8515567765567765,\n",
       " 6: 0.8523875523875523,\n",
       " 7: 0.8446584209441352,\n",
       " 8: 0.8886475674280551,\n",
       " 9: 0.8316893424036281,\n",
       " 10: 0.8678022988505747}"
      ]
     },
     "execution_count": 23,
     "metadata": {},
     "output_type": "execute_result"
    }
   ],
   "source": [
    "msig_kegg_f1_scores"
   ]
  },
  {
   "cell_type": "code",
   "execution_count": 24,
   "metadata": {},
   "outputs": [
    {
     "data": {
      "text/plain": [
       "{1: 0.8442228879319312,\n",
       " 2: 0.9047276710828113,\n",
       " 3: 0.8619395801331287,\n",
       " 4: 0.8444288316419464,\n",
       " 5: 0.8887725779967159,\n",
       " 6: 0.9328024889000498,\n",
       " 7: 0.8779009463501443,\n",
       " 8: 0.9212566550037412,\n",
       " 9: 0.8863069459696432,\n",
       " 10: 0.8962735042735043}"
      ]
     },
     "execution_count": 24,
     "metadata": {},
     "output_type": "execute_result"
    }
   ],
   "source": [
    "msig_reactome_f1_scores"
   ]
  },
  {
   "cell_type": "code",
   "execution_count": null,
   "metadata": {},
   "outputs": [],
   "source": [
    "sum = 0 \n",
    "for acc in reactome_all_metrics.values():\n",
    "    sum += acc"
   ]
  },
  {
   "cell_type": "code",
   "execution_count": null,
   "metadata": {},
   "outputs": [],
   "source": [
    "sum/10"
   ]
  },
  {
   "cell_type": "code",
   "execution_count": null,
   "metadata": {},
   "outputs": [],
   "source": [
    "resource_accuracies = [\n",
    "    kegg_all_metrics,\n",
    "    reactome_all_metrics,\n",
    "    wikipathways_all_metrics,\n",
    "    merged_all_metrics,\n",
    "    msig_kegg_all_metrics,\n",
    "    msig_reactome_all_metrics\n",
    "]"
   ]
  },
  {
   "cell_type": "code",
   "execution_count": null,
   "metadata": {},
   "outputs": [],
   "source": [
    "kegg_df = pd.DataFrame()\n",
    "kegg_df['Accuracy'] = kegg_all_metrics.values()\n",
    "kegg_df['Resource'] = 'KEGG'\n",
    "\n",
    "reactome_df = pd.DataFrame()\n",
    "reactome_df['Accuracy'] = reactome_all_metrics.values()\n",
    "reactome_df['Resource'] = 'Reactome'\n",
    "\n",
    "wp_df = pd.DataFrame()\n",
    "wp_df['Accuracy'] = wikipathways_all_metrics.values()\n",
    "wp_df['Resource'] = 'WikiPathways'\n",
    "\n",
    "merged_df = pd.DataFrame()\n",
    "merged_df['Accuracy'] = merged_all_metrics.values()\n",
    "merged_df['Resource'] = 'PathwayForte'\n",
    "\n",
    "msigk_df = pd.DataFrame()\n",
    "msigk_df['Accuracy'] = msig_kegg_all_metrics.values()\n",
    "msigk_df['Resource'] = 'MSigDB-KEGG'\n",
    "\n",
    "msigr_df = pd.DataFrame()\n",
    "msigr_df['Accuracy'] = msig_reactome_all_metrics.values()\n",
    "msigr_df['Resource'] = 'MSigDB-Reactome'"
   ]
  },
  {
   "cell_type": "code",
   "execution_count": null,
   "metadata": {
    "scrolled": true
   },
   "outputs": [],
   "source": [
    "all_resources_df = pd.concat([kegg_df, reactome_df, wp_df, merged_df, msigk_df, msigr_df])"
   ]
  },
  {
   "cell_type": "code",
   "execution_count": null,
   "metadata": {},
   "outputs": [],
   "source": [
    "ax = sns.boxplot(x=\"Resource\", y=\"Accuracy\", \n",
    "                 data=all_resources_df, showfliers=False,\n",
    "                 palette=\"Set2\").set_title('Distribution of accuracies over 10-fold CV of shuffled breast cancer dataset', fontsize=17)\n",
    "\n",
    "plt.rcParams[\"axes.labelsize\"] = 14\n",
    "\n",
    "fig = plt.gcf()\n",
    "fig.set_size_inches(12, 8)\n",
    "plt.savefig('kegg_boxplot.png', dpi=500)"
   ]
  },
  {
   "cell_type": "code",
   "execution_count": null,
   "metadata": {},
   "outputs": [],
   "source": [
    "# shuffle labels\n",
    "np.random.shuffle(shuffle_kegg_class_labels)\n",
    "np.random.shuffle(shuffle_reactome_class_labels)\n",
    "np.random.shuffle(shuffle_wikipathways_class_labels)\n",
    "np.random.shuffle(shuffle_merged_class_labels)\n",
    "\n",
    "np.random.shuffle(shuffle_msig_kegg_class_labels)\n",
    "np.random.shuffle(shuffle_msig_reactome_class_labels)"
   ]
  },
  {
   "cell_type": "code",
   "execution_count": null,
   "metadata": {
    "scrolled": true
   },
   "outputs": [],
   "source": [
    "shuffle_kegg_all_metrics = train_multiclass_log_reg(\n",
    "                        kegg_features_array, \n",
    "                        shuffle_kegg_class_labels, \n",
    "                        inner_cv=10, \n",
    "                        outer_cv=10,\n",
    "                        chain_pca=True, \n",
    "                        explained_variance=0.95    \n",
    ")"
   ]
  },
  {
   "cell_type": "code",
   "execution_count": null,
   "metadata": {
    "scrolled": true
   },
   "outputs": [],
   "source": [
    "shuffle_reactome_all_metrics = train_multiclass_log_reg(\n",
    "                        reactome_features_array, \n",
    "                        shuffle_reactome_class_labels,\n",
    "                        inner_cv=10, \n",
    "                        outer_cv=10,\n",
    "                        chain_pca=True, \n",
    "                        explained_variance=0.95    \n",
    ")"
   ]
  },
  {
   "cell_type": "code",
   "execution_count": null,
   "metadata": {
    "scrolled": true
   },
   "outputs": [],
   "source": [
    "shuffle_wikipathways_all_metrics = train_multiclass_log_reg(\n",
    "                            wikipathways_features_array, \n",
    "                            shuffle_wikipathways_class_labels,\n",
    "                            inner_cv=10, \n",
    "                            outer_cv=10,\n",
    "                            chain_pca=True, \n",
    "                            explained_variance=0.95    \n",
    ")"
   ]
  },
  {
   "cell_type": "code",
   "execution_count": null,
   "metadata": {},
   "outputs": [],
   "source": [
    "shuffle_merged_all_metrics = train_multiclass_log_reg(\n",
    "                        merged_features_array, \n",
    "                        merged_class_labels,\n",
    "                        inner_cv=10, \n",
    "                        outer_cv=10,\n",
    "                        chain_pca=True, \n",
    "                        explained_variance=0.95    \n",
    ")"
   ]
  },
  {
   "cell_type": "code",
   "execution_count": null,
   "metadata": {},
   "outputs": [],
   "source": [
    "shuffle_msig_kegg_all_metrics = train_multiclass_log_reg(\n",
    "                        msig_kegg_features_array, \n",
    "                        msig_kegg_class_labels, \n",
    "                        inner_cv=10, \n",
    "                        outer_cv=10,\n",
    "                        chain_pca=True, \n",
    "                        explained_variance=0.95    \n",
    ")"
   ]
  },
  {
   "cell_type": "code",
   "execution_count": null,
   "metadata": {},
   "outputs": [],
   "source": [
    "shuffle_msig_reactome_all_metrics = train_multiclass_log_reg(\n",
    "                        msig_reactome_features_array, \n",
    "                        msig_reactome_class_labels, \n",
    "                        inner_cv=10, \n",
    "                        outer_cv=10,\n",
    "                        chain_pca=True, \n",
    "                        explained_variance=0.95    \n",
    ")"
   ]
  },
  {
   "cell_type": "code",
   "execution_count": null,
   "metadata": {},
   "outputs": [],
   "source": [
    "brca_cindex = [\n",
    "    0.5277884986491702,0.584945412756177, 0.4972871842843779,0.49943778110944526,\n",
    "    0.5286965850169855,0.5287651154268963, 0.5248087860364777,0.595642540620384,\n",
    "    0.5391722099039172, 0.532621359223301\n",
    "    ]"
   ]
  },
  {
   "cell_type": "code",
   "execution_count": null,
   "metadata": {},
   "outputs": [],
   "source": [
    "lihc_cindex = [\n",
    "    0.5671296296296297,0.5532994923857868, 0.4863157894736842,\n",
    "    0.5325,0.49743589743589745,0.6302816901408451, 0.4436781609195402,\n",
    "    0.5081206496519721,0.6033254156769596,0.4553846153846154\n",
    "    ]"
   ]
  },
  {
   "cell_type": "code",
   "execution_count": null,
   "metadata": {},
   "outputs": [],
   "source": [
    "brcac_df = pd.DataFrame()\n",
    "brcac_df['C-index'] = brca_cindex\n",
    "brcac_df['Dataset'] = 'BRCA'"
   ]
  },
  {
   "cell_type": "code",
   "execution_count": null,
   "metadata": {},
   "outputs": [],
   "source": [
    "lihcc_df = pd.DataFrame()\n",
    "lihcc_df['C-index'] = lihc_cindex\n",
    "lihcc_df['Dataset'] = 'LIHC'"
   ]
  },
  {
   "cell_type": "code",
   "execution_count": null,
   "metadata": {},
   "outputs": [],
   "source": [
    "surv_resources_df = pd.concat([brcac_df, lihcc_df])"
   ]
  },
  {
   "cell_type": "code",
   "execution_count": null,
   "metadata": {},
   "outputs": [],
   "source": [
    "ax = sns.boxplot(x=\"Dataset\", y=\"C-index\", \n",
    "                 data=surv_resources_df, showfliers=True,\n",
    "                 palette=\"Set2\").set_title('Distribution of C-indices from survival analysis in cancer datasets', fontsize=16)\n",
    "\n",
    "plt.rcParams[\"axes.labelsize\"] = 14\n",
    "\n",
    "fig = plt.gcf()\n",
    "fig.set_size_inches(10, 6)\n",
    "plt.savefig('surv_boxplot.png', dpi=500)"
   ]
  },
  {
   "cell_type": "code",
   "execution_count": null,
   "metadata": {},
   "outputs": [],
   "source": []
  }
 ],
 "metadata": {
  "kernelspec": {
   "display_name": "Python 3",
   "language": "python",
   "name": "python3"
  },
  "language_info": {
   "codemirror_mode": {
    "name": "ipython",
    "version": 3
   },
   "file_extension": ".py",
   "mimetype": "text/x-python",
   "name": "python",
   "nbconvert_exporter": "python",
   "pygments_lexer": "ipython3",
   "version": "3.6.5"
  }
 },
 "nbformat": 4,
 "nbformat_minor": 2
}
