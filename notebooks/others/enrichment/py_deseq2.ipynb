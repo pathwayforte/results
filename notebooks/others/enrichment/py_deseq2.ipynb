{
 "cells": [
  {
   "cell_type": "markdown",
   "metadata": {},
   "source": [
    "# Analysis of TCGA RNASeq data using DESeq2\n",
    "This notebooks uses DESeq2 and R2Py to analyze the RNASeq data sets from TCGA."
   ]
  },
  {
   "cell_type": "code",
   "execution_count": 12,
   "metadata": {},
   "outputs": [],
   "source": [
    "import os\n",
    "import sys\n",
    "import pandas as pd # version 0.19\n",
    "import rpy2 # version 2.9.1\n",
    "from rpy2.robjects import pandas2ri, Formula, r"
   ]
  },
  {
   "cell_type": "markdown",
   "metadata": {},
   "source": [
    "Note that it is required to install the \"DESeq2\" package in R. For that run:\n",
    "\n",
    "\n",
    "if (!requireNamespace(\"BiocManager\", quietly = TRUE))\n",
    "\n",
    "    install.packages(\"BiocManager\")\n",
    "    \n",
    "BiocManager::install(\"DESeq2\")"
   ]
  },
  {
   "cell_type": "code",
   "execution_count": 13,
   "metadata": {},
   "outputs": [],
   "source": [
    "pandas2ri.activate()\n",
    "from rpy2.robjects.packages import importr\n",
    "deseq = importr('DESeq2')"
   ]
  },
  {
   "cell_type": "code",
   "execution_count": 14,
   "metadata": {},
   "outputs": [
    {
     "data": {
      "text/plain": [
       "'2.9.1'"
      ]
     },
     "execution_count": 14,
     "metadata": {},
     "output_type": "execute_result"
    }
   ],
   "source": [
    "rpy2.__version__"
   ]
  },
  {
   "cell_type": "code",
   "execution_count": 15,
   "metadata": {},
   "outputs": [
    {
     "data": {
      "text/plain": [
       "'0.19.0'"
      ]
     },
     "execution_count": 15,
     "metadata": {},
     "output_type": "execute_result"
    }
   ],
   "source": [
    "pd.__version__"
   ]
  },
  {
   "cell_type": "markdown",
   "metadata": {},
   "source": [
    "Python class defined in https://gist.github.com/wckdouglas/3f8fb27a3d7a1eb24c598aa04f70fb25"
   ]
  },
  {
   "cell_type": "code",
   "execution_count": 16,
   "metadata": {},
   "outputs": [],
   "source": [
    "to_dataframe = r('function(x) data.frame(x)')\n",
    "\n",
    "class py_DESeq2:\n",
    "\n",
    "    def __init__(self, count_matrix, design_matrix, design_formula, gene_column='id'):\n",
    "        try:\n",
    "            assert gene_column in count_matrix.columns, 'Wrong gene id column name'\n",
    "            gene_id = count_matrix[gene_column]\n",
    "        except AttributeError:\n",
    "            sys.exit('Wrong Pandas dataframe?')\n",
    "\n",
    "        self.dds = None\n",
    "        self.deseq_result = None\n",
    "        self.resLFC = None\n",
    "        self.comparison = None\n",
    "        self.normalized_count_matrix = None\n",
    "        self.gene_column = gene_column\n",
    "        self.gene_id = count_matrix[self.gene_column]\n",
    "        \n",
    "        count_matrix = count_matrix.drop(gene_column,axis=1)\n",
    "        \n",
    "        print(f'{count_matrix.shape[1]} | {design_matrix.shape[0]}')\n",
    "        \n",
    "        # Load dataframe into R environment\n",
    "        # Important: Change to r.data() if you use numpys and rpy2 latests versions\n",
    "        count_matrix = pandas2ri.py2ri(count_matrix)\n",
    "        \n",
    "        # Assign columns to NULL\n",
    "        count_matrix.names = rpy2.rinterface.NULL\n",
    "        \n",
    "        self.count_matrix = count_matrix\n",
    "        \n",
    "        self.design_matrix = pandas2ri.py2ri(design_matrix)\n",
    "        \n",
    "        self.design_formula = Formula(design_formula)\n",
    "\n",
    "\n",
    "    def run_deseq(self, **kwargs):\n",
    "        self.dds = deseq.DESeqDataSetFromMatrix(\n",
    "            countData=self.count_matrix, \n",
    "            colData=self.design_matrix,\n",
    "            design=self.design_formula\n",
    "        )\n",
    "        self.dds = deseq.DESeq(self.dds, **kwargs)\n",
    "        # Previous script had \"deseq.counts\" instead\n",
    "        self.normalized_count_matrix = deseq.counts_DESeqDataSet(self.dds, normalized=True)\n",
    "\n",
    "    def get_deseq_result(self, **kwargs):\n",
    "\n",
    "        self.comparison = deseq.resultsNames(self.dds)\n",
    "\n",
    "        self.deseq_result = deseq.results(self.dds, **kwargs)\n",
    "        self.deseq_result = to_dataframe(self.deseq_result)\n",
    "        self.deseq_result = pandas2ri.ri2py(self.deseq_result) ## back to pandas dataframe\n",
    "        self.deseq_result[self.gene_column] = self.gene_id.values\n",
    "        return self.deseq_result"
   ]
  },
  {
   "cell_type": "markdown",
   "metadata": {},
   "source": [
    "Get and preprocessing data"
   ]
  },
  {
   "cell_type": "code",
   "execution_count": 17,
   "metadata": {},
   "outputs": [],
   "source": [
    "# Point to the data folder\n",
    "dir_path = os.path.dirname(os.path.realpath('__file__'))\n",
    "SOURCE = os.path.join(os.path.abspath(os.path.join(dir_path, os.pardir)))\n",
    "DATA = os.path.join(SOURCE, 'data', 'rnaseq')\n",
    "\n",
    "lihc_counts_path = os.path.join(DATA,'lihc_read_count_duplicates_removed.txt')\n",
    "lihc_labels_path = os.path.join(DATA,'LIHC_transposed_labels.txt')"
   ]
  },
  {
   "cell_type": "code",
   "execution_count": 18,
   "metadata": {},
   "outputs": [],
   "source": [
    "lihc_count_matrix = pd.read_csv(\n",
    "    lihc_counts_path, \n",
    "    sep = ',', \n",
    ")\n",
    "\n",
    "lihc_design_matrix = pd.read_csv(\n",
    "    lihc_labels_path,\n",
    "    sep = ',',\n",
    "    index_col=0\n",
    ")"
   ]
  },
  {
   "cell_type": "code",
   "execution_count": 19,
   "metadata": {},
   "outputs": [
    {
     "data": {
      "text/plain": [
       "(55150, 422)"
      ]
     },
     "execution_count": 19,
     "metadata": {},
     "output_type": "execute_result"
    }
   ],
   "source": [
    "lihc_count_matrix.shape"
   ]
  },
  {
   "cell_type": "code",
   "execution_count": 20,
   "metadata": {},
   "outputs": [
    {
     "data": {
      "text/html": [
       "<div>\n",
       "<table border=\"1\" class=\"dataframe\">\n",
       "  <thead>\n",
       "    <tr style=\"text-align: right;\">\n",
       "      <th></th>\n",
       "      <th>gene_symbol</th>\n",
       "      <th>TCGA-DD-A1EE-11A-11R-A131-07</th>\n",
       "      <th>TCGA-EP-A26S-11A-12R-A16W-07</th>\n",
       "      <th>TCGA-DD-A114-11A-12R-A131-07</th>\n",
       "      <th>TCGA-BD-A3EP-11A-12R-A22L-07</th>\n",
       "      <th>TCGA-ES-A2HT-11A-11R-A180-07</th>\n",
       "      <th>TCGA-DD-A3A6-11A-11R-A22L-07</th>\n",
       "      <th>TCGA-FV-A3I1-11A-11R-A22L-07</th>\n",
       "      <th>TCGA-DD-A118-11A-11R-A131-07</th>\n",
       "      <th>TCGA-DD-A11A-11A-11R-A131-07</th>\n",
       "      <th>...</th>\n",
       "      <th>TCGA-DD-A3A1-01A-11R-A213-07</th>\n",
       "      <th>TCGA-DD-A1EH-01A-11R-A131-07</th>\n",
       "      <th>TCGA-CC-A7IL-01A-11R-A33R-07</th>\n",
       "      <th>TCGA-G3-A5SL-01A-11R-A27V-07</th>\n",
       "      <th>TCGA-BC-A5W4-01A-11R-A28V-07</th>\n",
       "      <th>TCGA-DD-A1EA-01A-11R-A131-07</th>\n",
       "      <th>TCGA-EP-A2KB-01A-11R-A180-07</th>\n",
       "      <th>TCGA-DD-AAW3-01A-11R-A41C-07</th>\n",
       "      <th>TCGA-BC-4073-01B-02R-A131-07</th>\n",
       "      <th>TCGA-RC-A6M6-01A-11R-A32O-07</th>\n",
       "    </tr>\n",
       "  </thead>\n",
       "  <tbody>\n",
       "    <tr>\n",
       "      <th>0</th>\n",
       "      <td>TSPAN6</td>\n",
       "      <td>2541</td>\n",
       "      <td>5321</td>\n",
       "      <td>5284</td>\n",
       "      <td>3068</td>\n",
       "      <td>4862</td>\n",
       "      <td>2987</td>\n",
       "      <td>3737</td>\n",
       "      <td>3012</td>\n",
       "      <td>5710</td>\n",
       "      <td>...</td>\n",
       "      <td>2750</td>\n",
       "      <td>5196</td>\n",
       "      <td>6130</td>\n",
       "      <td>7446</td>\n",
       "      <td>2285</td>\n",
       "      <td>5576</td>\n",
       "      <td>8742</td>\n",
       "      <td>2716</td>\n",
       "      <td>1262</td>\n",
       "      <td>3413</td>\n",
       "    </tr>\n",
       "    <tr>\n",
       "      <th>1</th>\n",
       "      <td>TNMD</td>\n",
       "      <td>0</td>\n",
       "      <td>1</td>\n",
       "      <td>7</td>\n",
       "      <td>0</td>\n",
       "      <td>0</td>\n",
       "      <td>0</td>\n",
       "      <td>1</td>\n",
       "      <td>1</td>\n",
       "      <td>3</td>\n",
       "      <td>...</td>\n",
       "      <td>2</td>\n",
       "      <td>3</td>\n",
       "      <td>9</td>\n",
       "      <td>0</td>\n",
       "      <td>1</td>\n",
       "      <td>1</td>\n",
       "      <td>1</td>\n",
       "      <td>0</td>\n",
       "      <td>1</td>\n",
       "      <td>0</td>\n",
       "    </tr>\n",
       "    <tr>\n",
       "      <th>2</th>\n",
       "      <td>DPM1</td>\n",
       "      <td>537</td>\n",
       "      <td>1144</td>\n",
       "      <td>1403</td>\n",
       "      <td>705</td>\n",
       "      <td>1272</td>\n",
       "      <td>405</td>\n",
       "      <td>703</td>\n",
       "      <td>778</td>\n",
       "      <td>1044</td>\n",
       "      <td>...</td>\n",
       "      <td>1375</td>\n",
       "      <td>1862</td>\n",
       "      <td>2470</td>\n",
       "      <td>1265</td>\n",
       "      <td>1105</td>\n",
       "      <td>1091</td>\n",
       "      <td>2211</td>\n",
       "      <td>820</td>\n",
       "      <td>1670</td>\n",
       "      <td>2200</td>\n",
       "    </tr>\n",
       "    <tr>\n",
       "      <th>3</th>\n",
       "      <td>SCYL3</td>\n",
       "      <td>414</td>\n",
       "      <td>510</td>\n",
       "      <td>704</td>\n",
       "      <td>288</td>\n",
       "      <td>720</td>\n",
       "      <td>164</td>\n",
       "      <td>543</td>\n",
       "      <td>334</td>\n",
       "      <td>724</td>\n",
       "      <td>...</td>\n",
       "      <td>344</td>\n",
       "      <td>2019</td>\n",
       "      <td>1119</td>\n",
       "      <td>942</td>\n",
       "      <td>585</td>\n",
       "      <td>1077</td>\n",
       "      <td>1166</td>\n",
       "      <td>687</td>\n",
       "      <td>800</td>\n",
       "      <td>406</td>\n",
       "    </tr>\n",
       "    <tr>\n",
       "      <th>4</th>\n",
       "      <td>C1orf112</td>\n",
       "      <td>123</td>\n",
       "      <td>146</td>\n",
       "      <td>119</td>\n",
       "      <td>97</td>\n",
       "      <td>107</td>\n",
       "      <td>57</td>\n",
       "      <td>130</td>\n",
       "      <td>91</td>\n",
       "      <td>322</td>\n",
       "      <td>...</td>\n",
       "      <td>134</td>\n",
       "      <td>539</td>\n",
       "      <td>217</td>\n",
       "      <td>396</td>\n",
       "      <td>119</td>\n",
       "      <td>1003</td>\n",
       "      <td>480</td>\n",
       "      <td>136</td>\n",
       "      <td>411</td>\n",
       "      <td>248</td>\n",
       "    </tr>\n",
       "  </tbody>\n",
       "</table>\n",
       "<p>5 rows × 422 columns</p>\n",
       "</div>"
      ],
      "text/plain": [
       "  gene_symbol  TCGA-DD-A1EE-11A-11R-A131-07  TCGA-EP-A26S-11A-12R-A16W-07  \\\n",
       "0      TSPAN6                          2541                          5321   \n",
       "1        TNMD                             0                             1   \n",
       "2        DPM1                           537                          1144   \n",
       "3       SCYL3                           414                           510   \n",
       "4    C1orf112                           123                           146   \n",
       "\n",
       "   TCGA-DD-A114-11A-12R-A131-07  TCGA-BD-A3EP-11A-12R-A22L-07  \\\n",
       "0                          5284                          3068   \n",
       "1                             7                             0   \n",
       "2                          1403                           705   \n",
       "3                           704                           288   \n",
       "4                           119                            97   \n",
       "\n",
       "   TCGA-ES-A2HT-11A-11R-A180-07  TCGA-DD-A3A6-11A-11R-A22L-07  \\\n",
       "0                          4862                          2987   \n",
       "1                             0                             0   \n",
       "2                          1272                           405   \n",
       "3                           720                           164   \n",
       "4                           107                            57   \n",
       "\n",
       "   TCGA-FV-A3I1-11A-11R-A22L-07  TCGA-DD-A118-11A-11R-A131-07  \\\n",
       "0                          3737                          3012   \n",
       "1                             1                             1   \n",
       "2                           703                           778   \n",
       "3                           543                           334   \n",
       "4                           130                            91   \n",
       "\n",
       "   TCGA-DD-A11A-11A-11R-A131-07              ...               \\\n",
       "0                          5710              ...                \n",
       "1                             3              ...                \n",
       "2                          1044              ...                \n",
       "3                           724              ...                \n",
       "4                           322              ...                \n",
       "\n",
       "   TCGA-DD-A3A1-01A-11R-A213-07  TCGA-DD-A1EH-01A-11R-A131-07  \\\n",
       "0                          2750                          5196   \n",
       "1                             2                             3   \n",
       "2                          1375                          1862   \n",
       "3                           344                          2019   \n",
       "4                           134                           539   \n",
       "\n",
       "   TCGA-CC-A7IL-01A-11R-A33R-07  TCGA-G3-A5SL-01A-11R-A27V-07  \\\n",
       "0                          6130                          7446   \n",
       "1                             9                             0   \n",
       "2                          2470                          1265   \n",
       "3                          1119                           942   \n",
       "4                           217                           396   \n",
       "\n",
       "   TCGA-BC-A5W4-01A-11R-A28V-07  TCGA-DD-A1EA-01A-11R-A131-07  \\\n",
       "0                          2285                          5576   \n",
       "1                             1                             1   \n",
       "2                          1105                          1091   \n",
       "3                           585                          1077   \n",
       "4                           119                          1003   \n",
       "\n",
       "   TCGA-EP-A2KB-01A-11R-A180-07  TCGA-DD-AAW3-01A-11R-A41C-07  \\\n",
       "0                          8742                          2716   \n",
       "1                             1                             0   \n",
       "2                          2211                           820   \n",
       "3                          1166                           687   \n",
       "4                           480                           136   \n",
       "\n",
       "   TCGA-BC-4073-01B-02R-A131-07  TCGA-RC-A6M6-01A-11R-A32O-07  \n",
       "0                          1262                          3413  \n",
       "1                             1                             0  \n",
       "2                          1670                          2200  \n",
       "3                           800                           406  \n",
       "4                           411                           248  \n",
       "\n",
       "[5 rows x 422 columns]"
      ]
     },
     "execution_count": 20,
     "metadata": {},
     "output_type": "execute_result"
    }
   ],
   "source": [
    "lihc_count_matrix.head()"
   ]
  },
  {
   "cell_type": "code",
   "execution_count": 21,
   "metadata": {},
   "outputs": [
    {
     "data": {
      "text/plain": [
       "(421, 1)"
      ]
     },
     "execution_count": 21,
     "metadata": {},
     "output_type": "execute_result"
    }
   ],
   "source": [
    "lihc_design_matrix.shape"
   ]
  },
  {
   "cell_type": "markdown",
   "metadata": {},
   "source": [
    "Create object"
   ]
  },
  {
   "cell_type": "code",
   "execution_count": 23,
   "metadata": {},
   "outputs": [
    {
     "name": "stdout",
     "output_type": "stream",
     "text": [
      "421 | 421\n"
     ]
    }
   ],
   "source": [
    "# dds = deseq.DESeqDataSetFromMatrix(countData=r_lihc_count_df, colData=r_lihc_label_df, design=design_formula)\n",
    "deseq2_exp = py_DESeq2(\n",
    "    count_matrix=lihc_count_matrix,\n",
    "    design_matrix=lihc_design_matrix,\n",
    "    design_formula='~ class_label',\n",
    "    gene_column='gene_symbol'\n",
    ")"
   ]
  },
  {
   "cell_type": "code",
   "execution_count": 24,
   "metadata": {},
   "outputs": [
    {
     "name": "stderr",
     "output_type": "stream",
     "text": [
      "/home/ddomingofernandez/python/lib/python3.6/site-packages/rpy2/rinterface/__init__.py:145: RRuntimeWarning: estimating size factors\n",
      "\n",
      "  warnings.warn(x, RRuntimeWarning)\n",
      "/home/ddomingofernandez/python/lib/python3.6/site-packages/rpy2/rinterface/__init__.py:145: RRuntimeWarning: estimating dispersions\n",
      "\n",
      "  warnings.warn(x, RRuntimeWarning)\n",
      "/home/ddomingofernandez/python/lib/python3.6/site-packages/rpy2/rinterface/__init__.py:145: RRuntimeWarning: gene-wise dispersion estimates\n",
      "\n",
      "  warnings.warn(x, RRuntimeWarning)\n",
      "/home/ddomingofernandez/python/lib/python3.6/site-packages/rpy2/rinterface/__init__.py:145: RRuntimeWarning: mean-dispersion relationship\n",
      "\n",
      "  warnings.warn(x, RRuntimeWarning)\n",
      "/home/ddomingofernandez/python/lib/python3.6/site-packages/rpy2/rinterface/__init__.py:145: RRuntimeWarning: final dispersion estimates\n",
      "\n",
      "  warnings.warn(x, RRuntimeWarning)\n",
      "/home/ddomingofernandez/python/lib/python3.6/site-packages/rpy2/rinterface/__init__.py:145: RRuntimeWarning: fitting model and testing\n",
      "\n",
      "  warnings.warn(x, RRuntimeWarning)\n",
      "/home/ddomingofernandez/python/lib/python3.6/site-packages/rpy2/rinterface/__init__.py:145: RRuntimeWarning: -- replacing outliers and refitting for 4772 genes\n",
      "-- DESeq argument 'minReplicatesForReplace' = 7 \n",
      "-- original counts are preserved in counts(dds)\n",
      "\n",
      "  warnings.warn(x, RRuntimeWarning)\n"
     ]
    }
   ],
   "source": [
    "deseq2_exp.run_deseq()"
   ]
  },
  {
   "cell_type": "code",
   "execution_count": 28,
   "metadata": {},
   "outputs": [],
   "source": [
    "results = deseq2_exp.get_deseq_result()"
   ]
  },
  {
   "cell_type": "code",
   "execution_count": 29,
   "metadata": {},
   "outputs": [
    {
     "data": {
      "text/html": [
       "<div>\n",
       "<table border=\"1\" class=\"dataframe\">\n",
       "  <thead>\n",
       "    <tr style=\"text-align: right;\">\n",
       "      <th></th>\n",
       "      <th>baseMean</th>\n",
       "      <th>log2FoldChange</th>\n",
       "      <th>lfcSE</th>\n",
       "      <th>stat</th>\n",
       "      <th>pvalue</th>\n",
       "      <th>padj</th>\n",
       "      <th>gene_symbol</th>\n",
       "    </tr>\n",
       "  </thead>\n",
       "  <tbody>\n",
       "    <tr>\n",
       "      <th>0</th>\n",
       "      <td>5000.171755</td>\n",
       "      <td>-0.190154</td>\n",
       "      <td>0.115002</td>\n",
       "      <td>-1.653482</td>\n",
       "      <td>9.823276e-02</td>\n",
       "      <td>1.492199e-01</td>\n",
       "      <td>TSPAN6</td>\n",
       "    </tr>\n",
       "    <tr>\n",
       "      <th>1</th>\n",
       "      <td>3.393527</td>\n",
       "      <td>-0.987750</td>\n",
       "      <td>0.364615</td>\n",
       "      <td>-2.709024</td>\n",
       "      <td>6.748146e-03</td>\n",
       "      <td>1.374545e-02</td>\n",
       "      <td>TNMD</td>\n",
       "    </tr>\n",
       "    <tr>\n",
       "      <th>2</th>\n",
       "      <td>1212.238480</td>\n",
       "      <td>0.021000</td>\n",
       "      <td>0.066639</td>\n",
       "      <td>0.315137</td>\n",
       "      <td>7.526578e-01</td>\n",
       "      <td>8.072538e-01</td>\n",
       "      <td>DPM1</td>\n",
       "    </tr>\n",
       "    <tr>\n",
       "      <th>3</th>\n",
       "      <td>663.394629</td>\n",
       "      <td>0.064535</td>\n",
       "      <td>0.080207</td>\n",
       "      <td>0.804604</td>\n",
       "      <td>4.210483e-01</td>\n",
       "      <td>5.121938e-01</td>\n",
       "      <td>SCYL3</td>\n",
       "    </tr>\n",
       "    <tr>\n",
       "      <th>4</th>\n",
       "      <td>305.629500</td>\n",
       "      <td>0.882955</td>\n",
       "      <td>0.153050</td>\n",
       "      <td>5.769042</td>\n",
       "      <td>7.972325e-09</td>\n",
       "      <td>4.282953e-08</td>\n",
       "      <td>C1orf112</td>\n",
       "    </tr>\n",
       "  </tbody>\n",
       "</table>\n",
       "</div>"
      ],
      "text/plain": [
       "      baseMean  log2FoldChange     lfcSE      stat        pvalue  \\\n",
       "0  5000.171755       -0.190154  0.115002 -1.653482  9.823276e-02   \n",
       "1     3.393527       -0.987750  0.364615 -2.709024  6.748146e-03   \n",
       "2  1212.238480        0.021000  0.066639  0.315137  7.526578e-01   \n",
       "3   663.394629        0.064535  0.080207  0.804604  4.210483e-01   \n",
       "4   305.629500        0.882955  0.153050  5.769042  7.972325e-09   \n",
       "\n",
       "           padj gene_symbol  \n",
       "0  1.492199e-01      TSPAN6  \n",
       "1  1.374545e-02        TNMD  \n",
       "2  8.072538e-01        DPM1  \n",
       "3  5.121938e-01       SCYL3  \n",
       "4  4.282953e-08    C1orf112  "
      ]
     },
     "execution_count": 29,
     "metadata": {},
     "output_type": "execute_result"
    }
   ],
   "source": [
    "results.head()"
   ]
  },
  {
   "cell_type": "code",
   "execution_count": null,
   "metadata": {},
   "outputs": [],
   "source": [
    "results.to_csv('results.csv')"
   ]
  }
 ],
 "metadata": {
  "kernelspec": {
   "display_name": "Python 3",
   "language": "python",
   "name": "python3"
  },
  "language_info": {
   "codemirror_mode": {
    "name": "ipython",
    "version": 3
   },
   "file_extension": ".py",
   "mimetype": "text/x-python",
   "name": "python",
   "nbconvert_exporter": "python",
   "pygments_lexer": "ipython3",
   "version": "3.6.5"
  }
 },
 "nbformat": 4,
 "nbformat_minor": 2
}
