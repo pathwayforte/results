{
 "cells": [
  {
   "cell_type": "markdown",
   "metadata": {},
   "source": [
    "# Identify new WikiPathways pathways since we curated ComPath"
   ]
  },
  {
   "cell_type": "code",
   "execution_count": 1,
   "metadata": {
    "collapsed": true
   },
   "outputs": [],
   "source": [
    "import os\n",
    "\n",
    "from bio2bel_wikipathways import Manager as WikipathwaysManager\n",
    "from compath_revolutions.mappings import *"
   ]
  },
  {
   "cell_type": "code",
   "execution_count": 15,
   "metadata": {
    "collapsed": true
   },
   "outputs": [],
   "source": [
    "# List of WikiPathways ids from June 2018 (When ComPath mappings were first established)\n",
    "wp_outdated_ids = {'WP23', 'WP2333', 'WP2509', 'WP3891', 'WP1604', 'WP536', 'WP3596', 'WP106', 'WP4149', 'WP437', 'WP466', 'WP4022', 'WP1533', 'WP3915', 'WP707', 'WP3941', 'WP2431', 'WP136', 'WP1602', 'WP696', 'WP4141', 'WP195', 'WP2361', 'WP3585', 'WP3286', 'WP304', 'WP560', 'WP3633', 'WP1531', 'WP1981', 'WP98', 'WP3407', 'WP2447', 'WP734', 'WP53', 'WP1984', 'WP2249', 'WP619', 'WP3893', 'WP368', 'WP2849', 'WP3580', 'WP1742', 'WP4159', 'WP3859', 'WP3871', 'WP2276', 'WP706', 'WP2369', 'WP4018', 'WP1545', 'WP3529', 'WP3876', 'WP2059', 'WP2203', 'WP3640', 'WP167', 'WP313', 'WP26', 'WP15', 'WP405', 'WP399', 'WP100', 'WP3413', 'WP3971', 'WP2291', 'WP127', 'WP1991', 'WP2456', 'WP1982', 'WP1589', 'WP455', 'WP2328', 'WP2865', 'WP3929', 'WP3584', 'WP306', 'WP2012', 'WP2572', 'WP698', 'WP1992', 'WP411', 'WP3658', 'WP2290', 'WP3656', 'WP262', 'WP2879', 'WP1603', 'WP3595', 'WP3646', 'WP3599', 'WP134', 'WP2338', 'WP111', 'WP3298', 'WP3300', 'WP2324', 'WP3967', 'WP80', 'WP107', 'WP697', 'WP3982', 'WP35', 'WP2848', 'WP3863', 'WP1559', 'WP366', 'WP2516', 'WP75', 'WP585', 'WP623', 'WP694', 'WP3611', 'WP3630', 'WP357', 'WP2355', 'WP501', 'WP3678', 'WP410', 'WP3844', 'WP3672', 'WP3634', 'WP2064', 'WP688', 'WP384', 'WP1455', 'WP2036', 'WP4030', 'WP2884', 'WP3303', 'WP2267', 'WP34', 'WP4142', 'WP78', 'WP2371', 'WP2118', 'WP3301', 'WP2113', 'WP1941', 'WP2840', 'WP2491', 'WP1424', 'WP497', 'WP438', 'WP561', 'WP241', 'WP3969', 'WP3287', 'WP534', 'WP289', 'WP2875', 'WP3624', 'WP3877', 'WP2507', 'WP272', 'WP733', 'WP481', 'WP692', 'WP2916', 'WP732', 'WP3943', 'WP2513', 'WP299', 'WP2453', 'WP4016', 'WP2034', 'WP710', 'WP704', 'WP288', 'WP477', 'WP2881', 'WP2363', 'WP3', 'WP205', 'WP465', 'WP2846', 'WP3627', 'WP1422', 'WP545', 'WP244', 'WP2536', 'WP236', 'WP3875', 'WP3945', 'WP237', 'WP3947', 'WP690', 'WP3297', 'WP430', 'WP678', 'WP2870', 'WP3935', 'WP3878', 'WP1425', 'WP2645', 'WP51', 'WP3414', 'WP4204', 'WP2828', 'WP1530', 'WP3664', 'WP3958', 'WP3892', 'WP2029', 'WP3617', 'WP3931', 'WP4008', 'WP3676', 'WP3872', 'WP3924', 'WP49', 'WP3635', 'WP496', 'WP3934', 'WP61', 'WP3644', 'WP3998', 'WP2637', 'WP391', 'WP3845', 'WP2857', 'WP2878', 'WP4147', 'WP383', 'WP3926', 'WP699', 'WP3849', 'WP3942', 'WP28', 'WP716', 'WP2526', 'WP1539', 'WP2874', 'WP3930', 'WP1449', 'WP521', 'WP2112', 'WP3851', 'WP2374', 'WP2190', 'WP3853', 'WP2911', 'WP2038', 'WP2876', 'WP3850', 'WP3925', 'WP268', 'WP2643', 'WP3858', 'WP3879', 'WP2858', 'WP1528', 'WP185', 'WP2805', 'WP3527', 'WP2855', 'WP2806', 'WP3865', 'WP58', 'WP3670', 'WP2889', 'WP311', 'WP702', 'WP3946', 'WP3679', 'WP1541', 'WP2853', 'WP2533', 'WP3657', 'WP422', 'WP500', 'WP143', 'WP382', 'WP2816', 'WP3959', 'WP322', 'WP2366', 'WP1600', 'WP2037', 'WP2866', 'WP1434', 'WP1946', 'WP3594', 'WP524', 'WP4156', 'WP2943', 'WP3674', 'WP197', 'WP2035', 'WP1591', 'WP229', 'WP1601', 'WP2272', 'WP3408', 'WP3944', 'WP2873', 'WP3972', 'WP176', 'WP3613', 'WP615', 'WP3933', 'WP2868', 'WP2436', 'WP4155', 'WP3927', 'WP1544', 'WP2597', 'WP45', 'WP1971', 'WP661', 'WP117', 'WP1403', 'WP691', 'WP2583', 'WP3655', 'WP1471', 'WP3995', 'WP2261', 'WP4153', 'WP183', 'WP528', 'WP453', 'WP3680', 'WP334', 'WP22', 'WP408', 'WP474', 'WP2854', 'WP2485', 'WP558', 'WP179', 'WP2197', 'WP129', 'WP43', 'WP254', 'WP2636', 'WP364', 'WP170', 'WP1584', 'WP400', 'WP2007', 'WP3938', 'WP2586', 'WP231', 'WP404', 'WP1772', 'WP1438', 'WP2895', 'WP2289', 'WP2018', 'WP531', 'WP428', 'WP3593', 'WP2542', 'WP712', 'WP314', 'WP516', 'WP47', 'WP3869', 'WP2646', 'WP1995', 'WP2446', 'WP2011', 'WP554', 'WP2406', 'WP3651', 'WP3981', 'WP2032', 'WP2795', 'WP3874', 'WP581', 'WP2864', 'WP3302', 'WP2942', 'WP2359', 'WP2380', 'WP325', 'WP4217', 'WP12', 'WP3937', 'WP24', 'WP3601', 'WP1433', 'WP4150', 'WP138', 'WP3963', 'WP2826', 'WP4148', 'WP3645', 'WP550', 'WP4249', 'WP3614', 'WP4146', 'WP3612', 'WP2525', 'WP530', 'WP186', 'WP3668', 'WP3996', 'WP673', 'WP2332', 'WP206', 'WP2877', 'WP3932', 'WP395', 'WP363', 'WP286', 'WP2023', 'WP727', 'WP69', 'WP2596', 'WP3940', 'WP247', 'WP3888', 'WP1423', 'WP4258', 'WP4263', 'WP4172', 'WP4174', 'WP4255', 'WP4262', 'WP4186', 'WP4191', 'WP4136', 'WP4194', 'WP4197', 'WP4205', 'WP4206', 'WP4210', 'WP4211', 'WP4216', 'WP4220', 'WP3965', 'WP4222', 'WP4223', 'WP4225', 'WP4224', 'WP4228', 'WP4233', 'WP4239', 'WP4241', 'WP4240', 'WP4284'}"
   ]
  },
  {
   "cell_type": "code",
   "execution_count": 3,
   "metadata": {},
   "outputs": [
    {
     "data": {
      "text/plain": [
       "443"
      ]
     },
     "execution_count": 3,
     "metadata": {},
     "output_type": "execute_result"
    }
   ],
   "source": [
    "len(wp_outdated_ids)"
   ]
  },
  {
   "cell_type": "code",
   "execution_count": 4,
   "metadata": {
    "collapsed": true
   },
   "outputs": [],
   "source": [
    "wikipathways_manager = WikipathwaysManager()"
   ]
  },
  {
   "cell_type": "code",
   "execution_count": 5,
   "metadata": {},
   "outputs": [
    {
     "data": {
      "text/plain": [
       "510"
      ]
     },
     "execution_count": 5,
     "metadata": {},
     "output_type": "execute_result"
    }
   ],
   "source": [
    "wikipathways_manager.count_pathways()"
   ]
  },
  {
   "cell_type": "code",
   "execution_count": 32,
   "metadata": {
    "collapsed": true
   },
   "outputs": [],
   "source": [
    "wp_pathways = wikipathways_manager.get_all_pathways()\n",
    "\n",
    "wp_updated_tuple = [\n",
    "    (pathway.name, pathway.resource_id)\n",
    "    for pathway in wp_pathways\n",
    "]\n",
    "\n",
    "wp_updated_ids = set(\n",
    "    [pathway[1]\n",
    "    for pathway in wp_updated_tuple]\n",
    ")"
   ]
  },
  {
   "cell_type": "markdown",
   "metadata": {},
   "source": [
    "Difference between new WP ids and the old ones"
   ]
  },
  {
   "cell_type": "code",
   "execution_count": 33,
   "metadata": {
    "collapsed": true
   },
   "outputs": [],
   "source": [
    "new_wp_pathways = wp_updated_ids - wp_outdated_ids"
   ]
  },
  {
   "cell_type": "code",
   "execution_count": 53,
   "metadata": {},
   "outputs": [
    {
     "name": "stdout",
     "output_type": "stream",
     "text": [
      "FABP4 in ovarian cancer WP4400\n",
      "\n",
      "Mammary gland development pathway - Embryonic development (Stage 1 of 4) WP2813\n",
      "\n",
      "MicroRNA network associated with chronic lymphocytic leukemia WP4399\n",
      "\n",
      "Model for regulation of MSMP expression in cancer cells and its proangiogenic role in ovarian tumors WP4397\n",
      "\n",
      "miRNAs involvement in the immune response in sepsis WP4329\n",
      "\n",
      "Nuclear Receptors Meta-Pathway WP2882\n",
      "\n",
      "Mammary gland development pathway - Pregnancy and lactation (Stage 3 of 4) WP2817\n",
      "\n",
      "let-7 inhibition of ES cell reprogramming WP3299\n",
      "\n",
      "Ethanol metabolism resulting in production of ROS by CYP2E1 WP4269\n",
      "\n",
      "Metabolism of Dichloroethylene by CYP450 WP3666\n",
      "\n",
      "Sleep regulation WP3591\n",
      "\n",
      "Neovascularisation processes WP4331\n",
      "\n",
      "Supression of HMGB1 mediated inflammation by THBD WP4479\n",
      "\n",
      "ncRNAs involved in STAT3 signaling in hepatocellular carcinoma WP4337\n",
      "\n",
      "Mammary gland development pathway - Involution (Stage 4 of 4) WP2815\n",
      "\n",
      "Aripiprazole Metabolic Pathway WP2640\n",
      "\n",
      "ncRNAs involved in Wnt signaling in hepatocellular carcinoma WP4336\n",
      "\n",
      "Non-genomic actions of 1,25 dihydroxyvitamin D3 WP4341\n",
      "\n",
      "Mammary gland development pathway - Puberty (Stage 2 of 4) WP2814\n",
      "\n",
      "Vitamins A and D - action mechanisms WP4342\n",
      "\n",
      "Glycine Metabolism WP1495\n",
      "\n",
      "Cells and Molecules involved in local acute inflammatory response WP4493\n",
      "\n",
      "Ciliary landscape WP4352\n",
      "\n",
      "Extracellular vesicles in the crosstalk of cardiac cells WP4300\n",
      "\n",
      "Lamin A-processing pathway WP4299\n",
      "\n",
      "Inhibition of exosome biogenesis and secretion by Manumycin A in CRPC cells WP4301\n",
      "\n",
      "Metabolic reprogramming in colon cancer WP4290\n",
      "\n",
      "Methionine metabolism leading to Sulphur Amino Acids and related disorders WP4292\n",
      "\n",
      "Mevalonate arm of cholesterol biosynthesis pathway with inhibitors WP4189\n",
      "\n",
      "Resistin as a regulator of inflammation WP4481\n",
      "\n",
      "Thermogenesis WP4321\n",
      "\n",
      "Metabolic pathway of LDL, HDL and TG, including diseases WP4522\n",
      "\n",
      "The alternative pathway of fetal androgen synthesis WP4524\n",
      "\n",
      "Oxysterols derived from cholesterol WP4545\n",
      "\n",
      "MTHFR deficiency WP4288\n",
      "\n",
      "The effect of progerin on the involved genes in Hutchinson-Gilford Progeria Syndrome WP4320\n",
      "\n",
      "Role Altered Glycolysation of MUC1 in Tumour Microenvironment WP4480\n",
      "\n",
      "Rett syndrome causing genes WP4312\n",
      "\n",
      "Genotoxicity pathway WP4286\n",
      "\n",
      "NRF2-ARE regulation WP4357\n",
      "\n",
      "Ferroptosis WP4313\n",
      "\n",
      "Disorders of the Krebs cycle WP4236\n",
      "\n",
      "Vitamin D in inflammatory diseases WP4482\n",
      "\n",
      "Thiamine metabolic pathways WP4297\n",
      "\n",
      "Oligodendrocyte Specification and differentiation(including remyelination), leading to Myelin Components for CNS WP4304\n",
      "\n",
      "Viral Acute Myocarditis WP4298\n",
      "\n",
      "Disorders of Folate Metabolism and Transport WP4259\n",
      "\n",
      "Vitamin B12 Disorders WP4271\n",
      "\n",
      "Mitochondrial complex I assembly model OXPHOS system WP4324\n",
      "\n",
      "Cysteine and methionine catabolism WP4504\n",
      "\n",
      "IL-10 Anti-inflammatory Signaling Pathway WP4495\n",
      "\n",
      " Selective expression of chemokine receptors during T-cell polarization%WikiPathways\n",
      "\n",
      "Molybdenum cofactor (Moco) biosynthesis WP4507\n",
      "\n",
      "Bile Acids synthesis and enterohepatic circulation WP4389\n",
      "\n",
      "Signal transduction through IL1R WP4496\n",
      "\n",
      "Tyrosine Metabolism WP4506\n",
      "\n",
      "Nonalcoholic fatty liver disease WP4396\n",
      "\n",
      "Platelet-mediated interactions with vascular and circulating cells WP4462\n",
      "\n",
      "Cerebral Organic Acidurias, including diseases WP4519\n",
      "\n",
      "Gamma-Glutamyl Cycle for the biosynthesis and degradation of glutathione, including diseases WP4518\n",
      "\n",
      "Glycosylation and related congenital defects. WP4521\n",
      "\n",
      "Classical pathway of steroidogenesis, including diseases WP4523\n",
      "\n",
      "Hippo-Yap signaling pathway WP4537\n",
      "\n",
      "Synaptic signaling pathways associated with autism spectrum disorder WP4539\n",
      "\n",
      "Hippo-Merlin Signaling Dysregulation WP4541\n",
      "\n",
      "Transcription co-factors SKI and SKIL protein partners WP4533\n",
      "\n",
      "Genes related to primary cilium development (based on CRISPR) WP4536\n",
      "\n",
      "Intraflagellar transport proteins binding to dynein WP4532\n",
      "\n",
      "Mechanoregulation and pathology of YAP/TAZ via Hippo and non-Hippo mechanisms WP4534\n",
      "\n",
      "Pathways Regulating Hippo Signaling WP4540\n",
      "\n"
     ]
    }
   ],
   "source": [
    "for pathway, identifier in wp_updated_tuple:\n",
    "    if identifier not in new_wp_pathways:\n",
    "        continue\n",
    "        \n",
    "    print(pathway, identifier)        "
   ]
  }
 ],
 "metadata": {
  "kernelspec": {
   "display_name": "Python 3",
   "language": "python",
   "name": "python3"
  },
  "language_info": {
   "codemirror_mode": {
    "name": "ipython",
    "version": 3
   },
   "file_extension": ".py",
   "mimetype": "text/x-python",
   "name": "python",
   "nbconvert_exporter": "python",
   "pygments_lexer": "ipython3",
   "version": "3.6.2"
  }
 },
 "nbformat": 4,
 "nbformat_minor": 2
}
