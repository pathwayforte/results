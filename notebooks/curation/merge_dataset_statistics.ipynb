{
 "cells": [
  {
   "cell_type": "markdown",
   "metadata": {},
   "source": [
    "# Merge dataset statistics\n",
    "\n",
    "This notebooks calculate simple statistics of the merge dataset"
   ]
  },
  {
   "cell_type": "code",
   "execution_count": 1,
   "metadata": {
    "collapsed": true
   },
   "outputs": [],
   "source": [
    "import os"
   ]
  },
  {
   "cell_type": "code",
   "execution_count": 2,
   "metadata": {},
   "outputs": [],
   "source": [
    "HERE = os.path.dirname(os.path.realpath('__file__'))\n",
    "\n",
    "PROJECT_PATH = os.path.join(os.path.abspath(os.path.join(HERE, os.pardir)))\n",
    "MERGE_DATASET = os.path.join(os.path.abspath(os.path.join(PROJECT_PATH, os.pardir)), 'input', 'gmt_files', 'merged_geneset_final.gmt')"
   ]
  },
  {
   "cell_type": "code",
   "execution_count": 3,
   "metadata": {},
   "outputs": [],
   "source": [
    "counter_kegg = 0\n",
    "counter_reactome = 0\n",
    "counter_wp = 0\n",
    "counter_equivalent = 0\n",
    "counter_super_pathways = 0\n",
    "\n",
    "with open(MERGE_DATASET, \"r\") as merge_file:\n",
    "    \n",
    "    for line in merge_file.readlines():\n",
    "        if 'kegg' in line:\n",
    "            counter_kegg += 1\n",
    "            \n",
    "        if 'reactome' in line:\n",
    "            counter_reactome += 1\n",
    "            \n",
    "        if 'wikipathways' in line:\n",
    "            counter_wp += 1\n",
    "            \n",
    "        if '|' in line:\n",
    "            counter_equivalent += 1\n",
    "            \n",
    "        if line.count('|') > 2:\n",
    "            counter_super_pathways += 1       "
   ]
  },
  {
   "cell_type": "code",
   "execution_count": 4,
   "metadata": {},
   "outputs": [
    {
     "name": "stdout",
     "output_type": "stream",
     "text": [
      "Number of KEGG pathways: 329\n",
      "Number of Reactome pathways: 2216\n",
      "Number of WikiPathways pathways: 504\n",
      "Number of equivalent pathways: 129\n",
      "Number of Super pathways: 26\n"
     ]
    }
   ],
   "source": [
    "print(f'Number of KEGG pathways: {counter_kegg}')\n",
    "print(f'Number of Reactome pathways: {counter_reactome}')\n",
    "print(f'Number of WikiPathways pathways: {counter_wp}')\n",
    "print(f'Number of Equivalent pathways: {counter_equivalent}')\n",
    "print(f'Number of Super pathways: {counter_super_pathways}')"
   ]
  }
 ],
 "metadata": {
  "kernelspec": {
   "display_name": "Python 3",
   "language": "python",
   "name": "python3"
  },
  "language_info": {
   "codemirror_mode": {
    "name": "ipython",
    "version": 3
   },
   "file_extension": ".py",
   "mimetype": "text/x-python",
   "name": "python",
   "nbconvert_exporter": "python",
   "pygments_lexer": "ipython3",
   "version": "3.6.2"
  }
 },
 "nbformat": 4,
 "nbformat_minor": 2
}
